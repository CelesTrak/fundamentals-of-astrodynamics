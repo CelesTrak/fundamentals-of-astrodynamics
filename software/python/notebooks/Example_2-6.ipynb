{
 "cells": [
  {
   "cell_type": "markdown",
   "id": "e88ae6e2-cfef-48f3-bde0-e94966fdf760",
   "metadata": {},
   "source": [
    "# Example 2-6: Finding Position and Velocity Vectors with `coe2rv`\n",
    "### _Fundamentals of Astrodynamics and Applications_, 5th Ed., 2022, p. 121-122"
   ]
  },
  {
   "cell_type": "markdown",
   "id": "fcad6860-fb3d-433f-b9bb-ce11c672d9f4",
   "metadata": {},
   "source": [
    "This notebook demonstrates converting orbital elements into position and velocity vectors."
   ]
  },
  {
   "cell_type": "markdown",
   "id": "96830f74-0f53-4ebd-bb9e-2cf55431fa24",
   "metadata": {},
   "source": [
    "## Install and Import Libraries\n",
    "---"
   ]
  },
  {
   "cell_type": "markdown",
   "id": "8d6c4e11-3453-4b92-b831-f9ba21889bd4",
   "metadata": {},
   "source": [
    "First, install `valladopy` if it doesn't already exist in your environment:"
   ]
  },
  {
   "cell_type": "code",
   "execution_count": 1,
   "id": "0d8856ad-63b7-4715-a231-5b2716b498c7",
   "metadata": {},
   "outputs": [
    {
     "name": "stdout",
     "output_type": "stream",
     "text": [
      "Requirement already satisfied: valladopy==0.3.0 in /opt/anaconda3/envs/vallado-env/lib/python3.12/site-packages (from -r valladopy_version.txt (line 1)) (0.3.0)\n",
      "Requirement already satisfied: numpy==1.26.4 in /opt/anaconda3/envs/vallado-env/lib/python3.12/site-packages (from valladopy==0.3.0->-r valladopy_version.txt (line 1)) (1.26.4)\n",
      "Requirement already satisfied: pydantic==2.9.2 in /opt/anaconda3/envs/vallado-env/lib/python3.12/site-packages (from valladopy==0.3.0->-r valladopy_version.txt (line 1)) (2.9.2)\n",
      "Requirement already satisfied: scipy==1.13.1 in /opt/anaconda3/envs/vallado-env/lib/python3.12/site-packages (from valladopy==0.3.0->-r valladopy_version.txt (line 1)) (1.13.1)\n",
      "Requirement already satisfied: annotated-types>=0.6.0 in /opt/anaconda3/envs/vallado-env/lib/python3.12/site-packages (from pydantic==2.9.2->valladopy==0.3.0->-r valladopy_version.txt (line 1)) (0.7.0)\n",
      "Requirement already satisfied: pydantic-core==2.23.4 in /opt/anaconda3/envs/vallado-env/lib/python3.12/site-packages (from pydantic==2.9.2->valladopy==0.3.0->-r valladopy_version.txt (line 1)) (2.23.4)\n",
      "Requirement already satisfied: typing-extensions>=4.6.1 in /opt/anaconda3/envs/vallado-env/lib/python3.12/site-packages (from pydantic==2.9.2->valladopy==0.3.0->-r valladopy_version.txt (line 1)) (4.12.2)\n"
     ]
    }
   ],
   "source": [
    "!pip install -r valladopy_version.txt"
   ]
  },
  {
   "cell_type": "markdown",
   "id": "ea3e14db-b67f-4ddf-aa09-2a367d9f4c46",
   "metadata": {},
   "source": [
    "Then import the relevant modules:"
   ]
  },
  {
   "cell_type": "code",
   "execution_count": 2,
   "id": "64e6a388-b740-4f2c-a61d-209cd039e39a",
   "metadata": {},
   "outputs": [],
   "source": [
    "import numpy as np\n",
    "from valladopy.astro.twobody.frame_conversions import coe2rv"
   ]
  },
  {
   "cell_type": "markdown",
   "id": "b859b605-1477-48b2-93d6-de3a9bd86175",
   "metadata": {},
   "source": [
    "## Problem Definition\n",
    "---"
   ]
  },
  {
   "cell_type": "markdown",
   "id": "1ce574a5-4034-47c8-8215-71ec3b6207aa",
   "metadata": {},
   "source": [
    "GIVEN:$\\quad p = 11,067.79$ km, $e = 0.83285$, $i = 87.87^\\circ$, $\\Omega = 227.89^\\circ$, $\\omega = 53.38^\\circ$, $\\nu = 92.335^\\circ$<br>\n",
    "FIND: $\\quad\\overrightarrow{r}_{IJK}$, $\\overrightarrow{v}_{IJK}$"
   ]
  },
  {
   "cell_type": "code",
   "execution_count": 3,
   "id": "60f07a6f-5a9d-4493-b776-73ddae334698",
   "metadata": {},
   "outputs": [],
   "source": [
    "p = 11067.79               # semiparameter, km\n",
    "ecc = 0.83285              # eccentricity\n",
    "incl = np.radians(87.87)   # inclination, rad\n",
    "raan = np.radians(227.89)  # RAAN, rad\n",
    "argp = np.radians(53.38)   # argument of periapsis, rad\n",
    "nu = np.radians(92.335)    # true anomaly, rad"
   ]
  },
  {
   "cell_type": "markdown",
   "id": "2c2c2c1d-017f-46ce-8d7f-af5e5024991f",
   "metadata": {},
   "source": [
    "## Solution\n",
    "---"
   ]
  },
  {
   "cell_type": "markdown",
   "id": "fdf82306-f4db-43a4-b68a-e36e75eb7d76",
   "metadata": {},
   "source": [
    "**Algorithm 10** outlines the process for converting classical orbit elements to state vectors. \n",
    "\n",
    "We first find the position and velocity vectors in the perifocal frame:\n",
    "\n",
    "$$\n",
    "\\vec{r}_{PQW} = \\begin{bmatrix}\n",
    "\\displaystyle\\frac{p\\cos(\\nu)}{1 + e\\cos(\\nu)} \\\\\n",
    "\\displaystyle\\frac{p\\sin(\\nu)}{1 + e\\cos(\\nu)} \\\\\n",
    "0\n",
    "\\end{bmatrix}\n",
    ",\n",
    "\\quad\n",
    "\\vec{v}_{PQW} = \\begin{bmatrix}\n",
    "\\displaystyle-\\sqrt{\\frac{\\mu}{p}}\\sin(\\nu) \\\\\n",
    "\\displaystyle\\sqrt{\\frac{\\mu}{p}}(e + \\cos(\\nu)) \\\\\n",
    "0\n",
    "\\end{bmatrix}\n",
    "$$\n",
    "\n",
    "keeping in mind the conditions for setting $\\omega$, $\\Omega$, and $\\nu$ based on the orbit type for special orbits (equatorial or circular), though this given orbit does not have special cases.\n",
    "\n",
    "Then rotate these vectors to the geocentric equatorial system (IJK) using three successive rotation matrices or the transformation matrix:\n",
    "\n",
    "$$\n",
    "\\vec{r}_{IJK} = \\left[ \\text{ROT3}(-\\Omega) \\right] \\left[ \\text{ROT1}(-i) \\right]\\left[ \\text{ROT3}(-\\omega) \\right]\\vec{r}_{PQW} = \\left[ \\frac{IJK}{PQW}\\right]\\vec{r}_{PQW}\n",
    "$$\n",
    "\n",
    "$$\n",
    "\\vec{v}_{IJK} = \\left[ \\text{ROT3}(-\\Omega) \\right] \\left[ \\text{ROT1}(-i) \\right]\\left[ \\text{ROT3}(-\\omega) \\right]\\vec{v}_{PQW} = \\left[ \\frac{IJK}{PQW}\\right]\\vec{v}_{PQW}\n",
    "$$\n",
    "\n",
    "where:\n",
    "\n",
    "$$\n",
    "\\left[ \\frac{IJK}{PQW}\\right] = \\begin{bmatrix}\n",
    "\\cos(\\Omega)\\cos(\\omega) - \\sin(\\Omega)\\sin(\\omega)\\cos(i) & -\\cos(\\Omega)\\sin(\\omega) - \\sin(\\Omega)\\cos(\\omega)\\cos(i) & \\sin(\\Omega)\\sin(i) \\\\\n",
    "\\sin(\\Omega)\\cos(\\omega) + \\cos(\\Omega)\\sin(\\omega)\\cos(i) & -\\sin(\\Omega)\\sin(\\omega) + \\cos(\\Omega)\\cos(\\omega)\\cos(i) & -\\cos(\\Omega)\\sin(i) \\\\\n",
    "\\sin(\\omega)\\sin(i) & \\cos(\\omega)\\sin(i) & \\cos(i)\n",
    "\\end{bmatrix}\n",
    "$$\n",
    "\n",
    "We can call the `coe2rv` routine to accomplish this:"
   ]
  },
  {
   "cell_type": "code",
   "execution_count": 4,
   "id": "72925a7f-c180-4d73-b538-d0757ee620d3",
   "metadata": {},
   "outputs": [
    {
     "name": "stdout",
     "output_type": "stream",
     "text": [
      "r:\t[6525.36812099 6861.5318349  6449.11861416]\tkm\n",
      "v:\t[ 4.90227864  5.53313957 -1.9757101 ]\t\tkm/s\n"
     ]
    }
   ],
   "source": [
    "r, v = coe2rv(p, ecc, incl, raan, argp, nu)\n",
    "\n",
    "print(f'r:\\t{r}\\tkm')\n",
    "print(f'v:\\t{v}\\t\\tkm/s')"
   ]
  },
  {
   "cell_type": "markdown",
   "id": "011ba711-b7ab-45fd-a907-ba1cb3baab7c",
   "metadata": {},
   "source": [
    "You will notice that these state vectors are nearly the same as the ones given in **Example 2-5**, since this is the reverse transformation of that problem."
   ]
  }
 ],
 "metadata": {
  "kernelspec": {
   "display_name": "Python (Vallado Env)",
   "language": "python",
   "name": "vallado-env"
  },
  "language_info": {
   "codemirror_mode": {
    "name": "ipython",
    "version": 3
   },
   "file_extension": ".py",
   "mimetype": "text/x-python",
   "name": "python",
   "nbconvert_exporter": "python",
   "pygments_lexer": "ipython3",
   "version": "3.12.2"
  }
 },
 "nbformat": 4,
 "nbformat_minor": 5
}
