{
 "cells": [
  {
   "cell_type": "markdown",
   "id": "6b9a3b13-5e19-4114-9ab5-7e75da4ac50a",
   "metadata": {},
   "source": [
    "# Example 3-7: Calculating Dynamical Time\n",
    "### _Fundamentals of Astrodynamics and Applications_, 5th Ed., 2022, p. 196-198"
   ]
  },
  {
   "cell_type": "markdown",
   "id": "b645266b-e1d5-4b7d-be1c-642f3f7690fd",
   "metadata": {},
   "source": [
    "This notebook demonstrates converting a UTC time to various time systems."
   ]
  },
  {
   "cell_type": "markdown",
   "id": "1d56393b-83d0-4c14-a7de-b29c68b62a52",
   "metadata": {},
   "source": [
    "## Install and Import Libraries\n",
    "---"
   ]
  },
  {
   "cell_type": "markdown",
   "id": "0ec9ea20-7a4f-4a64-a3ab-31bda32c6374",
   "metadata": {},
   "source": [
    "First, install `valladopy` if it doesn't already exist in your environment:"
   ]
  },
  {
   "cell_type": "code",
   "execution_count": 1,
   "id": "6e632bb0-05d5-450d-8ce1-3ab2f8e2b17e",
   "metadata": {},
   "outputs": [
    {
     "name": "stdout",
     "output_type": "stream",
     "text": [
      "Requirement already satisfied: valladopy in /opt/anaconda3/envs/vallado-env/lib/python3.12/site-packages (0.2.0)\n",
      "Requirement already satisfied: numpy==1.26.4 in /opt/anaconda3/envs/vallado-env/lib/python3.12/site-packages (from valladopy) (1.26.4)\n",
      "Requirement already satisfied: pydantic==2.9.2 in /opt/anaconda3/envs/vallado-env/lib/python3.12/site-packages (from valladopy) (2.9.2)\n",
      "Requirement already satisfied: scipy==1.13.1 in /opt/anaconda3/envs/vallado-env/lib/python3.12/site-packages (from valladopy) (1.13.1)\n",
      "Requirement already satisfied: annotated-types>=0.6.0 in /opt/anaconda3/envs/vallado-env/lib/python3.12/site-packages (from pydantic==2.9.2->valladopy) (0.7.0)\n",
      "Requirement already satisfied: pydantic-core==2.23.4 in /opt/anaconda3/envs/vallado-env/lib/python3.12/site-packages (from pydantic==2.9.2->valladopy) (2.23.4)\n",
      "Requirement already satisfied: typing-extensions>=4.6.1 in /opt/anaconda3/envs/vallado-env/lib/python3.12/site-packages (from pydantic==2.9.2->valladopy) (4.12.2)\n"
     ]
    }
   ],
   "source": [
    "!pip install valladopy"
   ]
  },
  {
   "cell_type": "markdown",
   "id": "a4d22a11-4195-49c4-9cec-86d650a1615c",
   "metadata": {},
   "source": [
    "Install `pandas` for visual data display:"
   ]
  },
  {
   "cell_type": "code",
   "execution_count": 2,
   "id": "76465539-257e-4b62-a1f6-b0086a637302",
   "metadata": {},
   "outputs": [
    {
     "name": "stdout",
     "output_type": "stream",
     "text": [
      "Requirement already satisfied: pandas in /opt/anaconda3/envs/vallado-env/lib/python3.12/site-packages (2.2.3)\n",
      "Requirement already satisfied: numpy>=1.26.0 in /opt/anaconda3/envs/vallado-env/lib/python3.12/site-packages (from pandas) (1.26.4)\n",
      "Requirement already satisfied: python-dateutil>=2.8.2 in /opt/anaconda3/envs/vallado-env/lib/python3.12/site-packages (from pandas) (2.9.0.post0)\n",
      "Requirement already satisfied: pytz>=2020.1 in /opt/anaconda3/envs/vallado-env/lib/python3.12/site-packages (from pandas) (2025.2)\n",
      "Requirement already satisfied: tzdata>=2022.7 in /opt/anaconda3/envs/vallado-env/lib/python3.12/site-packages (from pandas) (2025.2)\n",
      "Requirement already satisfied: six>=1.5 in /opt/anaconda3/envs/vallado-env/lib/python3.12/site-packages (from python-dateutil>=2.8.2->pandas) (1.16.0)\n"
     ]
    }
   ],
   "source": [
    "!pip install pandas"
   ]
  },
  {
   "cell_type": "markdown",
   "id": "51d5aa12-64cf-4a23-99eb-8a892abce674",
   "metadata": {},
   "source": [
    "Import libraries:"
   ]
  },
  {
   "cell_type": "code",
   "execution_count": 3,
   "id": "3093846c-2085-4d93-a29f-6dbfd279fcdb",
   "metadata": {},
   "outputs": [],
   "source": [
    "import pandas as pd\n",
    "from datetime import timedelta\n",
    "from IPython.display import HTML, display\n",
    "from valladopy.mathtime.julian_date import convtime"
   ]
  },
  {
   "cell_type": "markdown",
   "id": "f145fb29-66c5-458d-bd9a-ee89e47481ac",
   "metadata": {},
   "source": [
    "## Problem Definition\n",
    "---"
   ]
  },
  {
   "cell_type": "markdown",
   "id": "12337d5a-91f2-4c8c-84f3-9d4e29428d73",
   "metadata": {},
   "source": [
    "GIVEN: &ensp;May 14, 2004, 10:43 Mountain Standard Time (UTC based)<br>\n",
    "FIND: &emsp;$UT1$, $TAI$, $GPS$, $TT$, $TDB$, $T_{UT1}$, $T_{TT}$, $T_{TDB}$"
   ]
  },
  {
   "cell_type": "code",
   "execution_count": 4,
   "id": "9f98b88f-e63e-4acf-9a0e-0e01a1529bb9",
   "metadata": {},
   "outputs": [],
   "source": [
    "year = 2004\n",
    "month = 5\n",
    "day = 14\n",
    "hour = 10\n",
    "minute = 43\n",
    "second = 0"
   ]
  },
  {
   "cell_type": "markdown",
   "id": "cfbf72a4-cb29-4245-8916-0f88cf6b7abc",
   "metadata": {},
   "source": [
    "## Solution\n",
    "---"
   ]
  },
  {
   "cell_type": "markdown",
   "id": "bb4d2e2e-5b26-4f46-b96b-7ed8b48afe31",
   "metadata": {},
   "source": [
    "We first find the time zone offset from UTC. **Table 3-2** summarizes the UTC offsets for selected time zones:\n",
    "\n",
    "| Time Zone          | Standard   | Daylight Savings | Central Meridian |\n",
    "|--------------------|------------|------------------|------------------|\n",
    "| Atlantic           | UTC − 4ʰ   | UTC − 3ʰ         | −60°             |\n",
    "| Eastern            | UTC − 5ʰ   | UTC − 4ʰ         | −75°             |\n",
    "| Mountain           | UTC − 7ʰ   | UTC − 6ʰ         | −105°            |\n",
    "| Alaska             | UTC − 9ʰ   | UTC − 8ʰ         | −135°            |\n",
    "| Hawaii             | UTC − 10ʰ  |                  | −150°            |\n",
    "| Central European   | UTC + 1ʰ   | UTC + 2ʰ         | 10°              |\n",
    "| Moscow             | UTC + 4ʰ   |                  | 40°              |\n",
    "| China              | UTC + 8ʰ   |                  | 100°             |\n",
    "| Japan              | UTC + 9ʰ   |                  | 140°             |\n",
    "| Australian Eastern | UTC + 10ʰ  | UTC + 11ʰ        | 146°             |\n",
    "\n",
    "Since the date falls during Daylight Savings Time, the UTC offset is $6$ hours:"
   ]
  },
  {
   "cell_type": "code",
   "execution_count": 5,
   "id": "74652f5b-690f-4068-83fe-9e6a8cbfaad4",
   "metadata": {},
   "outputs": [],
   "source": [
    "timezone = 6  # Mountain time, hours offset from UTC during daylight savings"
   ]
  },
  {
   "cell_type": "markdown",
   "id": "7d8f01ee-cf99-4396-8dcf-73051fd53912",
   "metadata": {},
   "source": [
    "We can then obtain the cumulative number of leap seconds added to UTC, $\\Delta AT$, from the *Astronomic Almanac*:\n",
    "\n",
    "$$\n",
    "\\Delta AT = 32.0^{\\text{S}}\n",
    "$$\n",
    "\n",
    "The historical list of leap seconds can also be found [here](https://maia.usno.navy.mil/ser7/tai-utc.dat)."
   ]
  },
  {
   "cell_type": "code",
   "execution_count": 6,
   "id": "e81ba858-30df-4dc8-9df8-afdf3f5bf844",
   "metadata": {},
   "outputs": [],
   "source": [
    "dat = 32  # seconds"
   ]
  },
  {
   "cell_type": "markdown",
   "id": "9297c93e-6d50-4da2-9ede-36bb0391bea1",
   "metadata": {},
   "source": [
    "$\\Delta UT1$ is observed and isn't listed directly; it can be obtained from the USNO's IERS [final data](https://maia.usno.navy.mil/ser7/finals.all):"
   ]
  },
  {
   "cell_type": "code",
   "execution_count": 7,
   "id": "39aed280-f563-471b-8d13-34a18b1135a0",
   "metadata": {},
   "outputs": [],
   "source": [
    "dut1 = -0.463326  # seconds"
   ]
  },
  {
   "cell_type": "markdown",
   "id": "5e1e27f8-4154-45c7-8ce7-1cf42be3aedf",
   "metadata": {},
   "source": [
    "**Algorithm 16** summarizes the process for converting to different time systems.\n",
    "\n",
    "First we calculate UT1, the form of Universal Time that reflects the Earth's actual rotation:\n",
    "\n",
    "$$\n",
    "UT1 = UTC + \\Delta UT1\n",
    "$$\n",
    "\n",
    "where UTC is the Coordinated Universal Time and $\\Delta UT1$ is the difference between UT1 and UTC, published by the IERS to account for variations in Earth's rotation.\n",
    "\n",
    "Next we find the atomic time:\n",
    "$$\n",
    "TAI = UTC + \\Delta AT\n",
    "$$\n",
    "\n",
    "GPS time can then be calculated with:\n",
    "\n",
    "$$\n",
    "GPS = UTC + \\Delta AT - 19^{\\text{s}} = TAI - 19^{\\text{s}}\n",
    "$$\n",
    "\n",
    "Dynamical time is then:\n",
    "\n",
    "$$\n",
    "TT = TAI + 32.184^{\\text{s}}\n",
    "$$\n",
    "\n",
    "The Julian centuries of TT can be found using **Eq. 3-43**:\n",
    "\n",
    "$$\n",
    "T_{TT} = \\frac{JD_{TT}-2,451,545.0}{36,525}\n",
    "$$\n",
    "\n",
    "where the Julian date of TT ($JD_{TT}$) can be found from the given TT time in $DMYHMS$.\n",
    "\n",
    "Then, the barycentric time is found with:\n",
    "\n",
    "$$\n",
    "\\begin{aligned}\n",
    "\\text{TDB} = \\text{TT}\n",
    "&+ 0.001\\,657^{\\text{S}} \\sin(628.3076\\, T_{TT} + 6.2401) \\\\\n",
    "&+ 0.000\\,022 \\sin(575.3385\\, T_{TT} + 4.2970) \\\\\n",
    "&+ 0.000\\,014 \\sin(1256.6152\\, T_{TT} + 6.1969) \\\\\n",
    "&+ 0.000\\,005 \\sin(606.9777\\, T_{TT} + 4.0212) \\\\\n",
    "&+ 0.000\\,005 \\sin(52.9691\\, T_{TT} + 0.4444) \\\\\n",
    "&+ 0.000\\,002 \\sin(21.3299\\, T_{TT} + 5.5431) \\\\\n",
    "&+ 0.000\\,010\\, T_{TT} \\sin(628.3076\\, T_{TT} + 4.2490)\n",
    "\\end{aligned}\n",
    "$$\n",
    "\n",
    "Finally, the Julian centuries of TDB is:\n",
    "\n",
    "$$\n",
    "T_{TDB} = \\frac{JD_{TDB}-2,451,545.0}{36,525}\n",
    "$$\n",
    "\n",
    "and for UT1:\n",
    "\n",
    "$$\n",
    "T_{UT1} = \\frac{JD_{UT1}-2,451,545.0}{36,525}\n",
    "$$\n",
    "\n",
    "\n",
    "where the Julian dates TDB ($JD_{TDB}$) and UT1 ($JD_{UT1}$) are found from their respective times\n",
    "\n",
    "Use the `convtime` routine to find all these quantities:"
   ]
  },
  {
   "cell_type": "code",
   "execution_count": 8,
   "id": "63dc77cb-f355-4a9b-9efa-a953ae22e42a",
   "metadata": {},
   "outputs": [
    {
     "data": {
      "text/html": [
       "<table border=\"1\" class=\"dataframe\">\n",
       "  <thead>\n",
       "    <tr style=\"text-align: right;\">\n",
       "      <th>Time System</th>\n",
       "      <th>Time (hh:mm:ss)</th>\n",
       "    </tr>\n",
       "  </thead>\n",
       "  <tbody>\n",
       "    <tr>\n",
       "      <td>UTC</td>\n",
       "      <td>16:43:00</td>\n",
       "    </tr>\n",
       "    <tr>\n",
       "      <td>UT1</td>\n",
       "      <td>16:42:59.536674</td>\n",
       "    </tr>\n",
       "    <tr>\n",
       "      <td>TAI</td>\n",
       "      <td>16:43:32</td>\n",
       "    </tr>\n",
       "    <tr>\n",
       "      <td>GPS</td>\n",
       "      <td>16:43:13</td>\n",
       "    </tr>\n",
       "    <tr>\n",
       "      <td>TT</td>\n",
       "      <td>16:44:04.184000</td>\n",
       "    </tr>\n",
       "    <tr>\n",
       "      <td>TDB</td>\n",
       "      <td>16:44:04.185238</td>\n",
       "    </tr>\n",
       "  </tbody>\n",
       "</table>"
      ],
      "text/plain": [
       "<IPython.core.display.HTML object>"
      ]
     },
     "metadata": {},
     "output_type": "display_data"
    },
    {
     "name": "stdout",
     "output_type": "stream",
     "text": [
      "\n",
      "Julian centuries from J2000.0:\n",
      "TUT1:  0.043674100545\n",
      "TTT:   0.043674121031\n",
      "TTDB:  0.043674121031\n"
     ]
    }
   ],
   "source": [
    "ut1, tut1, jdut1, jdut1frac, utc, tai, tt, ttt, jdtt, jdttfrac, tdb, ttdb, jdtdb, jdtdbfrac = convtime(\n",
    "    year, month, day, hour, minute, second, timezone, dut1, dat\n",
    ")\n",
    "gps = tai - 19\n",
    "\n",
    "time_summary = pd.DataFrame({\n",
    "    \"Time System\": [\"UTC\", \"UT1\", \"TAI\", \"GPS\", \"TT\", \"TDB\"],\n",
    "    \"Time (hh:mm:ss)\": [\n",
    "        str(timedelta(seconds=utc)),\n",
    "        str(timedelta(seconds=ut1)),\n",
    "        str(timedelta(seconds=tai)),\n",
    "        str(timedelta(seconds=gps)),\n",
    "        str(timedelta(seconds=tt)),\n",
    "        str(timedelta(seconds=tdb)),\n",
    "    ]\n",
    "})\n",
    "\n",
    "display(HTML(time_summary.to_html(index=False)))\n",
    "print(\"\\nJulian centuries from J2000.0:\")\n",
    "print(f'{\"TUT1:\":<6} {tut1:.12f}')\n",
    "print(f'{\"TTT:\":<6} {ttt:.12f}')\n",
    "print(f'{\"TTDB:\":<6} {ttdb:.12f}')"
   ]
  }
 ],
 "metadata": {
  "kernelspec": {
   "display_name": "Python (Vallado Env)",
   "language": "python",
   "name": "vallado-env"
  },
  "language_info": {
   "codemirror_mode": {
    "name": "ipython",
    "version": 3
   },
   "file_extension": ".py",
   "mimetype": "text/x-python",
   "name": "python",
   "nbconvert_exporter": "python",
   "pygments_lexer": "ipython3",
   "version": "3.12.2"
  }
 },
 "nbformat": 4,
 "nbformat_minor": 5
}
