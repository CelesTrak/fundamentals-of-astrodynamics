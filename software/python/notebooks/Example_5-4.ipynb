{
 "cells": [
  {
   "cell_type": "markdown",
   "id": "64686731-4f57-4742-99aa-10ecae43b078",
   "metadata": {},
   "source": [
    "# Example 5-4: Calculating Moonrise-Moonset Times\n",
    "### _Fundamentals of Astrodynamics and Applications_, 5th Ed., 2022, p. 298-300"
   ]
  },
  {
   "cell_type": "markdown",
   "id": "180e4951-3900-40f5-8f1c-704ac8ed6a9b",
   "metadata": {},
   "source": [
    "This notebook demonstrates calculating the moonrise and moonset times given a date and site location."
   ]
  },
  {
   "cell_type": "markdown",
   "id": "60055a6d-a9b1-4573-9278-ba4f9b90396a",
   "metadata": {},
   "source": [
    "## Install and Import Libraries\n",
    "---"
   ]
  },
  {
   "cell_type": "markdown",
   "id": "b5e9db36-44ba-43bd-9071-30585b3a6d38",
   "metadata": {},
   "source": [
    "First, install `valladopy` if it doesn't already exist in your environment:"
   ]
  },
  {
   "cell_type": "code",
   "execution_count": 1,
   "id": "4f06cef8-9440-4863-b788-6ab5d4409cb7",
   "metadata": {},
   "outputs": [
    {
     "name": "stdout",
     "output_type": "stream",
     "text": [
      "Requirement already satisfied: valladopy==0.4.1 in /opt/anaconda3/envs/vallado-env/lib/python3.12/site-packages (0.4.1)\n",
      "Requirement already satisfied: numpy==1.26.4 in /opt/anaconda3/envs/vallado-env/lib/python3.12/site-packages (from valladopy==0.4.1) (1.26.4)\n",
      "Requirement already satisfied: pydantic==2.9.2 in /opt/anaconda3/envs/vallado-env/lib/python3.12/site-packages (from valladopy==0.4.1) (2.9.2)\n",
      "Requirement already satisfied: scipy==1.13.1 in /opt/anaconda3/envs/vallado-env/lib/python3.12/site-packages (from valladopy==0.4.1) (1.13.1)\n",
      "Requirement already satisfied: annotated-types>=0.6.0 in /opt/anaconda3/envs/vallado-env/lib/python3.12/site-packages (from pydantic==2.9.2->valladopy==0.4.1) (0.7.0)\n",
      "Requirement already satisfied: pydantic-core==2.23.4 in /opt/anaconda3/envs/vallado-env/lib/python3.12/site-packages (from pydantic==2.9.2->valladopy==0.4.1) (2.23.4)\n",
      "Requirement already satisfied: typing-extensions>=4.6.1 in /opt/anaconda3/envs/vallado-env/lib/python3.12/site-packages (from pydantic==2.9.2->valladopy==0.4.1) (4.12.2)\n"
     ]
    }
   ],
   "source": [
    "!pip install valladopy==0.4.1"
   ]
  },
  {
   "cell_type": "markdown",
   "id": "fb43c6be-8904-4657-9a7c-38c0583a2dd5",
   "metadata": {},
   "source": [
    "Import `numpy` and the relevant `valladopy` modules:"
   ]
  },
  {
   "cell_type": "code",
   "execution_count": 2,
   "id": "092c73b8-e254-4dd2-90de-391f062c7bf2",
   "metadata": {},
   "outputs": [],
   "source": [
    "import numpy as np\n",
    "import valladopy.constants as const\n",
    "from valladopy.astro.celestial import moon\n",
    "from valladopy.mathtime.julian_date import jday\n",
    "from valladopy.mathtime.utils import sec2hms"
   ]
  },
  {
   "cell_type": "markdown",
   "id": "1b11e035-a76b-426b-aa29-48047580e433",
   "metadata": {},
   "source": [
    "## Problem Definition\n",
    "---"
   ]
  },
  {
   "cell_type": "markdown",
   "id": "b8df6ef8-3151-4a06-9351-80ace54af109",
   "metadata": {},
   "source": [
    "GIVEN:&ensp;Site at $40^{\\circ}\\text{N}$, $0^{\\circ}\\text{E}$ on August 21, 1998<br>\n",
    "FIND: &emsp;Moonrise and moonset times"
   ]
  },
  {
   "cell_type": "code",
   "execution_count": 3,
   "id": "60aea474-e6a2-40dd-b4af-38b0d7544191",
   "metadata": {},
   "outputs": [],
   "source": [
    "year = 1998\n",
    "month = 8\n",
    "day = 21\n",
    "latgd = np.radians(40)\n",
    "lon = 0"
   ]
  },
  {
   "cell_type": "markdown",
   "id": "b33ad596-1ffe-46d8-a6d9-7e89bfb657c2",
   "metadata": {},
   "source": [
    "## Solution\n",
    "---"
   ]
  },
  {
   "cell_type": "markdown",
   "id": "c9e8a6de-9228-42e3-a036-dc265ccd60ad",
   "metadata": {},
   "source": [
    "We begin by finding the Julian Date using **Algorithm 14**:\n",
    "\n",
    "$$\n",
    "JD = 367(yr)\n",
    "- \\text{INT}\\left\\{ \\frac{7\\left\\{ yr + \\text{INT} \\left( \\frac{mo + 9}{12} \\right) \\right\\}}{4} \\right\\}\n",
    "+ \\text{INT}\\left( \\frac{275\\,mo}{9} \\right)\n",
    "+ d + 1{,}721{,}013.5\n",
    "+ \\frac{h\\,3600 + min\\,60 + s}{86400}\n",
    "$$\n",
    "\n",
    "Which is done with the `jday` routine:"
   ]
  },
  {
   "cell_type": "code",
   "execution_count": 4,
   "id": "9fbcdcae-4cdc-47d8-bdea-69df0f90ac7a",
   "metadata": {},
   "outputs": [
    {
     "name": "stdout",
     "output_type": "stream",
     "text": [
      "Julian Date:\t2451046.5\n"
     ]
    }
   ],
   "source": [
    "jd, jdfrac = jday(year, month, day)\n",
    "\n",
    "print(f'Julian Date:\\t{jd + jdfrac}')"
   ]
  },
  {
   "cell_type": "markdown",
   "id": "7ce39731-b96f-4ce3-91bc-78c34c7202b3",
   "metadata": {},
   "source": [
    "**Algorithm 32** shows the process for calculating moonrise and moonset times separately.\n",
    "\n",
    "Begin by finding the Julian dates of the moonrise and moonset occurrences, using the JD at $0^{\\text{h}}$:\n",
    "\n",
    "$$\n",
    "\\begin{aligned}\n",
    "JD_{moonrise} &= JD_{0^{\\text{h}}} + 6/24 - \\lambda/360 \\\\\n",
    "\\\\\n",
    "JD_{moonset} &= JD_{0^{\\text{h}}} + 18/24 - \\lambda/360\n",
    "\\end{aligned}\n",
    "$$\n",
    "\n",
    "Find the Julian centuries of TDB (letting $TDB \\cong TT$):\n",
    "\n",
    "$$\n",
    "T_{TDB} = \\frac{JD_{TDB} - 2,\\!451,\\!545.0}{36,\\!525}\n",
    "$$\n",
    "\n",
    "Then, find the ecliptic longitude and latitude of the moon:\n",
    "\n",
    "$$\n",
    "\\begin{align*}\n",
    "\\lambda_{\\text{ecliptic ☾}} &= 218.32^\\circ + 481,\\!267.8813\\,T_{TDB} \\\\\n",
    "&\\quad + 6.29 \\sin(134.9^\\circ + 477,\\!198.85\\,T_{TDB}) \\\\\n",
    "&\\quad - 1.27 \\sin(259.2^\\circ - 413,\\!335.38\\,T_{TDB}) \\\\\n",
    "&\\quad + 0.66 \\sin(235.7^\\circ + 890,\\!534.23\\,T_{TDB}) \\\\\n",
    "&\\quad + 0.21 \\sin(269.9^\\circ + 954,\\!397.70\\,T_{TDB}) \\\\\n",
    "&\\quad - 0.19 \\sin(357.5^\\circ + 35,\\!999.05\\,T_{TDB}) \\\\\n",
    "&\\quad - 0.11 \\sin(186.6^\\circ + 966,\\!404.05\\,T_{TDB})\n",
    "\\end{align*}\n",
    "$$\n",
    "\n",
    "$$\n",
    "\\begin{align*}\n",
    "\\phi_{\\text{ecliptic ☾}} &= 5.13^\\circ \\sin(93.3^\\circ + 483,\\!202.03\\,T_{TDB}) \\\\\n",
    "&\\quad + 0.28 \\sin(228.2^\\circ + 960,\\!400.87\\,T_{TDB}) \\\\\n",
    "&\\quad - 0.28 \\sin(318.3^\\circ + 6003.18\\,T_{TDB}) \\\\\n",
    "&\\quad - 0.17 \\sin(217.6^\\circ - 407,\\!332.20\\,T_{TDB})\n",
    "\\end{align*}\n",
    "$$\n",
    "\n",
    "The obliquity of the ecliptic can be approximated as:\n",
    "\n",
    "$$\n",
    "\\epsilon = 23.439291^{\\circ} - 0.013004 \\ T_{TDB} \\ \\cong \\ 23.439291^{\\circ} - 0.013004 \\ T_{UT1}\n",
    "$$\n",
    "\n",
    "The direction cosines are:\n",
    "\n",
    "$$\n",
    "\\begin{align*}\n",
    "l &= \\cos(\\phi_{\\text{ecliptic ☾}})\\cos(\\lambda_{\\text{ecliptic ☾}}) \\\\\n",
    "m &= \\cos(\\epsilon)\\cos(\\phi_{\\text{ecliptic ☾}})\\sin(\\lambda_{\\text{ecliptic ☾}})\n",
    "     - \\sin(\\epsilon)\\sin(\\phi_{\\text{ecliptic ☾}}) \\\\\n",
    "n &= \\sin(\\epsilon)\\cos(\\phi_{\\text{ecliptic ☾}})\\sin(\\lambda_{\\text{ecliptic ☾}})\n",
    "     + \\cos(\\epsilon)\\sin(\\phi_{\\text{ecliptic ☾}})\n",
    "\\end{align*}\n",
    "$$\n",
    "\n",
    "\n",
    "And obtain the right ascension and declination with:\n",
    "\n",
    "$$\n",
    "\\begin{align*}\n",
    "\\alpha_c &= \\operatorname{atan2}(m,\\, l) \\\\\n",
    "\\sin(\\delta_c) &= n\n",
    "\\end{align*}\n",
    "$$\n",
    "\n",
    "Page 297 of **Algorithm 32** outlines the remaining steps in the loop to ultimately determine the universal times for moonrise and moonset.\n",
    "\n",
    "All of this is encompassed in the `moon.rise_set` routine, which returns the moonrise and moonset universal times in **hours**:"
   ]
  },
  {
   "cell_type": "code",
   "execution_count": 5,
   "id": "54cb4aa2-7e60-4929-8d7a-2f5949b44f0f",
   "metadata": {},
   "outputs": [
    {
     "name": "stdout",
     "output_type": "stream",
     "text": [
      "Sunrise:\t4 hr,\t31 min,\t7.6768 sec\n",
      "Sunset:\t\t18 hr,\t31 min,\t5.1069 sec\n"
     ]
    }
   ],
   "source": [
    "moonrise, moonset, _ = moon.rise_set(jd + jdfrac, latgd, lon)\n",
    "\n",
    "# Convert to HMS format:\n",
    "moonrise_hms = sec2hms(moonrise * const.HR2SEC)\n",
    "moonset_hms = sec2hms(moonset * const.HR2SEC)\n",
    "\n",
    "print(f'Sunrise:\\t{moonrise_hms[0]} hr,\\t{moonrise_hms[1]} min,\\t{moonrise_hms[2]:.4f} sec')\n",
    "print(f'Sunset:\\t\\t{moonset_hms[0]} hr,\\t{moonset_hms[1]} min,\\t{moonset_hms[2]:.4f} sec')"
   ]
  },
  {
   "cell_type": "markdown",
   "id": "668c3ccb-9a2d-44d1-a5d2-d849854feecb",
   "metadata": {},
   "source": [
    "These values are close to those found in the Almanac (1998)."
   ]
  }
 ],
 "metadata": {
  "kernelspec": {
   "display_name": "Python (Vallado Env)",
   "language": "python",
   "name": "vallado-env"
  },
  "language_info": {
   "codemirror_mode": {
    "name": "ipython",
    "version": 3
   },
   "file_extension": ".py",
   "mimetype": "text/x-python",
   "name": "python",
   "nbconvert_exporter": "python",
   "pygments_lexer": "ipython3",
   "version": "3.12.2"
  }
 },
 "nbformat": 4,
 "nbformat_minor": 5
}
