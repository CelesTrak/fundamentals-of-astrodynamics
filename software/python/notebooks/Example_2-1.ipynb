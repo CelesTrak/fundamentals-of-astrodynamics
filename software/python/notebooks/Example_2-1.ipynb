{
 "cells": [
  {
   "cell_type": "markdown",
   "id": "78dd1c5e-c549-461b-aba4-05fb360866bf",
   "metadata": {},
   "source": [
    "# Example 2-1: Using Kepler's Equation\n",
    "### _Fundamentals of Astrodynamics and Applications_, 5th Ed., 2022, p. 66-68"
   ]
  },
  {
   "cell_type": "markdown",
   "id": "7c8a2348-e5b7-4097-960b-8076b48890cd",
   "metadata": {},
   "source": [
    "This notebook demonstrates finding the eccentric anomaly given the mean anomaly and eccentricity."
   ]
  },
  {
   "cell_type": "markdown",
   "id": "d7b1b2d4-73b2-4fb8-8111-ee43a250609d",
   "metadata": {},
   "source": [
    "## Install and Import Libraries\n",
    "---"
   ]
  },
  {
   "cell_type": "markdown",
   "id": "c7de5909-2dc3-4196-bffb-9427f0966c22",
   "metadata": {},
   "source": [
    "First, install `valladopy` if it doesn't already exist in your environment:"
   ]
  },
  {
   "cell_type": "code",
   "execution_count": 1,
   "id": "1aeb4e2c-8e93-4732-9ff3-74518643cfa4",
   "metadata": {},
   "outputs": [
    {
     "name": "stdout",
     "output_type": "stream",
     "text": [
      "Requirement already satisfied: valladopy in /opt/anaconda3/envs/vallado-env/lib/python3.12/site-packages (0.2.0)\n",
      "Requirement already satisfied: numpy==1.26.4 in /opt/anaconda3/envs/vallado-env/lib/python3.12/site-packages (from valladopy) (1.26.4)\n",
      "Requirement already satisfied: pydantic==2.9.2 in /opt/anaconda3/envs/vallado-env/lib/python3.12/site-packages (from valladopy) (2.9.2)\n",
      "Requirement already satisfied: scipy==1.13.1 in /opt/anaconda3/envs/vallado-env/lib/python3.12/site-packages (from valladopy) (1.13.1)\n",
      "Requirement already satisfied: annotated-types>=0.6.0 in /opt/anaconda3/envs/vallado-env/lib/python3.12/site-packages (from pydantic==2.9.2->valladopy) (0.7.0)\n",
      "Requirement already satisfied: pydantic-core==2.23.4 in /opt/anaconda3/envs/vallado-env/lib/python3.12/site-packages (from pydantic==2.9.2->valladopy) (2.23.4)\n",
      "Requirement already satisfied: typing-extensions>=4.6.1 in /opt/anaconda3/envs/vallado-env/lib/python3.12/site-packages (from pydantic==2.9.2->valladopy) (4.12.2)\n"
     ]
    }
   ],
   "source": [
    "!pip install valladopy"
   ]
  },
  {
   "cell_type": "markdown",
   "id": "ebd8e7a7-cb9c-462d-866a-59789f8cc05e",
   "metadata": {},
   "source": [
    "Then import `numpy` and the relevant `valladopy` module:"
   ]
  },
  {
   "cell_type": "code",
   "execution_count": 2,
   "id": "588e51d6-ba65-4cca-a317-4e1d83218aa0",
   "metadata": {},
   "outputs": [],
   "source": [
    "import numpy as np\n",
    "from valladopy.astro.twobody.newton import newtonm"
   ]
  },
  {
   "cell_type": "markdown",
   "id": "2d5aced6-c148-49c4-903e-b84bb1592629",
   "metadata": {},
   "source": [
    "## Problem Definition\n",
    "---"
   ]
  },
  {
   "cell_type": "markdown",
   "id": "15114bab-f469-4adf-9684-06c6a9b239a2",
   "metadata": {},
   "source": [
    "GIVEN: $M = 235.4^\\circ$, $e = 0.4$  \n",
    "FIND: $E$"
   ]
  },
  {
   "cell_type": "code",
   "execution_count": 3,
   "id": "9fb40259-7c9c-4a73-9fad-54e5c5f50761",
   "metadata": {},
   "outputs": [],
   "source": [
    "m = np.radians(235.4)  # mean anomaly, rad\n",
    "ecc = 0.4              # eccentricity"
   ]
  },
  {
   "cell_type": "markdown",
   "id": "8f631030-be5b-4115-b63e-e1d8e2a9c37c",
   "metadata": {},
   "source": [
    "## Solution\n",
    "---"
   ]
  },
  {
   "cell_type": "markdown",
   "id": "923b8773-e403-486c-8cb4-dade36a917bd",
   "metadata": {},
   "source": [
    "Using Algorithm 2, we begin by letting:\n",
    "\n",
    "$$\n",
    "E_{n} = M - e\n",
    "$$\n",
    "\n",
    "and iterating with:\n",
    "\n",
    "$$\n",
    "E_{n+1} = E_{n} + \\frac{M - E_{n} + e\\sin(E_{n})}{1 - e\\cos(E_{n})}\n",
    "$$\n",
    "<br>\n",
    "until the difference between $E_{n}$ and $E_{n+1}$ is sufficiently small.\n",
    "\n",
    "We can leverage the `newtonm` function (which also finds the true anomaly) to accomplish this:"
   ]
  },
  {
   "cell_type": "code",
   "execution_count": 4,
   "id": "1ecc1879-c092-4262-ab45-4ca7335c85d0",
   "metadata": {},
   "outputs": [
    {
     "name": "stdout",
     "output_type": "stream",
     "text": [
      "Eccentric anomaly:\t3.8487\trad\n",
      "\t\t\t220.51\tdeg\n",
      "\n",
      "True anomaly:\t\t-2.6675\trad\n",
      "\t\t\t-152.84\tdeg\n"
     ]
    }
   ],
   "source": [
    "e0, nu = newtonm(ecc, m)\n",
    "\n",
    "print(f'Eccentric anomaly:\\t{e0:.4f}\\trad')\n",
    "print(f'\\t\\t\\t{np.degrees(e0):.2f}\\tdeg\\n')\n",
    "print(f'True anomaly:\\t\\t{nu:.4f}\\trad')\n",
    "print(f'\\t\\t\\t{np.degrees(nu):.2f}\\tdeg')"
   ]
  },
  {
   "cell_type": "markdown",
   "id": "64f55593-0f68-4387-9be2-4269d82522c5",
   "metadata": {},
   "source": [
    "You can optionally set the max iterations by including the `n_iter` option, which defaults to 50 iterations, e.g.:\n",
    "```\n",
    "e0 = newtonm(ecc, m, n_iter=100)\n",
    "```"
   ]
  },
  {
   "cell_type": "markdown",
   "id": "b9fa08ee-2a95-47c1-be71-f389c0d2a98e",
   "metadata": {},
   "source": [
    "To see how quickly the process converges, we can set the iteration value in a `for` loop:"
   ]
  },
  {
   "cell_type": "code",
   "execution_count": 5,
   "id": "98253f40-ff95-4908-9c87-7d463c7c821a",
   "metadata": {},
   "outputs": [
    {
     "name": "stdout",
     "output_type": "stream",
     "text": [
      "Iteration\tE_n+1 (rad)\t\tE_n+1 - E_n (rad)\n",
      "-----------------------------------------------------------------\n",
      "1\t\t3.846971106002646\t1.384660e-01\n",
      "2\t\t3.848661460814596\t1.690355e-03\n",
      "3\t\t3.8486617450971616\t2.842826e-07\n",
      "4\t\t3.8486617450971616\t0.000000e+00\n"
     ]
    }
   ],
   "source": [
    "print('Iteration\\tE_n+1 (rad)\\t\\tE_n+1 - E_n (rad)')\n",
    "print('-----------------------------------------------------------------')\n",
    "e0_init = m - ecc\n",
    "for i in range(4):\n",
    "    n_iter = i + 1\n",
    "    e0, _ = newtonm(ecc, m, n_iter=n_iter)\n",
    "    print(f'{n_iter}\\t\\t{e0}\\t{(e0 - e0_init):e}')\n",
    "    e0_init = e0"
   ]
  }
 ],
 "metadata": {
  "kernelspec": {
   "display_name": "Python (Vallado Env)",
   "language": "python",
   "name": "vallado-env"
  },
  "language_info": {
   "codemirror_mode": {
    "name": "ipython",
    "version": 3
   },
   "file_extension": ".py",
   "mimetype": "text/x-python",
   "name": "python",
   "nbconvert_exporter": "python",
   "pygments_lexer": "ipython3",
   "version": "3.12.2"
  }
 },
 "nbformat": 4,
 "nbformat_minor": 5
}
