{
 "cells": [
  {
   "cell_type": "markdown",
   "id": "fc537ab8-d1fe-4563-a524-5f5c4cc98322",
   "metadata": {},
   "source": [
    "# Example 3-2: Finding Station Coordinates\n",
    "### _Fundamentals of Astrodynamics and Applications_, 5th Ed., 2022, p. 146"
   ]
  },
  {
   "cell_type": "markdown",
   "id": "3a415463-6fd2-4595-a40a-d69a53fd3555",
   "metadata": {},
   "source": [
    "This notebook demonstrates finding the geodetic and geocentric position vectors for a site given its geodetic latitude, longitude, and height."
   ]
  },
  {
   "cell_type": "markdown",
   "id": "54024d75-e841-46bd-9191-794841c05469",
   "metadata": {},
   "source": [
    "## Install and Import Libraries\n",
    "---"
   ]
  },
  {
   "cell_type": "markdown",
   "id": "ca573475-b291-4de9-9448-d67ec208c3d9",
   "metadata": {},
   "source": [
    "First, install `valladopy` if it doesn't already exist in your environment:"
   ]
  },
  {
   "cell_type": "code",
   "execution_count": 1,
   "id": "50200e6d-e8ac-49c2-9e1e-fea40b8de0ec",
   "metadata": {},
   "outputs": [
    {
     "name": "stdout",
     "output_type": "stream",
     "text": [
      "Requirement already satisfied: valladopy==0.3.0 in /opt/anaconda3/envs/vallado-env/lib/python3.12/site-packages (from -r valladopy_version.txt (line 1)) (0.3.0)\n",
      "Requirement already satisfied: numpy==1.26.4 in /opt/anaconda3/envs/vallado-env/lib/python3.12/site-packages (from valladopy==0.3.0->-r valladopy_version.txt (line 1)) (1.26.4)\n",
      "Requirement already satisfied: pydantic==2.9.2 in /opt/anaconda3/envs/vallado-env/lib/python3.12/site-packages (from valladopy==0.3.0->-r valladopy_version.txt (line 1)) (2.9.2)\n",
      "Requirement already satisfied: scipy==1.13.1 in /opt/anaconda3/envs/vallado-env/lib/python3.12/site-packages (from valladopy==0.3.0->-r valladopy_version.txt (line 1)) (1.13.1)\n",
      "Requirement already satisfied: annotated-types>=0.6.0 in /opt/anaconda3/envs/vallado-env/lib/python3.12/site-packages (from pydantic==2.9.2->valladopy==0.3.0->-r valladopy_version.txt (line 1)) (0.7.0)\n",
      "Requirement already satisfied: pydantic-core==2.23.4 in /opt/anaconda3/envs/vallado-env/lib/python3.12/site-packages (from pydantic==2.9.2->valladopy==0.3.0->-r valladopy_version.txt (line 1)) (2.23.4)\n",
      "Requirement already satisfied: typing-extensions>=4.6.1 in /opt/anaconda3/envs/vallado-env/lib/python3.12/site-packages (from pydantic==2.9.2->valladopy==0.3.0->-r valladopy_version.txt (line 1)) (4.12.2)\n"
     ]
    }
   ],
   "source": [
    "!pip install -r valladopy_version.txt"
   ]
  },
  {
   "cell_type": "markdown",
   "id": "27acf891-6390-408b-a203-daf800916b36",
   "metadata": {},
   "source": [
    "Then import `numpy` and the relevant modules from `valladopy`:"
   ]
  },
  {
   "cell_type": "code",
   "execution_count": 2,
   "id": "8b377034-ef67-443f-932d-2c00a6e642ae",
   "metadata": {},
   "outputs": [],
   "source": [
    "import numpy as np\n",
    "import valladopy.constants as const\n",
    "from valladopy.astro.twobody.utils import site, gd2gc\n",
    "from valladopy.mathtime.utils import dms2rad"
   ]
  },
  {
   "cell_type": "markdown",
   "id": "bad450c8-2415-4e95-b5f8-f40e21d100d7",
   "metadata": {},
   "source": [
    "## Problem Definition\n",
    "---"
   ]
  },
  {
   "cell_type": "markdown",
   "id": "a595d278-1cae-4cd8-943b-79b55269c445",
   "metadata": {},
   "source": [
    "GIVEN: Ascension Island coordinates: $\\phi_{gd} = -7^\\circ\\ 54'\\ 23.886^{\\prime\\prime}$, $\\lambda = 345^\\circ\\ 35'\\ 51.000^{\\prime\\prime}$, $h_{ellp} = 56$ m<br> \n",
    "FIND: Position vectors"
   ]
  },
  {
   "cell_type": "code",
   "execution_count": 3,
   "id": "1da95b9a-d9e5-488e-9381-ff0a760c8385",
   "metadata": {},
   "outputs": [],
   "source": [
    "latgd_dms = (-7, -54, -23.886)  # geodetic latitude, (deg, min, sec)\n",
    "lon_dms = (345, 35, 51)         # longitude, (deg, min, sec)\n",
    "alt = 0.056                     # altitude, km"
   ]
  },
  {
   "cell_type": "markdown",
   "id": "334ed7c3-3bd2-4112-8a2d-a69a0742896d",
   "metadata": {},
   "source": [
    "## Solution\n",
    "---"
   ]
  },
  {
   "cell_type": "markdown",
   "id": "b9c195d3-41ec-45c1-a631-625eefd26305",
   "metadata": {},
   "source": [
    "First, we must find the decimal latitude and longitude values by converting units. We can leverage the `dms2rad` routine (an implementation of **Algorithm 17**) to accomplish this:"
   ]
  },
  {
   "cell_type": "code",
   "execution_count": 4,
   "id": "00e0b83f-9ccc-4faf-972c-8243e1c893a8",
   "metadata": {},
   "outputs": [
    {
     "name": "stdout",
     "output_type": "stream",
     "text": [
      "latgd:\t-7.9066\t\tdeg\n",
      "lon:\t345.5975\tdeg\n"
     ]
    }
   ],
   "source": [
    "latgd = dms2rad(*latgd_dms)  # geodetic latitude, rad\n",
    "lon = dms2rad(*lon_dms)      # longitude, rad\n",
    "\n",
    "print(f'latgd:\\t{np.degrees(latgd):.4f}\\t\\tdeg')\n",
    "print(f'lon:\\t{np.degrees(lon):.4f}\\tdeg')"
   ]
  },
  {
   "cell_type": "markdown",
   "id": "f3e24d06-32b9-4b58-8a24-8c12ceb47b0e",
   "metadata": {},
   "source": [
    "Using **Eq. 3-7**, we can find the two auxiliary quantities that are obtained from geometrical properties of an ellipse:\n",
    "\n",
    "\n",
    "$$\n",
    "C_{\\oplus} = \\frac{R_{\\oplus}}{\\sqrt{1 - e_{\\oplus}^2\\sin^2\\phi_{gd}}}, \\quad S_{\\oplus} = \\frac{R_{\\oplus}(1-e_{\\oplus}^2)}{\\sqrt{1 - e_{\\oplus}^2\\sin^2\\phi_{gd}}}\n",
    "$$"
   ]
  },
  {
   "cell_type": "code",
   "execution_count": 5,
   "id": "50e3f8d5-764a-4e47-a52f-ee2cb2c65f1a",
   "metadata": {},
   "outputs": [
    {
     "name": "stdout",
     "output_type": "stream",
     "text": [
      "cearth:\t6378.5403 km\n",
      "searth:\t6335.8399 km\n"
     ]
    }
   ],
   "source": [
    "cearth = const.RE / np.sqrt(1 - const.ECCEARTHSQRD * np.sin(latgd) ** 2)\n",
    "searth = cearth * (1 - const.ECCEARTHSQRD)\n",
    "\n",
    "print(f'cearth:\\t{cearth:.4f} km')\n",
    "print(f'searth:\\t{searth:.4f} km')"
   ]
  },
  {
   "cell_type": "markdown",
   "id": "efc55d7d-34ee-4ac3-a40c-bbec46a6465c",
   "metadata": {},
   "source": [
    "The geodetic position vector can then be found using **Eq. 3-14**:\n",
    "\n",
    "$$\n",
    "\\vec{r}_{IJK} = \\begin{bmatrix}\n",
    "(C_{\\oplus} + h_{ellp}) \\cos(\\phi_{gd}) \\cos{\\lambda} \\\\\n",
    "(C_{\\oplus} + h_{ellp}) \\cos(\\phi_{gd}) \\sin{\\lambda} \\\\\n",
    "(S_{\\oplus} + h_{ellp}) \\sin(\\phi_{gd})\n",
    "\\end{bmatrix}\n",
    "$$\n",
    "\n",
    "We can leverage the `site` routine to calculate this:"
   ]
  },
  {
   "cell_type": "code",
   "execution_count": 6,
   "id": "e406c43f-83b3-473f-b7e7-605566959bc6",
   "metadata": {},
   "outputs": [
    {
     "name": "stdout",
     "output_type": "stream",
     "text": [
      "r (geodetic):\t[ 6119.39959773 -1571.47938298  -871.56108524] km\n"
     ]
    }
   ],
   "source": [
    "r_gd, _ = site(latgd, lon, alt)\n",
    "\n",
    "print(f'r (geodetic):\\t{r_gd} km')"
   ]
  },
  {
   "cell_type": "markdown",
   "id": "123fb662-dea1-4195-9e79-bf841148f6b8",
   "metadata": {},
   "source": [
    "To get the geocentric position vector, we first convert the geodetic latitude to geocentric latitude using **Eq. 3-11**:\n",
    "\n",
    "$$\n",
    "\\tan(\\phi_{gc}) = (1 - e_{\\oplus}^2) \\tan(\\phi_{gd})\n",
    "$$\n",
    "\n",
    "Use the `gd2gc` routine for the conversion:"
   ]
  },
  {
   "cell_type": "code",
   "execution_count": 7,
   "id": "8e48cb04-1b7e-4787-b9da-ab4170303bc2",
   "metadata": {},
   "outputs": [
    {
     "name": "stdout",
     "output_type": "stream",
     "text": [
      "latgc:\t-7.8544 deg\n"
     ]
    }
   ],
   "source": [
    "latgc = gd2gc(latgd)  # geocentric latitude, rad\n",
    "\n",
    "print(f'latgc:\\t{np.degrees(latgc):.4f} deg')"
   ]
  },
  {
   "cell_type": "markdown",
   "id": "65eb430e-2d89-4bbf-b78c-fc318bedcaa7",
   "metadata": {},
   "source": [
    "Finally, use **Eq. 3-14** to find the geocentric position vector:\n",
    "\n",
    "$$\n",
    "\\vec{r}_{IJK} = \\lVert \\vec{r_{IJK}} \\rVert \\begin{bmatrix}\n",
    "\\cos(\\phi_{gc}) \\cos{\\lambda} \\\\\n",
    "\\cos(\\phi_{gc}) \\sin{\\lambda} \\\\\n",
    "\\sin(\\phi_{gc})\n",
    "\\end{bmatrix}\n",
    "$$"
   ]
  },
  {
   "cell_type": "code",
   "execution_count": 8,
   "id": "50d39622-224f-4c45-bfe6-20a8ac330b44",
   "metadata": {},
   "outputs": [
    {
     "name": "stdout",
     "output_type": "stream",
     "text": [
      "r (geocentric):\t[ 6119.39960449 -1571.47938472  -871.56103464] km\n"
     ]
    }
   ],
   "source": [
    "# Calculate the magitude of the geodetic position vector\n",
    "rmag = np.linalg.norm(r_gd)\n",
    "\n",
    "# Construct the geocentric position vector\n",
    "r_gc = rmag * np.array(\n",
    "    [\n",
    "        np.cos(latgc) * np.cos(lon),\n",
    "        np.cos(latgc) * np.sin(lon),\n",
    "        np.sin(latgc)\n",
    "    ]\n",
    ")\n",
    "\n",
    "print(f'r (geocentric):\\t{r_gc} km')"
   ]
  },
  {
   "cell_type": "markdown",
   "id": "e4569996-fdd6-4662-ab13-ce4792373cd1",
   "metadata": {},
   "source": [
    "The small difference between the two answers is from truncation errors, and these vectors are actually in an *Earth-fixed* frame."
   ]
  }
 ],
 "metadata": {
  "kernelspec": {
   "display_name": "Python (Vallado Env)",
   "language": "python",
   "name": "vallado-env"
  },
  "language_info": {
   "codemirror_mode": {
    "name": "ipython",
    "version": 3
   },
   "file_extension": ".py",
   "mimetype": "text/x-python",
   "name": "python",
   "nbconvert_exporter": "python",
   "pygments_lexer": "ipython3",
   "version": "3.12.2"
  }
 },
 "nbformat": 4,
 "nbformat_minor": 5
}
