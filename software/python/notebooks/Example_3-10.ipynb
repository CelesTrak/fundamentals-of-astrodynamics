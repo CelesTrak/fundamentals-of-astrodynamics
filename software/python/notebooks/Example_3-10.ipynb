{
 "cells": [
  {
   "cell_type": "markdown",
   "id": "41291ba0-4d4b-4b75-bdca-73260f1dc1f6",
   "metadata": {},
   "source": [
    "# Example 3-10: Converting HMS to Time of Day\n",
    "### _Fundamentals of Astrodynamics and Applications_, 5th Ed., 2022, p. 201"
   ]
  },
  {
   "cell_type": "markdown",
   "id": "5d23c939-355b-4c40-b300-953aa38bb4de",
   "metadata": {},
   "source": [
    "This notebook demonstrates converting the hour-minute-second (HMS) format to the time of day and vice-versa."
   ]
  },
  {
   "cell_type": "markdown",
   "id": "5334ae88-a175-454f-a2d0-fe99a0f8f47c",
   "metadata": {},
   "source": [
    "## Install and Import Libraries\n",
    "---"
   ]
  },
  {
   "cell_type": "markdown",
   "id": "ceb15a41-a6f5-43b8-8093-ad26417722f0",
   "metadata": {},
   "source": [
    "First, install `valladopy` if it doesn't already exist in your environment:"
   ]
  },
  {
   "cell_type": "code",
   "execution_count": 1,
   "id": "ecd9ea43-c87d-4c1f-aab0-9b5b566475fb",
   "metadata": {},
   "outputs": [
    {
     "name": "stdout",
     "output_type": "stream",
     "text": [
      "Requirement already satisfied: valladopy==0.3.0 in /opt/anaconda3/envs/vallado-env/lib/python3.12/site-packages (from -r valladopy_version.txt (line 1)) (0.3.0)\n",
      "Requirement already satisfied: numpy==1.26.4 in /opt/anaconda3/envs/vallado-env/lib/python3.12/site-packages (from valladopy==0.3.0->-r valladopy_version.txt (line 1)) (1.26.4)\n",
      "Requirement already satisfied: pydantic==2.9.2 in /opt/anaconda3/envs/vallado-env/lib/python3.12/site-packages (from valladopy==0.3.0->-r valladopy_version.txt (line 1)) (2.9.2)\n",
      "Requirement already satisfied: scipy==1.13.1 in /opt/anaconda3/envs/vallado-env/lib/python3.12/site-packages (from valladopy==0.3.0->-r valladopy_version.txt (line 1)) (1.13.1)\n",
      "Requirement already satisfied: annotated-types>=0.6.0 in /opt/anaconda3/envs/vallado-env/lib/python3.12/site-packages (from pydantic==2.9.2->valladopy==0.3.0->-r valladopy_version.txt (line 1)) (0.7.0)\n",
      "Requirement already satisfied: pydantic-core==2.23.4 in /opt/anaconda3/envs/vallado-env/lib/python3.12/site-packages (from pydantic==2.9.2->valladopy==0.3.0->-r valladopy_version.txt (line 1)) (2.23.4)\n",
      "Requirement already satisfied: typing-extensions>=4.6.1 in /opt/anaconda3/envs/vallado-env/lib/python3.12/site-packages (from pydantic==2.9.2->valladopy==0.3.0->-r valladopy_version.txt (line 1)) (4.12.2)\n"
     ]
    }
   ],
   "source": [
    "!pip install -r valladopy_version.txt"
   ]
  },
  {
   "cell_type": "markdown",
   "id": "76f5e0a4-f898-4b1c-bdf5-422436436861",
   "metadata": {},
   "source": [
    "Import the relevant `valladopy` modules:"
   ]
  },
  {
   "cell_type": "code",
   "execution_count": 2,
   "id": "78d5d3b4-d3eb-4c66-a8c8-2d95daa7c5ef",
   "metadata": {},
   "outputs": [],
   "source": [
    "from valladopy.mathtime.utils import hms2sec, sec2hms"
   ]
  },
  {
   "cell_type": "markdown",
   "id": "13af1844-7d74-4267-bac4-2b47d7721119",
   "metadata": {},
   "source": [
    "## Problem Definition\n",
    "---"
   ]
  },
  {
   "cell_type": "markdown",
   "id": "ee6a753a-2494-4a29-a774-7b9ca4987271",
   "metadata": {},
   "source": [
    "GIVEN: &ensp;$13^{\\text{h}}$, $22^{\\text{m}}$, $45.98^{\\text{s}}$<br>\n",
    "FIND: &emsp;$\\tau$"
   ]
  },
  {
   "cell_type": "code",
   "execution_count": 3,
   "id": "64919d7b-3426-469f-a272-05aab10473fc",
   "metadata": {},
   "outputs": [],
   "source": [
    "hour = 13\n",
    "minute = 22\n",
    "second = 45.98"
   ]
  },
  {
   "cell_type": "markdown",
   "id": "5f50204b-8e60-49bf-a6f5-ec907506bd17",
   "metadata": {},
   "source": [
    "## Solution\n",
    "---"
   ]
  },
  {
   "cell_type": "markdown",
   "id": "1b9952ed-ab79-4352-8264-aecdaf4ec6de",
   "metadata": {},
   "source": [
    "A simple formula is used to convert the time to elapsed seconds from the beginning of the day:\n",
    "\n",
    "$$\n",
    "\\tau = 3600 \\ h + 60 \\ min + s\n",
    "$$\n",
    "\n",
    "Call the `hms2sec` routine for the conversion:"
   ]
  },
  {
   "cell_type": "code",
   "execution_count": 4,
   "id": "2fcab7f0-b52f-46d3-bd1d-4d61447e1248",
   "metadata": {},
   "outputs": [
    {
     "name": "stdout",
     "output_type": "stream",
     "text": [
      "Elapsed seconds: 48165.98 sec\n"
     ]
    }
   ],
   "source": [
    "utsec = hms2sec(hour, minute, second)\n",
    "\n",
    "print(f'{\"Elapsed seconds:\":} {utsec} sec')"
   ]
  },
  {
   "cell_type": "markdown",
   "id": "6f8ac5da-1890-4bbe-89ba-a1cd0a19a7f9",
   "metadata": {},
   "source": [
    "**Algorithm 21** shows how to convert elapsed seconds to hour-minute-second (HMS) format:\n",
    "\n",
    "$$\n",
    "\\begin{aligned}\n",
    "Temp &= \\frac{\\tau}{3600} \\\\\n",
    "h &= \\text{TRUNC}(Temp) \\\\\n",
    "min &= \\text{TRUNC} \\left[ (Temp - h)\\ 60 \\right] \\\\\n",
    "s &= \\left[Temp - h - \\frac{min}{60} \\right]\\ 3600\n",
    "\\end{aligned}\n",
    "$$\n",
    "\n",
    "Call the `sec2hms` routine for the conversion:"
   ]
  },
  {
   "cell_type": "code",
   "execution_count": 5,
   "id": "3645bb0e-77c2-4908-9d35-7c5ee7149dce",
   "metadata": {},
   "outputs": [
    {
     "name": "stdout",
     "output_type": "stream",
     "text": [
      "hours:\t\t13\thr\n",
      "minutes:\t22\tmin\n",
      "seconds:\t45.98\tsec\n"
     ]
    }
   ],
   "source": [
    "hours, minutes, secs = sec2hms(utsec)\n",
    "\n",
    "print(f'{\"hours:\":}\\t\\t{hours}\\thr')\n",
    "print(f'{\"minutes:\":}\\t{minutes}\\tmin')\n",
    "print(f'{\"seconds:\":}\\t{secs:.6}\\tsec')"
   ]
  }
 ],
 "metadata": {
  "kernelspec": {
   "display_name": "Python (Vallado Env)",
   "language": "python",
   "name": "vallado-env"
  },
  "language_info": {
   "codemirror_mode": {
    "name": "ipython",
    "version": 3
   },
   "file_extension": ".py",
   "mimetype": "text/x-python",
   "name": "python",
   "nbconvert_exporter": "python",
   "pygments_lexer": "ipython3",
   "version": "3.12.2"
  }
 },
 "nbformat": 4,
 "nbformat_minor": 5
}
