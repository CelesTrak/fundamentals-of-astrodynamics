{
 "cells": [
  {
   "cell_type": "markdown",
   "id": "eb3c5d0b-f195-4e14-b6a0-5be2225890cc",
   "metadata": {},
   "source": [
    "# Example 3-4: Determining the Julian Date\n",
    "### _Fundamentals of Astrodynamics and Applications_, 5th Ed., 2022, p. 186"
   ]
  },
  {
   "cell_type": "markdown",
   "id": "0985bf8d-6448-4b07-b2b7-f20574ef199f",
   "metadata": {},
   "source": [
    "This notebook demonstrates finding the Julian Date given the UT date and time."
   ]
  },
  {
   "cell_type": "markdown",
   "id": "a6cb9f16-0274-4b09-901d-fd1cc9e034e5",
   "metadata": {},
   "source": [
    "## Install and Import Libraries\n",
    "---"
   ]
  },
  {
   "cell_type": "markdown",
   "id": "3a0d4010-2cd0-48ce-9c59-38ea007a6ca3",
   "metadata": {},
   "source": [
    "First, install `valladopy` if it doesn't already exist in your environment:"
   ]
  },
  {
   "cell_type": "code",
   "execution_count": 1,
   "id": "1f7535ab-869b-4bcc-baad-78bb1a5d0df2",
   "metadata": {},
   "outputs": [
    {
     "name": "stdout",
     "output_type": "stream",
     "text": [
      "Requirement already satisfied: valladopy in /opt/anaconda3/envs/vallado-env/lib/python3.12/site-packages (0.2.0)\n",
      "Requirement already satisfied: numpy==1.26.4 in /opt/anaconda3/envs/vallado-env/lib/python3.12/site-packages (from valladopy) (1.26.4)\n",
      "Requirement already satisfied: pydantic==2.9.2 in /opt/anaconda3/envs/vallado-env/lib/python3.12/site-packages (from valladopy) (2.9.2)\n",
      "Requirement already satisfied: scipy==1.13.1 in /opt/anaconda3/envs/vallado-env/lib/python3.12/site-packages (from valladopy) (1.13.1)\n",
      "Requirement already satisfied: annotated-types>=0.6.0 in /opt/anaconda3/envs/vallado-env/lib/python3.12/site-packages (from pydantic==2.9.2->valladopy) (0.7.0)\n",
      "Requirement already satisfied: pydantic-core==2.23.4 in /opt/anaconda3/envs/vallado-env/lib/python3.12/site-packages (from pydantic==2.9.2->valladopy) (2.23.4)\n",
      "Requirement already satisfied: typing-extensions>=4.6.1 in /opt/anaconda3/envs/vallado-env/lib/python3.12/site-packages (from pydantic==2.9.2->valladopy) (4.12.2)\n"
     ]
    }
   ],
   "source": [
    "!pip install valladopy"
   ]
  },
  {
   "cell_type": "markdown",
   "id": "f83b98e6-d829-417b-a33f-b76e5b248f37",
   "metadata": {},
   "source": [
    "Then import the `jday` routine from `valladopy`:"
   ]
  },
  {
   "cell_type": "code",
   "execution_count": 2,
   "id": "97c9db69-6bb9-4a8d-ae4f-1181f7762262",
   "metadata": {},
   "outputs": [],
   "source": [
    "from valladopy.mathtime.julian_date import jday"
   ]
  },
  {
   "cell_type": "markdown",
   "id": "bed3ac60-e40b-43ba-bca7-ae3a00bf1d72",
   "metadata": {},
   "source": [
    "## Problem Definition\n",
    "---"
   ]
  },
  {
   "cell_type": "markdown",
   "id": "bd45f927-539a-4951-8cf5-281b7fac1890",
   "metadata": {},
   "source": [
    "GIVEN: October 26, 1996, at 2:20 P.M. UT<br>\n",
    "FIND: JD"
   ]
  },
  {
   "cell_type": "code",
   "execution_count": 3,
   "id": "83c18a3c-70ee-432c-9c30-86a3698847e0",
   "metadata": {},
   "outputs": [],
   "source": [
    "year = 1996\n",
    "month = 10\n",
    "day = 26\n",
    "hour = 14\n",
    "minute = 20\n",
    "second = 0"
   ]
  },
  {
   "cell_type": "markdown",
   "id": "ccf1babb-e547-44c5-9036-78ffcb1e7b2b",
   "metadata": {},
   "source": [
    "## Solution\n",
    "---"
   ]
  },
  {
   "cell_type": "markdown",
   "id": "8a758a7b-7b90-4689-858c-cfd6197e01e4",
   "metadata": {},
   "source": [
    "From **Algorithm 14**, we can compute the Julian Date with:\n",
    "\n",
    "$$\n",
    "JD = 367(yr)\n",
    "- \\text{INT}\\left\\{ \\frac{7\\left\\{ yr + \\text{INT} \\left( \\frac{mo + 9}{12} \\right) \\right\\}}{4} \\right\\}\n",
    "+ \\text{INT}\\left( \\frac{275\\,mo}{9} \\right)\n",
    "+ d + 1{,}721{,}013.5\n",
    "+ \\frac{h\\,3600 + min\\,60 + s}{86400}\n",
    "$$\n",
    "\n",
    "This can be done with the `jday` routine:"
   ]
  },
  {
   "cell_type": "code",
   "execution_count": 4,
   "id": "ebe37227-56a8-424b-92e3-877b29b53026",
   "metadata": {},
   "outputs": [
    {
     "name": "stdout",
     "output_type": "stream",
     "text": [
      "Julian Date:\t2450383.0972\n"
     ]
    }
   ],
   "source": [
    "jd, jdfrac = jday(year, month, day, hour, minute, second)\n",
    "\n",
    "print(f'Julian Date:\\t{jd + jdfrac:.4f}')"
   ]
  },
  {
   "cell_type": "markdown",
   "id": "96b64f36-a6d4-4b2b-a920-4ba9347332a6",
   "metadata": {},
   "source": [
    "Note that the date comes in two parts: the Julian Date whole and the Julian Date fraction. Both have to be added to obtain the actual Julian Date."
   ]
  }
 ],
 "metadata": {
  "kernelspec": {
   "display_name": "Python (Vallado Env)",
   "language": "python",
   "name": "vallado-env"
  },
  "language_info": {
   "codemirror_mode": {
    "name": "ipython",
    "version": 3
   },
   "file_extension": ".py",
   "mimetype": "text/x-python",
   "name": "python",
   "nbconvert_exporter": "python",
   "pygments_lexer": "ipython3",
   "version": "3.12.2"
  }
 },
 "nbformat": 4,
 "nbformat_minor": 5
}
