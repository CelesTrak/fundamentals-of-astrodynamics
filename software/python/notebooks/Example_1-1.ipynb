{
 "cells": [
  {
   "cell_type": "markdown",
   "id": "1061fd92-67e4-4f07-90ca-2b6bd7e56b5b",
   "metadata": {},
   "source": [
    "# Example 1-1: Determining the Semimajor Axis from the Period\n",
    "### _Fundamentals of Astrodynamics and Applications_, 5th Ed., 2022, p. 31-32"
   ]
  },
  {
   "cell_type": "markdown",
   "id": "6cb91b11-4d58-4e5f-8297-8aefa93556cc",
   "metadata": {},
   "source": [
    "This notebook demonstrates finding the semimajor axis from the orbital period, assuming a geosynchronous orbit.\n",
    "\n",
    "GIVEN:&nbsp;A geosynchronous orbit<br>\n",
    "FIND:&nbsp;Semimajor axis, _a_"
   ]
  },
  {
   "cell_type": "markdown",
   "id": "52d7a890-5fc5-45ab-a2de-ea5db79d330d",
   "metadata": {},
   "source": [
    "## Install and Import Libraries\n",
    "---"
   ]
  },
  {
   "cell_type": "markdown",
   "id": "64e490c4-8e83-40e5-a2e7-b855bc6ce5de",
   "metadata": {},
   "source": [
    "First, install `valladopy` if it doesn't already exist in your environment:"
   ]
  },
  {
   "cell_type": "code",
   "execution_count": 1,
   "id": "59942e74-154b-4a46-8f83-7b2eb693a3cb",
   "metadata": {},
   "outputs": [
    {
     "name": "stdout",
     "output_type": "stream",
     "text": [
      "Requirement already satisfied: valladopy in /opt/anaconda3/envs/vallado-env/lib/python3.12/site-packages (0.2.0)\n",
      "Requirement already satisfied: numpy==1.26.4 in /opt/anaconda3/envs/vallado-env/lib/python3.12/site-packages (from valladopy) (1.26.4)\n",
      "Requirement already satisfied: pydantic==2.9.2 in /opt/anaconda3/envs/vallado-env/lib/python3.12/site-packages (from valladopy) (2.9.2)\n",
      "Requirement already satisfied: scipy==1.13.1 in /opt/anaconda3/envs/vallado-env/lib/python3.12/site-packages (from valladopy) (1.13.1)\n",
      "Requirement already satisfied: annotated-types>=0.6.0 in /opt/anaconda3/envs/vallado-env/lib/python3.12/site-packages (from pydantic==2.9.2->valladopy) (0.7.0)\n",
      "Requirement already satisfied: pydantic-core==2.23.4 in /opt/anaconda3/envs/vallado-env/lib/python3.12/site-packages (from pydantic==2.9.2->valladopy) (2.23.4)\n",
      "Requirement already satisfied: typing-extensions>=4.6.1 in /opt/anaconda3/envs/vallado-env/lib/python3.12/site-packages (from pydantic==2.9.2->valladopy) (4.12.2)\n"
     ]
    }
   ],
   "source": [
    "!pip install valladopy"
   ]
  },
  {
   "cell_type": "markdown",
   "id": "654b99b7-60d5-4c4f-9e57-7da5ab40d6cd",
   "metadata": {},
   "source": [
    "Then import `valladopy` to use its `constants` module:"
   ]
  },
  {
   "cell_type": "code",
   "execution_count": 2,
   "id": "31df334f-4c48-4570-8238-3dc43591df71",
   "metadata": {},
   "outputs": [],
   "source": [
    "from valladopy import constants as const"
   ]
  },
  {
   "cell_type": "markdown",
   "id": "04da17c0-82ca-4a89-8b75-352a80261140",
   "metadata": {},
   "source": [
    "## Solution\n",
    "---"
   ]
  },
  {
   "cell_type": "markdown",
   "id": "e0fde533-8974-4d57-85ee-c0c745086f0d",
   "metadata": {},
   "source": [
    "The orbital period $\\mathcal{P}$ is defined from Eq. 1-26:\n",
    "\n",
    "$$\n",
    "\\mathcal{P} = 2\\pi \\sqrt{\\frac{a^3}{\\mu}}\n",
    "$$\n",
    "\n",
    "Rearranging:\n",
    "\n",
    "$$\n",
    "a = \\left( \\mu \\left( \\frac{\\mathcal{P}}{2\\pi} \\right)^2 \\right)^{1/3}\n",
    "$$\n",
    "<br>\n",
    "where $\\mathcal{P}$ is equal to 24 sidereal hours ($86,\\!400 \\div 1.002737909350795 = 86,\\!164.090518$ sec), because the Earth completes one revolution through $2\\pi$ radians in this amount of time. Be careful not to use 24 solar hours, which is a little *more* than one complete revolution."
   ]
  },
  {
   "cell_type": "code",
   "execution_count": 3,
   "id": "f42e504e-b55e-433e-8f28-3fa215e1ca32",
   "metadata": {},
   "outputs": [
    {
     "name": "stdout",
     "output_type": "stream",
     "text": [
      "Semimajor axis:\t\t42164.1696\tkm\n",
      "\t\t\t6.6107\t\tEarth radii\n"
     ]
    }
   ],
   "source": [
    "a = (const.MU * (86164.090518 / const.TWOPI) ** 2) ** (1 / 3)\n",
    "\n",
    "print(f'Semimajor axis:\\t\\t{a:.4f}\\tkm')\n",
    "print(f'\\t\\t\\t{a/const.RE:.4f}\\t\\tEarth radii')"
   ]
  },
  {
   "cell_type": "markdown",
   "id": "ec83deac-afdb-49d0-8594-42216eba6054",
   "metadata": {},
   "source": [
    "A semimajor axis of ~42,164 km (or ~6.6 Earth radii) is consistent with a geostationary orbit."
   ]
  }
 ],
 "metadata": {
  "kernelspec": {
   "display_name": "Python (Vallado Env)",
   "language": "python",
   "name": "vallado-env"
  },
  "language_info": {
   "codemirror_mode": {
    "name": "ipython",
    "version": 3
   },
   "file_extension": ".py",
   "mimetype": "text/x-python",
   "name": "python",
   "nbconvert_exporter": "python",
   "pygments_lexer": "ipython3",
   "version": "3.12.2"
  }
 },
 "nbformat": 4,
 "nbformat_minor": 5
}
