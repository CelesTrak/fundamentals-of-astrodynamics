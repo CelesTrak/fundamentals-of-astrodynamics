{
 "cells": [
  {
   "cell_type": "markdown",
   "id": "2ac75deb-fb61-4eb8-b257-98daaeb53399",
   "metadata": {},
   "source": [
    "# Example 3-8: Finding DMS\n",
    "### _Fundamentals of Astrodynamics and Applications_, 5th Ed., 2022, p. 199"
   ]
  },
  {
   "cell_type": "markdown",
   "id": "8d27d9fd-c41a-4a4d-aa78-f7dd8aacdab4",
   "metadata": {},
   "source": [
    "This notebook demonstrates converting the degree-arcminute-arcsecond (DMS) format to radians and vice-versa."
   ]
  },
  {
   "cell_type": "markdown",
   "id": "fee10276-c948-4780-a2b7-7d155d47d0c2",
   "metadata": {},
   "source": [
    "## Install and Import Libraries\n",
    "---"
   ]
  },
  {
   "cell_type": "markdown",
   "id": "2b194d74-2884-4e67-b197-5f4e1c8481cb",
   "metadata": {},
   "source": [
    "First, install `valladopy` if it doesn't already exist in your environment:"
   ]
  },
  {
   "cell_type": "code",
   "execution_count": 1,
   "id": "5d7b1cdf-4120-4256-b3fd-ca61689b4ebd",
   "metadata": {},
   "outputs": [
    {
     "name": "stdout",
     "output_type": "stream",
     "text": [
      "Requirement already satisfied: valladopy==0.3.0 in /opt/anaconda3/envs/vallado-env/lib/python3.12/site-packages (from -r valladopy_version.txt (line 1)) (0.3.0)\n",
      "Requirement already satisfied: numpy==1.26.4 in /opt/anaconda3/envs/vallado-env/lib/python3.12/site-packages (from valladopy==0.3.0->-r valladopy_version.txt (line 1)) (1.26.4)\n",
      "Requirement already satisfied: pydantic==2.9.2 in /opt/anaconda3/envs/vallado-env/lib/python3.12/site-packages (from valladopy==0.3.0->-r valladopy_version.txt (line 1)) (2.9.2)\n",
      "Requirement already satisfied: scipy==1.13.1 in /opt/anaconda3/envs/vallado-env/lib/python3.12/site-packages (from valladopy==0.3.0->-r valladopy_version.txt (line 1)) (1.13.1)\n",
      "Requirement already satisfied: annotated-types>=0.6.0 in /opt/anaconda3/envs/vallado-env/lib/python3.12/site-packages (from pydantic==2.9.2->valladopy==0.3.0->-r valladopy_version.txt (line 1)) (0.7.0)\n",
      "Requirement already satisfied: pydantic-core==2.23.4 in /opt/anaconda3/envs/vallado-env/lib/python3.12/site-packages (from pydantic==2.9.2->valladopy==0.3.0->-r valladopy_version.txt (line 1)) (2.23.4)\n",
      "Requirement already satisfied: typing-extensions>=4.6.1 in /opt/anaconda3/envs/vallado-env/lib/python3.12/site-packages (from pydantic==2.9.2->valladopy==0.3.0->-r valladopy_version.txt (line 1)) (4.12.2)\n"
     ]
    }
   ],
   "source": [
    "!pip install -r valladopy_version.txt"
   ]
  },
  {
   "cell_type": "markdown",
   "id": "08eeb4c4-5fa2-45f2-92ef-90aeb6c9c826",
   "metadata": {},
   "source": [
    "Import `numpy` and the relevant `valladopy` modules:"
   ]
  },
  {
   "cell_type": "code",
   "execution_count": 2,
   "id": "74a597b4-0547-4742-9b26-78d111babaca",
   "metadata": {},
   "outputs": [],
   "source": [
    "import numpy as np\n",
    "from valladopy.mathtime.utils import dms2rad, rad2dms"
   ]
  },
  {
   "cell_type": "markdown",
   "id": "712fe251-0ae0-4433-b491-a3610cd476ed",
   "metadata": {},
   "source": [
    "## Problem Definition\n",
    "---"
   ]
  },
  {
   "cell_type": "markdown",
   "id": "6ba364a9-18b7-4cfe-a3d0-fa10cbbe434c",
   "metadata": {},
   "source": [
    "GIVEN: &ensp;$-35^{\\circ}$, $-15'$, $-53.63^{\\prime\\prime}$<br>\n",
    "FIND: &emsp;$\\alpha$"
   ]
  },
  {
   "cell_type": "code",
   "execution_count": 3,
   "id": "c97ab618-1573-4aba-aa1f-9fa2cc008767",
   "metadata": {},
   "outputs": [],
   "source": [
    "degree = -35\n",
    "minute = -15\n",
    "second = -53.63"
   ]
  },
  {
   "cell_type": "markdown",
   "id": "03c7ae3b-625b-4155-bf99-3df25221f50e",
   "metadata": {},
   "source": [
    "## Solution\n",
    "---"
   ]
  },
  {
   "cell_type": "markdown",
   "id": "c6b9d005-813e-452e-8078-97bde09bf5c2",
   "metadata": {},
   "source": [
    "**Algorithm 17** shows how to convert the degree-arcminute-arcsecond (DMS) format to radians:\n",
    "\n",
    "$$\n",
    "\\alpha = \\left(deg + \\frac{'}{60} + \\frac{^{\\prime\\prime}}{3600} \\right) \\ \\frac{\\pi}{180^{\\circ}}\n",
    "$$\n",
    "\n",
    "Call the `dms2rad` routine for the conversion:"
   ]
  },
  {
   "cell_type": "code",
   "execution_count": 4,
   "id": "42242f40-19c3-45fd-ab73-a3a07a93ca86",
   "metadata": {},
   "outputs": [
    {
     "name": "stdout",
     "output_type": "stream",
     "text": [
      "radians: -0.615489 rad\n"
     ]
    }
   ],
   "source": [
    "rad = dms2rad(degree, minute, second)\n",
    "\n",
    "print(f'{\"radians:\":} {rad:.6} rad')"
   ]
  },
  {
   "cell_type": "markdown",
   "id": "76a72878-dfc6-4e4b-8d0d-66525e066de1",
   "metadata": {},
   "source": [
    "**Algorithm 18** shows how to convert radians to degree-arcminute-arcsecond (DMS) format:\n",
    "\n",
    "$$\n",
    "\\begin{aligned}\n",
    "Temp &= \\alpha \\left( \\frac{180^\\circ}{\\pi} \\right) \\\\\n",
    "deg &= \\text{TRUNC}(Temp) \\\\\n",
    "' &= \\text{TRUNC} \\left[ (Temp - deg)\\ 60 \\right] \\\\\n",
    "'' &= \\left[Temp - deg - \\frac{'}{60} \\right]\\ 3600\n",
    "\\end{aligned}\n",
    "$$\n",
    "\n",
    "Call the `rad2dms` routine for the conversion:"
   ]
  },
  {
   "cell_type": "code",
   "execution_count": 5,
   "id": "eb7645d1-c752-45ec-99c5-254162c12ac5",
   "metadata": {},
   "outputs": [
    {
     "name": "stdout",
     "output_type": "stream",
     "text": [
      "degrees: -35\tdeg\n",
      "minutes: -15\tmin\n",
      "seconds: -53.63\tsec\n"
     ]
    }
   ],
   "source": [
    "degrees, minutes, secs = rad2dms(rad)\n",
    "\n",
    "print(f'{\"degrees:\":} {degrees}\\tdeg')\n",
    "print(f'{\"minutes:\":} {minutes}\\tmin')\n",
    "print(f'{\"seconds:\":} {secs:.6}\\tsec')"
   ]
  }
 ],
 "metadata": {
  "kernelspec": {
   "display_name": "Python (Vallado Env)",
   "language": "python",
   "name": "vallado-env"
  },
  "language_info": {
   "codemirror_mode": {
    "name": "ipython",
    "version": 3
   },
   "file_extension": ".py",
   "mimetype": "text/x-python",
   "name": "python",
   "nbconvert_exporter": "python",
   "pygments_lexer": "ipython3",
   "version": "3.12.2"
  }
 },
 "nbformat": 4,
 "nbformat_minor": 5
}
