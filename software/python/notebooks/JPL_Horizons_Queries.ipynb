{
 "cells": [
  {
   "cell_type": "markdown",
   "id": "7716799a-d2f1-4962-8ba6-0b273f645a6f",
   "metadata": {},
   "source": [
    "# JPL Horizons Queries"
   ]
  },
  {
   "cell_type": "markdown",
   "id": "736ab6ed-914e-4231-abbe-4864cd3615f1",
   "metadata": {},
   "source": [
    "This notebook demonstrates how to use the [NASA JPL Horizons system](https://ssd.jpl.nasa.gov/horizons) to retrieve accurate planetary ephemerides data for various applications. It includes:\n",
    "\n",
    "- How to manually construct and interpret web-based Horizons queries\n",
    "- How to programmatically access Horizons data via the `requests` library\n",
    "- How to programmatically access Horizons data via the `astroquery` library\n",
    "\n",
    "This notebook complements the core example notebooks ([Example 4-1](Example_4-1.ipynb), [Example 4-2](Example_4-2.ipynb)) by providing detailed guidance on obtaining the required planetary state vectors, angular data, and rates of change using the [Horizons API](https://ssd-api.jpl.nasa.gov/doc/horizons.html)."
   ]
  },
  {
   "cell_type": "markdown",
   "id": "8795e07c-ff88-4132-bf3a-69442f1538e7",
   "metadata": {},
   "source": [
    "## Example Queries using the Web\n",
    "---"
   ]
  },
  {
   "cell_type": "markdown",
   "id": "204a4237-5ded-4a12-abb7-2b7ccfded1ea",
   "metadata": {},
   "source": [
    "This section shows how to manually construct Horizons API URLs to retrieve planetary positions and rates. We highlight the key parameters to adjust (e.g., object ID, observer center, output units, and time range) and provide example queries for obtaining state vectors and apparent coordinates.\n",
    "\n",
    "Note that you can alternatively build the queries using their web [interface](https://ssd.jpl.nasa.gov/horizons/app.html#/) instead of constructing an API URL, but the following examples focus solely on manually constructing API URLs rather than using the graphical web interface.\n",
    "\n",
    "Refer to the [Horizons API](https://ssd-api.jpl.nasa.gov/doc/horizons.html) for more detailed information on how to form queries with different options."
   ]
  },
  {
   "cell_type": "markdown",
   "id": "51a50706-8e60-45bc-833c-ec3aff04fdc4",
   "metadata": {},
   "source": [
    "### State Vectors"
   ]
  },
  {
   "cell_type": "markdown",
   "id": "d9dbf857-229a-4f19-bccf-f5ce0e590700",
   "metadata": {},
   "source": [
    "[Example 4-1](Example_4-1.ipynb) requires finding the position vectors of Neptune to both the Sun and Earth at the given date of May 14, 1994. The following query returns a geometric state vector of Neptune with respect to the Sun in the ICRF (J2000 equatorial) frame:\n",
    "\n",
    "```\n",
    "https://ssd.jpl.nasa.gov/api/horizons.api?format=text&COMMAND='899'&OBJ_DATA='YES'&MAKE_EPHEM='YES'&EPHEM_TYPE='VECTORS'&CENTER='500@10'&START_TIME='1994-05-14 00:00:00'&STOP_TIME='1994-05-14 00:00:01'&STEP_SIZE='1 m'&OUT_UNITS='KM-S'&REF_PLANE='FRAME'&VEC_TABLE='3'\n",
    "```\n",
    "\n",
    "➡️ [Click here to run the query](https://ssd.jpl.nasa.gov/api/horizons.api?format=text&COMMAND='899'&OBJ_DATA='YES'&MAKE_EPHEM='YES'&EPHEM_TYPE='VECTORS'&CENTER='500@10'&START_TIME='1994-05-14%2000:00:00'&STOP_TIME='1994-05-14%2000:00:01'&STEP_SIZE='1%20m'&OUT_UNITS='KM-S'&REF_PLANE='FRAME'&VEC_TABLE='3')\n",
    "\n",
    "This query requests:\n",
    "- `COMMAND='899'` → Neptune\n",
    "- `CENTER='500@10'` → Heliocentric (Sun as center)\n",
    "- `REF_PLANE='FRAME'` → Equatorial J2000 frame (ICRF-compatible)\n",
    "- `VEC_TABLE='3'` → Cartesian state vector output\n",
    "- `OUT_UNITS='KM-S'` → Kilometers and seconds\n",
    "- `START_TIME` = `'1994-05-14 00:00:00'` and `STOP_TIME` = `'1994-05-14 00:00:01'` (stop time must be later than start time)\n",
    "- `STEP_SIZE` = `'1 m'` (1 minute)\n",
    "\n",
    "Scroll down to the section marked `$$SOE` to find the position vector under the labels `X`, `Y`, and `Z`. Note that we want the vector in the opposite direction (Neptune to Sun), so we'd need to flip the sign on the vector components.\n",
    "\n",
    "To retrieve the vector from Neptune to Earth instead of the Sun, change the `CENTER` parameter to `'500@399'` (Earth-centered) in the query.<br>\n",
    "➡️ [Earth-centered query example](https://ssd.jpl.nasa.gov/api/horizons.api?format=text&COMMAND='899'&OBJ_DATA='YES'&MAKE_EPHEM='YES'&EPHEM_TYPE='VECTORS'&CENTER='500@399'&START_TIME='1994-05-14%2000:00:00'&STOP_TIME='1994-05-14%2000:00:01'&STEP_SIZE='1%20m'&OUT_UNITS='KM-S'&REF_PLANE='FRAME'&VEC_TABLE='3')"
   ]
  },
  {
   "cell_type": "markdown",
   "id": "86528915-676f-49e9-bc17-c4bf2580a58c",
   "metadata": {},
   "source": [
    "### Right Ascension, Declination, and Range"
   ]
  },
  {
   "cell_type": "markdown",
   "id": "1dd59bca-d9e3-4f76-a9b5-72b4fbd8ed01",
   "metadata": {},
   "source": [
    "[Example 4-2](Example_4-2.ipynb) requires finding the geocentric right ascension, declination, and range - along with their rates - of Neptune at the given date and time of May 14, 1994 at an epoch time of 13:11:20.59856 UTC.\n",
    "\n",
    "The geocentric right ascension and declination can be retrieved with the following query:\n",
    "\n",
    "```\n",
    "https://ssd.jpl.nasa.gov/api/horizons.api?format=text&COMMAND=%27899%27&OBJ_DATA=%27NO%27&MAKE_EPHEM=%27YES%27&EPHEM_TYPE=%27OBSERVER%27&CENTER=%27500@399%27&START_TIME=%271994-05-14%2013:11:20.59856%27&STOP_TIME=%271994-05-14%2013:11:20.59857%27&STEP_SIZE=%271%20m%27&QUANTITIES=%272%27\n",
    "```\n",
    "\n",
    "This query requests:\n",
    "- `COMMAND='899'` → Neptune\n",
    "- `CENTER='500@399'` → Earth-centered\n",
    "- `EPHEM_TYPE='OBSERVER'` → returns apparent coordinates as seen from the observer (Earth center)\n",
    "- `QUANTITIES='2'` → requests apparent right ascension and declination (RA/Dec)\n",
    "- `START_TIME` = `'1994-05-14 13:11:20.59856'` and `STOP_TIME` = `'1994-05-14 13:11:20.59857'` (stop time must be later than start time)\n",
    "- `STEP_SIZE` = `'1 m'` (1 minute)\n",
    "\n",
    "➡️ [Right ascension and declination angles query](https://ssd.jpl.nasa.gov/api/horizons.api?format=text&COMMAND=%27899%27&OBJ_DATA=%27NO%27&MAKE_EPHEM=%27YES%27&EPHEM_TYPE=%27OBSERVER%27&CENTER=%27500@399%27&START_TIME=%271994-05-14%2013:11:20.59856%27&STOP_TIME=%271994-05-14%2013:11:20.59857%27&STEP_SIZE=%271%20m%27&QUANTITIES=%272%27)\n",
    "\n",
    "Scroll down to the section marked `$$SOE` to find the right ascension (`R.A.`) and declination (`DEC`) angles. Right ascension is given in hours-minutes-seconds format and declination is given in degrees-minutes-seconds of arc format - remember to convert these to radians for any calculations using `valladopy` routines.\n",
    "\n",
    "<details>\n",
    "<summary>Click to see more queries (ra/dec rates, target range, and range rate)</summary>\n",
    "\n",
    "We can similarly get the *rates* of the geocentric right ascension and declination by simply changing the `QUANTITIES` parameter to `'3'` instead of `'2'`:\n",
    "\n",
    "➡️ [Right ascension and declination rates query](https://ssd.jpl.nasa.gov/api/horizons.api?format=text&COMMAND=%27899%27&OBJ_DATA=%27NO%27&MAKE_EPHEM=%27YES%27&EPHEM_TYPE=%27OBSERVER%27&CENTER=%27500@399%27&START_TIME=%271994-05-14%2013:11:20.59856%27&STOP_TIME=%271994-05-14%2013:11:20.59857%27&STEP_SIZE=%271%20m%27&QUANTITIES=%272%27)\n",
    "\n",
    "Scroll down to the section marked `$$SOE` to find the right ascension (`dRA*cosD`) and declination (`d(DEC)/dt`) rates. These would also need to be converted (to rad/s) for any `valladopy` routines.\n",
    "\n",
    "The textbook example approximates these values by finding the geocentric right ascension and declination angles for May 14 and May 15, which we can find by setting `QUANTITIES='2'` to get the RA/dec angles as before, but updating the time query with: `START_TIME` = `'1994-05-14'`, `STOP_TIME` = `'1994-05-15'` and `STEP_SIZE` = `'1 d'` (1 day) to cover the timespan of one day and just retrieve the values at the beginning of the day:\n",
    "\n",
    "➡️ [Multiple right ascension and declination angles query](https://ssd.jpl.nasa.gov/api/horizons.api?format=text&COMMAND=%27899%27&OBJ_DATA=%27NO%27&MAKE_EPHEM=%27YES%27&EPHEM_TYPE=%27OBSERVER%27&CENTER=%27500@399%27&START_TIME=%271994-05-14%27&STOP_TIME=%271994-05-15%27&STEP_SIZE=%271%20d%27&QUANTITIES=%272%27)\n",
    "\n",
    "Finally, we can get the target range and range rate (relative to the observer) by changing the first query to use `QUANTITIES='20'` (for information on the definitions of all quantitiy options, see the Horizons [manual](https://ssd.jpl.nasa.gov/horizons/manual.html#obsquan):\n",
    "\n",
    "➡️ [Target range and range rate query](https://ssd.jpl.nasa.gov/api/horizons.api?format=text&COMMAND=%27899%27&OBJ_DATA=%27NO%27&MAKE_EPHEM=%27YES%27&EPHEM_TYPE=%27OBSERVER%27&CENTER=%27500@399%27&START_TIME=%271994-05-14%2013:11:20.59856%27&STOP_TIME=%271994-05-14%2013:11:20.59857%27&STEP_SIZE=%271%20m%27&QUANTITIES=%2720%27)\n",
    "\n",
    "Where the range and range rate are given in units of AU, and km/s, respectively. Again, the textbook approximates the range rate by retrieving the data of the range values on May 14 and May 15, which we can find by altering the query as we did for the RA/dec example (and using `QUANTITIES='20'`).\n",
    "</details>"
   ]
  },
  {
   "cell_type": "markdown",
   "id": "37b507e3-3b8b-4e96-9c79-d0b0553e0cdb",
   "metadata": {},
   "source": [
    "## Example Query using Python and `requests`\n",
    "---"
   ]
  },
  {
   "cell_type": "markdown",
   "id": "5b4801e2-e449-4482-94d9-78da852a9b1f",
   "metadata": {},
   "source": [
    "This section demonstrates how to use the Python `requests` library to send queries directly to the Horizons API for better streamlined data acquisition and processing.\n",
    "\n",
    "We start by importing the `re` and `requests` libraries. The `re` [library](https://docs.python.org/3/library/re.html) provides regex (regular expression) matching operations for strings, which we will use for parsing later."
   ]
  },
  {
   "cell_type": "code",
   "execution_count": 1,
   "id": "7acc9712-d319-4fd2-a43f-d17aad48c56b",
   "metadata": {},
   "outputs": [],
   "source": [
    "import re\n",
    "import requests"
   ]
  },
  {
   "cell_type": "markdown",
   "id": "cc17fecc-0463-4877-b6cd-bff4a36c4440",
   "metadata": {},
   "source": [
    "Next, define the base URL and query parameters, which are the same as the ones in the [State Vectors](#State-Vectors) section:"
   ]
  },
  {
   "cell_type": "code",
   "execution_count": 2,
   "id": "b90aaa04-6805-4884-a2fd-f367cd75af5a",
   "metadata": {},
   "outputs": [],
   "source": [
    "# Base URL\n",
    "base_url = \"https://ssd.jpl.nasa.gov/api/horizons.api\"\n",
    "\n",
    "# Query parameters\n",
    "params = {\n",
    "    \"format\": \"json\",\n",
    "    \"COMMAND\": \"'899'\",  # Neptune\n",
    "    \"OBJ_DATA\": \"'YES'\",\n",
    "    \"MAKE_EPHEM\": \"'YES'\",\n",
    "    \"EPHEM_TYPE\": \"'VECTORS'\",\n",
    "    \"CENTER\": \"'500@10'\",  # Sun-centered\n",
    "    \"START_TIME\": \"'1994-05-14 00:00:00'\",\n",
    "    \"STOP_TIME\": \"'1994-05-14 00:00:01'\",\n",
    "    \"STEP_SIZE\": \"'1 m'\",\n",
    "    \"OUT_UNITS\": \"'KM-S'\",\n",
    "    \"REF_PLANE\": \"'FRAME'\",\n",
    "    \"VEC_TABLE\": \"'3'\"\n",
    "}"
   ]
  },
  {
   "cell_type": "markdown",
   "id": "505368fc-2381-4a95-b5d0-5504ac235ec0",
   "metadata": {},
   "source": [
    "Make the `GET` request:"
   ]
  },
  {
   "cell_type": "code",
   "execution_count": 3,
   "id": "8821cebe-39dc-43ee-9439-20c180c3852b",
   "metadata": {},
   "outputs": [],
   "source": [
    "response = requests.get(base_url, params=params)"
   ]
  },
  {
   "cell_type": "markdown",
   "id": "95cabddf-e4f0-450e-a286-5c6ffacf6dd9",
   "metadata": {},
   "source": [
    "Check for a successful response and extract the data from the results. Note that the data is just a plain text string that we will need to parse later."
   ]
  },
  {
   "cell_type": "code",
   "execution_count": 4,
   "id": "7decaa2b-8bb0-430f-96b2-6426b42f7a7a",
   "metadata": {},
   "outputs": [
    {
     "name": "stdout",
     "output_type": "stream",
     "text": [
      "*******************************************************************************\n",
      " Revised: April 22, 2021              Neptune                               899\n",
      " \n",
      " PHYSICAL DATA (update 2021-May-03):\n",
      "  Mass x10^24 (kg)      = 102.409         Density (g/cm^3)       =  1.638\n",
      "  Equat. radius (1 bar) = 24766+-15 km    Volume, 10^10 km^3     = 6254     \n",
      "  Vol. mean radius (km) = 24624+-21       Polar radius (km)      = 24342+-30\n",
      "  Geometric Albedo      = 0.41            Flattening             =  0.0171\n",
      "  Sid. rot. period (III)= 16.11+-0.01 hr  Sid. rot. rate (rad/s) =  0.000108338 \n",
      "  Mean solar day, h     =~16.11 h         \n",
      "  GM (km^3/s^2)         = 6835099.97      GM 1-sigma (km^3/s^2)  = +-10 \n",
      "  Equ. grav, ge (m/s^2) = 11.15           Pol. grav, gp (m/s^2)  = 11.41+-0.03\n",
      "  Visual magnitude V(1,0)= -6.87\n",
      "  Vis. mag. (opposition)=  +7.84          Obliquity to orbit     = 28.32 deg\n",
      "  Sidereal orbit period = 164.788501027 y Sidereal orbit period  = 60189 d\n",
      "  Mean daily motion     = 0.006020076\n"
     ]
    }
   ],
   "source": [
    "if response.ok:\n",
    "    data = response.json()['result']  # string\n",
    "    print(data[:1000])                # preview data\n",
    "else:\n",
    "    print(f\"Error: {response.status_code}\")"
   ]
  },
  {
   "cell_type": "markdown",
   "id": "70a6e417-4f14-47fa-b51e-833204a229cb",
   "metadata": {},
   "source": [
    "Now we parse the returned string by grabbing the information of interest - in this case the position vector. As noted in the Web UI section, this is under the section marked `$$SOE`:"
   ]
  },
  {
   "cell_type": "code",
   "execution_count": 5,
   "id": "0cdb2342-af71-4a43-a7ad-b06aeb13b62b",
   "metadata": {},
   "outputs": [
    {
     "name": "stdout",
     "output_type": "stream",
     "text": [
      "Neptune to sun vector: [-1666604719.851126, 3868340773.891892, 1624846812.697093] km\n"
     ]
    }
   ],
   "source": [
    "# Split the text by lines\n",
    "lines = data.splitlines()\n",
    "\n",
    "# Find the $$SOE and $$EOE markers\n",
    "start_idx = lines.index(\"$$SOE\") + 1\n",
    "end_idx = lines.index(\"$$EOE\")\n",
    "\n",
    "# Extract just the lines with ephemeris data\n",
    "ephem_lines = lines[start_idx:end_idx]\n",
    "\n",
    "# Extract the position vector (Neptune to Sun)\n",
    "for line in ephem_lines:\n",
    "    line = line.strip()\n",
    "    if line.startswith(\"X =\"):\n",
    "        matches = re.findall(r\"[-+]?\\d*\\.\\d+E[+-]\\d+\", line)\n",
    "        rnep_sun = [-float(val) for val in matches]  # make components negative to reverse vector direction\n",
    "        break\n",
    "\n",
    "print(f'Neptune to sun vector: {rnep_sun} km')"
   ]
  },
  {
   "cell_type": "markdown",
   "id": "bbc7715a-c7f7-41d9-beb9-da4aa62bfb8a",
   "metadata": {},
   "source": [
    "Here, we just covered the query from [Example 4-1](Example_4-1.ipynb), but this can easily be extended to other applications."
   ]
  },
  {
   "cell_type": "markdown",
   "id": "3e5cbc7a-b373-441f-aa12-7a59e0efe492",
   "metadata": {},
   "source": [
    "## Example Query using `astroquery`\n",
    "---"
   ]
  },
  {
   "cell_type": "markdown",
   "id": "c13cc75b-16e8-46f5-b639-109a3bfa9264",
   "metadata": {},
   "source": [
    "This section demonstrates how to use the third-party Python library `astroquery` to generate the same query as the previous section and retrieve the data directly without having to parse a text block.\n",
    "\n",
    "We first need to install `astroquery` if it doesn't exist (along with `valladopy`):"
   ]
  },
  {
   "cell_type": "code",
   "execution_count": 6,
   "id": "15683fbf-2e5a-47f3-a60a-f79db79a7ff9",
   "metadata": {},
   "outputs": [
    {
     "name": "stdout",
     "output_type": "stream",
     "text": [
      "Requirement already satisfied: astroquery in /opt/anaconda3/envs/vallado-env/lib/python3.12/site-packages (0.4.10)\n",
      "Requirement already satisfied: numpy>=1.20 in /opt/anaconda3/envs/vallado-env/lib/python3.12/site-packages (from astroquery) (1.26.4)\n",
      "Requirement already satisfied: astropy>=5.0 in /opt/anaconda3/envs/vallado-env/lib/python3.12/site-packages (from astroquery) (7.1.0)\n",
      "Requirement already satisfied: requests>=2.19 in /opt/anaconda3/envs/vallado-env/lib/python3.12/site-packages (from astroquery) (2.31.0)\n",
      "Requirement already satisfied: beautifulsoup4>=4.8 in /opt/anaconda3/envs/vallado-env/lib/python3.12/site-packages (from astroquery) (4.12.3)\n",
      "Requirement already satisfied: html5lib>=0.999 in /opt/anaconda3/envs/vallado-env/lib/python3.12/site-packages (from astroquery) (1.1)\n",
      "Requirement already satisfied: keyring>=15.0 in /opt/anaconda3/envs/vallado-env/lib/python3.12/site-packages (from astroquery) (25.6.0)\n",
      "Requirement already satisfied: pyvo>=1.5 in /opt/anaconda3/envs/vallado-env/lib/python3.12/site-packages (from astroquery) (1.6.2)\n",
      "Requirement already satisfied: pyerfa>=2.0.1.1 in /opt/anaconda3/envs/vallado-env/lib/python3.12/site-packages (from astropy>=5.0->astroquery) (2.0.1.5)\n",
      "Requirement already satisfied: astropy-iers-data>=0.2025.4.28.0.37.27 in /opt/anaconda3/envs/vallado-env/lib/python3.12/site-packages (from astropy>=5.0->astroquery) (0.2025.5.26.0.37.21)\n",
      "Requirement already satisfied: PyYAML>=6.0.0 in /opt/anaconda3/envs/vallado-env/lib/python3.12/site-packages (from astropy>=5.0->astroquery) (6.0.1)\n",
      "Requirement already satisfied: packaging>=22.0.0 in /opt/anaconda3/envs/vallado-env/lib/python3.12/site-packages (from astropy>=5.0->astroquery) (24.0)\n",
      "Requirement already satisfied: soupsieve>1.2 in /opt/anaconda3/envs/vallado-env/lib/python3.12/site-packages (from beautifulsoup4>=4.8->astroquery) (2.5)\n",
      "Requirement already satisfied: six>=1.9 in /opt/anaconda3/envs/vallado-env/lib/python3.12/site-packages (from html5lib>=0.999->astroquery) (1.16.0)\n",
      "Requirement already satisfied: webencodings in /opt/anaconda3/envs/vallado-env/lib/python3.12/site-packages (from html5lib>=0.999->astroquery) (0.5.1)\n",
      "Requirement already satisfied: jaraco.classes in /opt/anaconda3/envs/vallado-env/lib/python3.12/site-packages (from keyring>=15.0->astroquery) (3.4.0)\n",
      "Requirement already satisfied: jaraco.functools in /opt/anaconda3/envs/vallado-env/lib/python3.12/site-packages (from keyring>=15.0->astroquery) (4.1.0)\n",
      "Requirement already satisfied: jaraco.context in /opt/anaconda3/envs/vallado-env/lib/python3.12/site-packages (from keyring>=15.0->astroquery) (6.0.1)\n",
      "Requirement already satisfied: charset-normalizer<4,>=2 in /opt/anaconda3/envs/vallado-env/lib/python3.12/site-packages (from requests>=2.19->astroquery) (3.3.2)\n",
      "Requirement already satisfied: idna<4,>=2.5 in /opt/anaconda3/envs/vallado-env/lib/python3.12/site-packages (from requests>=2.19->astroquery) (3.6)\n",
      "Requirement already satisfied: urllib3<3,>=1.21.1 in /opt/anaconda3/envs/vallado-env/lib/python3.12/site-packages (from requests>=2.19->astroquery) (2.2.1)\n",
      "Requirement already satisfied: certifi>=2017.4.17 in /opt/anaconda3/envs/vallado-env/lib/python3.12/site-packages (from requests>=2.19->astroquery) (2024.2.2)\n",
      "Requirement already satisfied: more-itertools in /opt/anaconda3/envs/vallado-env/lib/python3.12/site-packages (from jaraco.classes->keyring>=15.0->astroquery) (10.6.0)\n"
     ]
    }
   ],
   "source": [
    "!pip install astroquery"
   ]
  },
  {
   "cell_type": "markdown",
   "id": "49d8b8bc-f7b5-4323-a8bd-9a7088f9fe14",
   "metadata": {},
   "source": [
    "Now we import the `Horizons` class and create a new object with some query parameters. Note that the class does not support all query options; see the Horizons class [documentation](https://astroquery.readthedocs.io/en/latest/api/astroquery.jplhorizons.HorizonsClass.html) for more information."
   ]
  },
  {
   "cell_type": "code",
   "execution_count": 7,
   "id": "71338165-e72a-4fdc-8c4b-b0bea9dce419",
   "metadata": {},
   "outputs": [],
   "source": [
    "from astroquery.jplhorizons import Horizons\n",
    "\n",
    "# Create the Horizons object\n",
    "obj = Horizons(\n",
    "    id='899',           # Neptune\n",
    "    location='500@10',  # Sun-centered\n",
    "    epochs={\n",
    "        'start': '1994-05-14 00:00:00',\n",
    "        'stop': '1994-05-14 00:00:01',\n",
    "        'step': '1m'\n",
    "    }\n",
    ")"
   ]
  },
  {
   "cell_type": "markdown",
   "id": "9af6e54a-9344-450b-9eb9-a23dad140935",
   "metadata": {},
   "source": [
    "Query the vector ephemerides with the correct frame (ICRF) - the default `refplane` is `'ecliptic'`:"
   ]
  },
  {
   "cell_type": "code",
   "execution_count": 8,
   "id": "9a37ae1e-1672-4354-9c0f-88e28b375d74",
   "metadata": {},
   "outputs": [
    {
     "data": {
      "text/html": [
       "<div><i>Table masked=True length=1</i>\n",
       "<table id=\"table5055577888\" class=\"table-striped table-bordered table-condensed\">\n",
       "<thead><tr><th>targetname</th><th>datetime_jd</th><th>datetime_str</th><th>x</th><th>y</th><th>z</th><th>vx</th><th>vy</th><th>vz</th><th>lighttime</th><th>range</th><th>range_rate</th></tr></thead>\n",
       "<thead><tr><th>---</th><th>d</th><th>---</th><th>AU</th><th>AU</th><th>AU</th><th>AU / d</th><th>AU / d</th><th>AU / d</th><th>d</th><th>AU</th><th>AU / d</th></tr></thead>\n",
       "<thead><tr><th>str13</th><th>float64</th><th>str30</th><th>float64</th><th>float64</th><th>float64</th><th>float64</th><th>float64</th><th>float64</th><th>float64</th><th>float64</th><th>float64</th></tr></thead>\n",
       "<tr><td>Neptune (899)</td><td>2449486.5</td><td>A.D. 1994-May-14 00:00:00.0000</td><td>11.14056444822865</td><td>-25.8582609217037</td><td>-10.86143007981392</td><td>0.002902826589042366</td><td>0.001112674989392345</td><td>0.0003826853568730526</td><td>0.1742955838565904</td><td>30.17834484359159</td><td>-1.952472041797068e-05</td></tr>\n",
       "</table></div>"
      ],
      "text/plain": [
       "<Table masked=True length=1>\n",
       "  targetname  datetime_jd ...       range             range_rate      \n",
       "     ---           d      ...         AU                AU / d        \n",
       "    str13       float64   ...      float64             float64        \n",
       "------------- ----------- ... ----------------- ----------------------\n",
       "Neptune (899)   2449486.5 ... 30.17834484359159 -1.952472041797068e-05"
      ]
     },
     "execution_count": 8,
     "metadata": {},
     "output_type": "execute_result"
    }
   ],
   "source": [
    "vectors = obj.vectors(refplane='frame')\n",
    "vectors  # show table"
   ]
  },
  {
   "cell_type": "markdown",
   "id": "da8b75a0-66b0-4af5-a189-815a94f23b1c",
   "metadata": {},
   "source": [
    "Now extract the x, y, and z components to form the position vector and multipy by -1 to get the vector in the desired direction (Neptune to Sun). The units (which cannot be set prior to the query) are in AU and days, so we also have to convert the quantities to kilometers:"
   ]
  },
  {
   "cell_type": "code",
   "execution_count": 9,
   "id": "904a5f48-7c70-437a-9f01-d6fad6430c40",
   "metadata": {},
   "outputs": [
    {
     "name": "stdout",
     "output_type": "stream",
     "text": [
      "Neptune to sun vector: [-1666604719.8511262, 3868340773.8918924, 1624846812.6970932] km\n"
     ]
    }
   ],
   "source": [
    "import valladopy.constants as const\n",
    "\n",
    "# Arrange position vector (multiply by -1 and convert to km)\n",
    "rnep_sun = [-float(vectors[i]) * const.AU2KM  for i in ['x', 'y', 'z']]\n",
    "\n",
    "print(f'Neptune to sun vector: {rnep_sun} km')"
   ]
  }
 ],
 "metadata": {
  "kernelspec": {
   "display_name": "Python (Vallado Env)",
   "language": "python",
   "name": "vallado-env"
  },
  "language_info": {
   "codemirror_mode": {
    "name": "ipython",
    "version": 3
   },
   "file_extension": ".py",
   "mimetype": "text/x-python",
   "name": "python",
   "nbconvert_exporter": "python",
   "pygments_lexer": "ipython3",
   "version": "3.12.2"
  }
 },
 "nbformat": 4,
 "nbformat_minor": 5
}
