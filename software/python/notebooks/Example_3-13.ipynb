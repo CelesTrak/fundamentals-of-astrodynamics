{
 "cells": [
  {
   "cell_type": "markdown",
   "id": "1c96da44-0023-409d-b5b6-c5ebd51542c0",
   "metadata": {},
   "source": [
    "# Example 3-13: Finding the Gregorian Calendar Date from the Julian Date\n",
    "### _Fundamentals of Astrodynamics and Applications_, 5th Ed., 2022, p. 204"
   ]
  },
  {
   "cell_type": "markdown",
   "id": "daf9a5bb-d722-4f25-b303-5eace31fe979",
   "metadata": {},
   "source": [
    "This notebook demonstrates finding the Gregorian calendar date from the Julian date."
   ]
  },
  {
   "cell_type": "markdown",
   "id": "30f62291-2534-4116-99f8-1c1393653ef1",
   "metadata": {},
   "source": [
    "## Install and Import Libraries\n",
    "---"
   ]
  },
  {
   "cell_type": "markdown",
   "id": "4fc83afd-f095-4815-91eb-821c5ce73b00",
   "metadata": {},
   "source": [
    "First, install `valladopy` if it doesn't already exist in your environment:"
   ]
  },
  {
   "cell_type": "code",
   "execution_count": 1,
   "id": "249e92b9-217e-4ad6-a1c6-3dad2a8d382d",
   "metadata": {},
   "outputs": [
    {
     "name": "stdout",
     "output_type": "stream",
     "text": [
      "Requirement already satisfied: valladopy in /opt/anaconda3/envs/vallado-env/lib/python3.12/site-packages (0.2.0)\n",
      "Requirement already satisfied: numpy==1.26.4 in /opt/anaconda3/envs/vallado-env/lib/python3.12/site-packages (from valladopy) (1.26.4)\n",
      "Requirement already satisfied: pydantic==2.9.2 in /opt/anaconda3/envs/vallado-env/lib/python3.12/site-packages (from valladopy) (2.9.2)\n",
      "Requirement already satisfied: scipy==1.13.1 in /opt/anaconda3/envs/vallado-env/lib/python3.12/site-packages (from valladopy) (1.13.1)\n",
      "Requirement already satisfied: annotated-types>=0.6.0 in /opt/anaconda3/envs/vallado-env/lib/python3.12/site-packages (from pydantic==2.9.2->valladopy) (0.7.0)\n",
      "Requirement already satisfied: pydantic-core==2.23.4 in /opt/anaconda3/envs/vallado-env/lib/python3.12/site-packages (from pydantic==2.9.2->valladopy) (2.23.4)\n",
      "Requirement already satisfied: typing-extensions>=4.6.1 in /opt/anaconda3/envs/vallado-env/lib/python3.12/site-packages (from pydantic==2.9.2->valladopy) (4.12.2)\n"
     ]
    }
   ],
   "source": [
    "!pip install valladopy"
   ]
  },
  {
   "cell_type": "markdown",
   "id": "9bb67c7d-a5a2-463b-be3d-61abea9960e7",
   "metadata": {},
   "source": [
    "Import the relevant `valladopy` module:"
   ]
  },
  {
   "cell_type": "code",
   "execution_count": 2,
   "id": "29237416-c3bd-4abb-8f5f-90673ea6fb8b",
   "metadata": {},
   "outputs": [],
   "source": [
    "from valladopy.mathtime.julian_date import invjday"
   ]
  },
  {
   "cell_type": "markdown",
   "id": "5452796c-c850-4fa9-8aaf-ad80010be61b",
   "metadata": {},
   "source": [
    "## Problem Definition\n",
    "---"
   ]
  },
  {
   "cell_type": "markdown",
   "id": "38a72ab7-5099-43c8-b264-4af67e107dd8",
   "metadata": {},
   "source": [
    "GIVEN:&ensp;*JD* = 2,449,877.3458762<br>\n",
    "FIND: &emsp;*YMD*, *HMS*"
   ]
  },
  {
   "cell_type": "code",
   "execution_count": 3,
   "id": "1a9986fb-c787-4a54-bf5a-2c62d32403fa",
   "metadata": {},
   "outputs": [],
   "source": [
    "jd = 2449877.3458762"
   ]
  },
  {
   "cell_type": "markdown",
   "id": "3df36ee6-0dd5-4d78-b737-a75bb4ed39ec",
   "metadata": {},
   "source": [
    "## Solution\n",
    "---"
   ]
  },
  {
   "cell_type": "markdown",
   "id": "d69dbf8a-bcdc-4933-b487-24e4b5f598dd",
   "metadata": {},
   "source": [
    "**Algorithm 22** outlines the process for finding the Gregorian calendar date from the Julian date (the reverse conversion of the more straightforward equation in **Algorithm 14**).\n",
    "\n",
    "The first step is to find the year of the observation by determining the number of Julian *years* from an epoch, and the 1900 epoch ($T_{1900}$) is selected since it isn't a leap year. This also limits the time span for which the algorithm is valid (1900-2100).\n",
    "\n",
    "$$\n",
    "\\begin{aligned}\n",
    "T_{1900} = \\frac{JD - 2,415,019.5}{365.25} \\\\ \\\\\n",
    "Year = 1900 + \\text{TRUNC}(T_{1900})\n",
    "\\end{aligned}\n",
    "$$\n",
    "\n",
    "Next, determine leap years by:\n",
    "\n",
    "$$\n",
    "LeapYrs = \\text{TRUNC}((Year - 1900 - 1)(0.25))\n",
    "$$\n",
    "\n",
    "and total days with:\n",
    "\n",
    "$$\n",
    "Days = (JD - 2,415,019.5) - ((Year - 1900)(365.0) + LeapYrs)\n",
    "$$\n",
    "\n",
    "where the integer part of $Days$ is the day of the year (see the full algorithm for how to handle the case where $Days < 1.0$).\n",
    "\n",
    "The process of finding the remaining information (month, day, hour, minute, second) is the same as that outlined at the end of [Example 3-12](Example_3-12.ipynb) and is repeated in **Algorithm 22**.\n",
    "\n",
    "We can accomplish all of this by calling the `invjday` routine after breaking up the Julian date to its integer and fractional parts:"
   ]
  },
  {
   "cell_type": "code",
   "execution_count": 4,
   "id": "fb579ea2-32e5-4519-a696-1a166e4bb212",
   "metadata": {},
   "outputs": [
    {
     "name": "stdout",
     "output_type": "stream",
     "text": [
      "Year:\t1995\n",
      "Month:\t6\n",
      "Day:\t8\n",
      "Hour:\t20\n",
      "Minute:\t18\n",
      "Second:\t3.703691\n"
     ]
    }
   ],
   "source": [
    "year, month, day, hour, minute, second = invjday(jd=int(jd), jdfrac=(jd-int(jd)))\n",
    "\n",
    "print(f'{\"Year:\":}\\t{year}')\n",
    "print(f'{\"Month:\":}\\t{month}')\n",
    "print(f'{\"Day:\":}\\t{day}')\n",
    "print(f'{\"Hour:\":}\\t{hour}')\n",
    "print(f'{\"Minute:\":}\\t{minute}')\n",
    "print(f'{\"Second:\":}\\t{second}')"
   ]
  }
 ],
 "metadata": {
  "kernelspec": {
   "display_name": "Python (Vallado Env)",
   "language": "python",
   "name": "vallado-env"
  },
  "language_info": {
   "codemirror_mode": {
    "name": "ipython",
    "version": 3
   },
   "file_extension": ".py",
   "mimetype": "text/x-python",
   "name": "python",
   "nbconvert_exporter": "python",
   "pygments_lexer": "ipython3",
   "version": "3.12.2"
  }
 },
 "nbformat": 4,
 "nbformat_minor": 5
}
