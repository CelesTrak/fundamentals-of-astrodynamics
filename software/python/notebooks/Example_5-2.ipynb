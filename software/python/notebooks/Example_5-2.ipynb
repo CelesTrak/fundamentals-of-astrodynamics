{
 "cells": [
  {
   "cell_type": "markdown",
   "id": "64686731-4f57-4742-99aa-10ecae43b078",
   "metadata": {},
   "source": [
    "# Example 5-2: Calculating Sunrise-Sunset Times\n",
    "### _Fundamentals of Astrodynamics and Applications_, 5th Ed., 2022, p. 290-291"
   ]
  },
  {
   "cell_type": "markdown",
   "id": "180e4951-3900-40f5-8f1c-704ac8ed6a9b",
   "metadata": {},
   "source": [
    "This notebook demonstrates calculating the sunrise and sunset times given a date and site location."
   ]
  },
  {
   "cell_type": "markdown",
   "id": "60055a6d-a9b1-4573-9278-ba4f9b90396a",
   "metadata": {},
   "source": [
    "## Install and Import Libraries\n",
    "---"
   ]
  },
  {
   "cell_type": "markdown",
   "id": "b5e9db36-44ba-43bd-9071-30585b3a6d38",
   "metadata": {},
   "source": [
    "First, install `valladopy` if it doesn't already exist in your environment:"
   ]
  },
  {
   "cell_type": "code",
   "execution_count": 1,
   "id": "4f06cef8-9440-4863-b788-6ab5d4409cb7",
   "metadata": {},
   "outputs": [
    {
     "name": "stdout",
     "output_type": "stream",
     "text": [
      "Requirement already satisfied: valladopy in /opt/anaconda3/envs/vallado-env/lib/python3.12/site-packages (0.2.0)\n",
      "Requirement already satisfied: numpy==1.26.4 in /opt/anaconda3/envs/vallado-env/lib/python3.12/site-packages (from valladopy) (1.26.4)\n",
      "Requirement already satisfied: pydantic==2.9.2 in /opt/anaconda3/envs/vallado-env/lib/python3.12/site-packages (from valladopy) (2.9.2)\n",
      "Requirement already satisfied: scipy==1.13.1 in /opt/anaconda3/envs/vallado-env/lib/python3.12/site-packages (from valladopy) (1.13.1)\n",
      "Requirement already satisfied: annotated-types>=0.6.0 in /opt/anaconda3/envs/vallado-env/lib/python3.12/site-packages (from pydantic==2.9.2->valladopy) (0.7.0)\n",
      "Requirement already satisfied: pydantic-core==2.23.4 in /opt/anaconda3/envs/vallado-env/lib/python3.12/site-packages (from pydantic==2.9.2->valladopy) (2.23.4)\n",
      "Requirement already satisfied: typing-extensions>=4.6.1 in /opt/anaconda3/envs/vallado-env/lib/python3.12/site-packages (from pydantic==2.9.2->valladopy) (4.12.2)\n"
     ]
    }
   ],
   "source": [
    "!pip install valladopy"
   ]
  },
  {
   "cell_type": "markdown",
   "id": "fb43c6be-8904-4657-9a7c-38c0583a2dd5",
   "metadata": {},
   "source": [
    "Import `numpy` and the relevant `valladopy` modules:"
   ]
  },
  {
   "cell_type": "code",
   "execution_count": 2,
   "id": "092c73b8-e254-4dd2-90de-391f062c7bf2",
   "metadata": {},
   "outputs": [],
   "source": [
    "import numpy as np\n",
    "import valladopy.constants as const\n",
    "from valladopy.astro.celestial import sun\n",
    "from valladopy.mathtime.julian_date import jday\n",
    "from valladopy.mathtime.utils import sec2hms"
   ]
  },
  {
   "cell_type": "markdown",
   "id": "1b11e035-a76b-426b-aa29-48047580e433",
   "metadata": {},
   "source": [
    "## Problem Definition\n",
    "---"
   ]
  },
  {
   "cell_type": "markdown",
   "id": "b8df6ef8-3151-4a06-9351-80ace54af109",
   "metadata": {},
   "source": [
    "GIVEN:&ensp;Site at $40^{\\circ}\\text{N}$, $0^{\\circ}\\text{E}$ on March 23, 1996<br>\n",
    "FIND: &emsp;Sunrise and sunset times"
   ]
  },
  {
   "cell_type": "code",
   "execution_count": 3,
   "id": "60aea474-e6a2-40dd-b4af-38b0d7544191",
   "metadata": {},
   "outputs": [],
   "source": [
    "year = 1996\n",
    "month = 3\n",
    "day = 23\n",
    "latgd = np.radians(40)\n",
    "lon = 0"
   ]
  },
  {
   "cell_type": "markdown",
   "id": "b33ad596-1ffe-46d8-a6d9-7e89bfb657c2",
   "metadata": {},
   "source": [
    "## Solution\n",
    "---"
   ]
  },
  {
   "cell_type": "markdown",
   "id": "c9e8a6de-9228-42e3-a036-dc265ccd60ad",
   "metadata": {},
   "source": [
    "We begin by finding the Julian Date using **Algorithm 14**:\n",
    "\n",
    "$$\n",
    "JD = 367(yr)\n",
    "- \\text{INT}\\left\\{ \\frac{7\\left\\{ yr + \\text{INT} \\left( \\frac{mo + 9}{12} \\right) \\right\\}}{4} \\right\\}\n",
    "+ \\text{INT}\\left( \\frac{275\\,mo}{9} \\right)\n",
    "+ d + 1{,}721{,}013.5\n",
    "+ \\frac{h\\,3600 + min\\,60 + s}{86400}\n",
    "$$\n",
    "\n",
    "Which is done with the `jday` routine:"
   ]
  },
  {
   "cell_type": "code",
   "execution_count": 4,
   "id": "9fbcdcae-4cdc-47d8-bdea-69df0f90ac7a",
   "metadata": {},
   "outputs": [
    {
     "name": "stdout",
     "output_type": "stream",
     "text": [
      "Julian Date:\t2450165.5\n"
     ]
    }
   ],
   "source": [
    "jd, jdfrac = jday(year, month, day)\n",
    "\n",
    "print(f'Julian Date:\\t{jd + jdfrac}')"
   ]
  },
  {
   "cell_type": "markdown",
   "id": "7ce39731-b96f-4ce3-91bc-78c34c7202b3",
   "metadata": {},
   "source": [
    "**Algorithm 30** shows the process for calculating sunrise and sunset times.\n",
    "\n",
    "Begin by finding the Julian dates of the sunrise and sunset occurrences, using the JD at $0^{\\text{h}}$:\n",
    "\n",
    "$$\n",
    "\\begin{aligned}\n",
    "JD_{sunrise} &= JD_{0^{\\text{h}}} + 6/24 - \\lambda/360 \\\\\n",
    "\\\\\n",
    "JD_{sunset} &= JD_{0^{\\text{h}}} + 18/24 - \\lambda/360\n",
    "\\end{aligned}\n",
    "$$\n",
    "\n",
    "Find the Julian centuries of UT1:\n",
    "\n",
    "$$\n",
    "T_{UT1} = \\frac{JD_{UT1} - 2,451,545.0}{36,525}\n",
    "$$\n",
    "\n",
    "Find the mean anomaly and the mean and corrected ecliptic longitudes, letting $T_{TDB} \\cong T_{UT1}$:\n",
    "\n",
    "$$\n",
    "\\begin{aligned}\n",
    "M_{\\odot} &= 357.5291092^{\\circ} + 35,999.05034 \\ T_{UT1}\n",
    "\\\\\n",
    "\\bar{\\lambda}_{ecliptic \\ \\odot} &= 280.4606184^{\\circ} + 36,000.77005361 \\ T_{UT1}\n",
    "\\\\\n",
    "\\lambda_{ecliptic \\ \\odot} &= \\bar{\\lambda}_{ecliptic \\ \\odot} + 1.914666471^{\\circ} \\sin(M_{\\odot}) + 0.019994643 \\sin(2 M_{\\odot})\n",
    "\\end{aligned}\n",
    "$$\n",
    "\n",
    "The obliquity of the ecliptic can be approximated as:\n",
    "\n",
    "$$\n",
    "\\epsilon = 23.439291^{\\circ} - 0.013004 \\ T_{TDB} \\ \\cong \\ 23.439291^{\\circ} - 0.013004 \\ T_{UT1}\n",
    "$$\n",
    "\n",
    "And obtain the right ascension and declination with:\n",
    "\n",
    "$$\n",
    "\\begin{aligned}\n",
    "\\tan(\\alpha_{\\odot}) &= \\cos(\\epsilon) \\tan(\\lambda_{ecliptic \\ \\odot}) \\\\\n",
    "\\\\\n",
    "\\sin(\\delta_{\\odot}) &= \\sin(\\epsilon) \\sin(\\lambda_{ecliptic \\ \\odot})\n",
    "\\end{aligned}\n",
    "$$\n",
    "\n",
    "Now find the local hour angle (LHA) of the site. Using **Algorithm 28** for *sunset*:\n",
    "\n",
    "$$\n",
    "\\cos(LHA_{\\odot}) = \\cos(LHA_{sunset}) = \\frac{\\cos{\\varsigma} - \\sin(\\delta_{\\odot}) \\sin(\\phi_{gc})}{\\cos(\\delta_{\\odot})\\cos(\\phi_{gc})}\n",
    "$$\n",
    "\n",
    "and:\n",
    "\n",
    "$$\n",
    "LHA_{sunrise} = 360^{\\circ} - LHA_{sunset}\n",
    "$$\n",
    "\n",
    "where $\\varsigma$ is the angle between the Sun and the site and defines the position and timing of the event. For sunsrise and sunset, we use $\\varsigma = 90^{\\circ} 50'$ (see p. 287 for more details).\n",
    "\n",
    "Next, get the Greenwich mean sidereal time (GMST) at $6^{\\text{h}}$ using **Equation 3-46**, keeping in mind that $T_{UT1}$ contains the JD offset from earlier (making it at $6^{\\text{h}}$ instead of $0^{\\text{h}}$):\n",
    "\n",
    "$$\n",
    "GMST = 100.4606184^{\\circ} + 36,000.77005361 \\ T_{UT1} + 0.00038793 \\ T^2_{UT1} - 2.6 \\times 10^{-8} \\ T^3_{UT1} \n",
    "$$\n",
    "\n",
    "Finally, determine the universal time with:\n",
    "\n",
    "$$\n",
    "UT = LHA_{\\odot} + \\alpha_{\\odot} - GMST\n",
    "$$\n",
    "\n",
    "All of this is encompassed in the `sun.rise_set` routine, which returns the sunrise and sunset universal times in **hours**:"
   ]
  },
  {
   "cell_type": "code",
   "execution_count": 5,
   "id": "54cb4aa2-7e60-4929-8d7a-2f5949b44f0f",
   "metadata": {},
   "outputs": [
    {
     "name": "stdout",
     "output_type": "stream",
     "text": [
      "Sunrise:\t5 hr,\t58 min,\t21.9660 sec\n",
      "Sunset:\t\t18 hr,\t15 min,\t17.7614 sec\n"
     ]
    }
   ],
   "source": [
    "sunrise, sunset = sun.rise_set(jd + jdfrac, latgd, lon)\n",
    "\n",
    "# Convert to HMS format:\n",
    "sunrise_hms = sec2hms(sunrise * const.HR2SEC)\n",
    "sunset_hms = sec2hms(sunset * const.HR2SEC)\n",
    "\n",
    "print(f'Sunrise:\\t{sunrise_hms[0]} hr,\\t{sunrise_hms[1]} min,\\t{sunrise_hms[2]:.4f} sec')\n",
    "print(f'Sunset:\\t\\t{sunset_hms[0]} hr,\\t{sunset_hms[1]} min,\\t{sunset_hms[2]:.4f} sec')"
   ]
  },
  {
   "cell_type": "markdown",
   "id": "668c3ccb-9a2d-44d1-a5d2-d849854feecb",
   "metadata": {},
   "source": [
    "These values are nearly identical to those found in the Almanac (1996)."
   ]
  }
 ],
 "metadata": {
  "kernelspec": {
   "display_name": "Python (Vallado Env)",
   "language": "python",
   "name": "vallado-env"
  },
  "language_info": {
   "codemirror_mode": {
    "name": "ipython",
    "version": 3
   },
   "file_extension": ".py",
   "mimetype": "text/x-python",
   "name": "python",
   "nbconvert_exporter": "python",
   "pygments_lexer": "ipython3",
   "version": "3.12.2"
  }
 },
 "nbformat": 4,
 "nbformat_minor": 5
}
