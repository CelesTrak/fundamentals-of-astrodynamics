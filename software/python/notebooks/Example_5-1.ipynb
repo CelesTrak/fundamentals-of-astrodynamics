{
 "cells": [
  {
   "cell_type": "markdown",
   "id": "64686731-4f57-4742-99aa-10ecae43b078",
   "metadata": {},
   "source": [
    "# Example 5-1: Finding the Sun Position Vector\n",
    "### _Fundamentals of Astrodynamics and Applications_, 5th Ed., 2022, p. 286-287"
   ]
  },
  {
   "cell_type": "markdown",
   "id": "180e4951-3900-40f5-8f1c-704ac8ed6a9b",
   "metadata": {},
   "source": [
    "This notebook demonstrates calculating the geocentric position of the Sun (mean-of-date) given a date and time."
   ]
  },
  {
   "cell_type": "markdown",
   "id": "60055a6d-a9b1-4573-9278-ba4f9b90396a",
   "metadata": {},
   "source": [
    "## Install and Import Libraries\n",
    "---"
   ]
  },
  {
   "cell_type": "markdown",
   "id": "b5e9db36-44ba-43bd-9071-30585b3a6d38",
   "metadata": {},
   "source": [
    "First, install `valladopy` if it doesn't already exist in your environment:"
   ]
  },
  {
   "cell_type": "code",
   "execution_count": 1,
   "id": "4f06cef8-9440-4863-b788-6ab5d4409cb7",
   "metadata": {},
   "outputs": [
    {
     "name": "stdout",
     "output_type": "stream",
     "text": [
      "Collecting valladopy==0.4.1\n",
      "  Downloading valladopy-0.4.1-py3-none-any.whl.metadata (1.1 kB)\n",
      "Requirement already satisfied: numpy==1.26.4 in /opt/anaconda3/envs/vallado-env/lib/python3.12/site-packages (from valladopy==0.4.1) (1.26.4)\n",
      "Requirement already satisfied: pydantic==2.9.2 in /opt/anaconda3/envs/vallado-env/lib/python3.12/site-packages (from valladopy==0.4.1) (2.9.2)\n",
      "Requirement already satisfied: scipy==1.13.1 in /opt/anaconda3/envs/vallado-env/lib/python3.12/site-packages (from valladopy==0.4.1) (1.13.1)\n",
      "Requirement already satisfied: annotated-types>=0.6.0 in /opt/anaconda3/envs/vallado-env/lib/python3.12/site-packages (from pydantic==2.9.2->valladopy==0.4.1) (0.7.0)\n",
      "Requirement already satisfied: pydantic-core==2.23.4 in /opt/anaconda3/envs/vallado-env/lib/python3.12/site-packages (from pydantic==2.9.2->valladopy==0.4.1) (2.23.4)\n",
      "Requirement already satisfied: typing-extensions>=4.6.1 in /opt/anaconda3/envs/vallado-env/lib/python3.12/site-packages (from pydantic==2.9.2->valladopy==0.4.1) (4.12.2)\n",
      "Downloading valladopy-0.4.1-py3-none-any.whl (144 kB)\n",
      "\u001b[2K   \u001b[90m━━━━━━━━━━━━━━━━━━━━━━━━━━━━━━━━━━━━━━━━\u001b[0m \u001b[32m144.3/144.3 kB\u001b[0m \u001b[31m3.2 MB/s\u001b[0m eta \u001b[36m0:00:00\u001b[0m \u001b[36m0:00:01\u001b[0m\n",
      "\u001b[?25hInstalling collected packages: valladopy\n",
      "  Attempting uninstall: valladopy\n",
      "    Found existing installation: valladopy 0.3.0\n",
      "    Uninstalling valladopy-0.3.0:\n",
      "      Successfully uninstalled valladopy-0.3.0\n",
      "Successfully installed valladopy-0.4.1\n"
     ]
    }
   ],
   "source": [
    "!pip install valladopy==0.4.1"
   ]
  },
  {
   "cell_type": "markdown",
   "id": "fb43c6be-8904-4657-9a7c-38c0583a2dd5",
   "metadata": {},
   "source": [
    "Import `numpy` and the relevant `valladopy` modules:"
   ]
  },
  {
   "cell_type": "code",
   "execution_count": 2,
   "id": "092c73b8-e254-4dd2-90de-391f062c7bf2",
   "metadata": {},
   "outputs": [],
   "source": [
    "import numpy as np\n",
    "from valladopy.astro.celestial import sun\n",
    "from valladopy.mathtime.julian_date import jday"
   ]
  },
  {
   "cell_type": "markdown",
   "id": "1b11e035-a76b-426b-aa29-48047580e433",
   "metadata": {},
   "source": [
    "## Problem Definition\n",
    "---"
   ]
  },
  {
   "cell_type": "markdown",
   "id": "b8df6ef8-3151-4a06-9351-80ace54af109",
   "metadata": {},
   "source": [
    "GIVEN: &ensp;April 1, 2006, 23:58:54.816 UTC<br>\n",
    "FIND: &emsp;Geocentric position vector of the Sun (MOD)"
   ]
  },
  {
   "cell_type": "code",
   "execution_count": 3,
   "id": "60aea474-e6a2-40dd-b4af-38b0d7544191",
   "metadata": {},
   "outputs": [],
   "source": [
    "year = 2006\n",
    "month = 4\n",
    "day = 1\n",
    "hour = 23\n",
    "minute = 58\n",
    "second = 54.816"
   ]
  },
  {
   "cell_type": "markdown",
   "id": "b33ad596-1ffe-46d8-a6d9-7e89bfb657c2",
   "metadata": {},
   "source": [
    "## Solution\n",
    "---"
   ]
  },
  {
   "cell_type": "markdown",
   "id": "c9e8a6de-9228-42e3-a036-dc265ccd60ad",
   "metadata": {},
   "source": [
    "We begin by finding the Julian Date using **Algorithm 14**:\n",
    "\n",
    "$$\n",
    "JD = 367(yr)\n",
    "- \\text{INT}\\left\\{ \\frac{7\\left\\{ yr + \\text{INT} \\left( \\frac{mo + 9}{12} \\right) \\right\\}}{4} \\right\\}\n",
    "+ \\text{INT}\\left( \\frac{275\\,mo}{9} \\right)\n",
    "+ d + 1{,}721{,}013.5\n",
    "+ \\frac{h\\,3600 + min\\,60 + s}{86400}\n",
    "$$\n",
    "\n",
    "Which is done with the `jday` routine:"
   ]
  },
  {
   "cell_type": "code",
   "execution_count": 4,
   "id": "9fbcdcae-4cdc-47d8-bdea-69df0f90ac7a",
   "metadata": {},
   "outputs": [
    {
     "name": "stdout",
     "output_type": "stream",
     "text": [
      "Julian Date:\t2453827.4992\n"
     ]
    }
   ],
   "source": [
    "jd, jdfrac = jday(year, month, day, hour, minute, second)\n",
    "\n",
    "print(f'Julian Date:\\t{jd + jdfrac:.4f}')"
   ]
  },
  {
   "cell_type": "markdown",
   "id": "7ce39731-b96f-4ce3-91bc-78c34c7202b3",
   "metadata": {},
   "source": [
    "**Algorithm 29** outlines the steps to find the Sun position vector. First find the Julian centuries of UT1:\n",
    "\n",
    "$$\n",
    "T_{UT1} = \\frac{JD_{UT1} - 2,451,545.0}{36,525}\n",
    "$$\n",
    "\n",
    "The mean ecliptic longitude of the Sun is:\n",
    "\n",
    "$$\n",
    "\\bar{\\lambda}_{ecliptic \\ \\odot} = 280.460^{\\circ} + 36,000.771285 \\ T_{UT1}\n",
    "$$\n",
    "\n",
    "And if we let $T_{TDB} \\cong T_{UT1}$, then the mean anomaly is:\n",
    "\n",
    "$$\n",
    "M_{\\odot} = 357.528^{\\circ} + 35,999.050957 \\ T_{UT1}\n",
    "$$\n",
    "\n",
    "The ecliptic longitude of the Sun is:\n",
    "\n",
    "$$\n",
    "\\lambda_{ecliptic \\ \\odot} = \\bar{\\lambda}_{ecliptic \\ \\odot} + 1.915^{\\circ} \\sin(M_{\\odot}) + 0.020 \\sin(2 M_{\\odot})\n",
    "$$\n",
    "\n",
    "The position magnitude of the Sun is:\n",
    "\n",
    "$$\n",
    "r_{\\odot} = 1.00014 - 0.01671 \\cos(M_{\\odot}) - 0.00014 \\cos(2 M_{\\odot})\n",
    "$$\n",
    "\n",
    "The obliquity of the ecliptic can be approximated as:\n",
    "\n",
    "$$\n",
    "\\epsilon = 23.439291^{\\circ} - 0.01461 \\ T_{TDB} \\ \\cong \\ 23.439291^{\\circ} - 0.01461 \\ T_{UT1}\n",
    "$$\n",
    "\n",
    "Finally, the position vector in geocentric equatorial coordinates (MOD) is:\n",
    "\n",
    "$$\n",
    "\\vec{r_{\\odot}} = r_{\\odot} \\begin{bmatrix}\n",
    "\\cos(\\lambda_{ecliptic \\ \\odot}) \\\\\n",
    "\\cos(\\epsilon) \\sin(\\lambda_{ecliptic \\ \\odot}) \\\\\n",
    "\\sin(\\epsilon) \\sin(\\lambda_{ecliptic \\ \\odot})\n",
    "\\end{bmatrix} \\\n",
    "\\text{AU}\n",
    "$$\n",
    "\n",
    "Call the `sun.position` routine to accomplish this:"
   ]
  },
  {
   "cell_type": "code",
   "execution_count": 5,
   "id": "54cb4aa2-7e60-4929-8d7a-2f5949b44f0f",
   "metadata": {},
   "outputs": [
    {
     "name": "stdout",
     "output_type": "stream",
     "text": [
      "Sun position vector:\t[1.46186375e+08 2.87882000e+07 1.24807271e+07]\tkm\n"
     ]
    }
   ],
   "source": [
    "rsun, rtasc, decl = sun.position(jd + jdfrac)\n",
    "\n",
    "print(f'Sun position vector:\\t{rsun}\\tkm')"
   ]
  },
  {
   "cell_type": "markdown",
   "id": "361b49dc-2bc9-4de4-9d2f-4ba4ae264596",
   "metadata": {},
   "source": [
    "Note that the output for the sun vector is in kilometers, i.e., it is converted within the function.\n",
    "\n",
    "The routine above also finds the right ascension and declination, which use the simplified formulas:\n",
    "\n",
    "$$\n",
    "\\begin{aligned}\n",
    "\\tan(\\alpha_{\\odot}) &= \\cos(\\epsilon) \\tan(\\lambda_{ecliptic \\ \\odot}) \\\\\n",
    "\\\\\n",
    "\\sin(\\delta_{\\odot}) &= \\sin(\\epsilon) \\sin(\\lambda_{ecliptic \\ \\odot})\n",
    "\\end{aligned}\n",
    "$$"
   ]
  },
  {
   "cell_type": "code",
   "execution_count": 6,
   "id": "29320fbb-871f-4c96-b3fa-08a05e377810",
   "metadata": {},
   "outputs": [
    {
     "name": "stdout",
     "output_type": "stream",
     "text": [
      "Right ascension:\t11.1406\tdeg\n",
      "Declination:\t\t4.7883\tdeg\n"
     ]
    }
   ],
   "source": [
    "print(f'Right ascension:\\t{np.degrees(rtasc):.6}\\tdeg')\n",
    "print(f'Declination:\\t\\t{np.degrees(decl):.6}\\tdeg')"
   ]
  }
 ],
 "metadata": {
  "kernelspec": {
   "display_name": "Python (Vallado Env)",
   "language": "python",
   "name": "vallado-env"
  },
  "language_info": {
   "codemirror_mode": {
    "name": "ipython",
    "version": 3
   },
   "file_extension": ".py",
   "mimetype": "text/x-python",
   "name": "python",
   "nbconvert_exporter": "python",
   "pygments_lexer": "ipython3",
   "version": "3.12.2"
  }
 },
 "nbformat": 4,
 "nbformat_minor": 5
}
