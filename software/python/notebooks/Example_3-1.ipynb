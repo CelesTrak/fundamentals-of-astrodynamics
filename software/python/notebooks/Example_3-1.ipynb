{
 "cells": [
  {
   "cell_type": "markdown",
   "id": "c4dcc1e9-e7f5-4751-b4ad-ccf4112b800e",
   "metadata": {},
   "source": [
    "# Example 3-1: Determining Site Components\n",
    "### _Fundamentals of Astrodynamics and Applications_, 5th Ed., 2022, p. 142-143"
   ]
  },
  {
   "cell_type": "markdown",
   "id": "455abd3a-4abd-4a82-96c0-89d84d9f49aa",
   "metadata": {},
   "source": [
    "This notebook demonstrates finding site coordinates for an observatory given its geocentric latitude, longitude, and height above sea level."
   ]
  },
  {
   "cell_type": "markdown",
   "id": "0ac510d7-36fd-4090-9cb5-eb48f5cf7e8f",
   "metadata": {},
   "source": [
    "## Install and Import Libraries\n",
    "---"
   ]
  },
  {
   "cell_type": "markdown",
   "id": "aea0e872-2c5a-4d3f-9f7a-594fa689c0b1",
   "metadata": {},
   "source": [
    "First, install `valladopy` if it doesn't already exist in your environment:"
   ]
  },
  {
   "cell_type": "markdown",
   "id": "8e1c3b8f-2d12-4f15-95d3-e15b54511a05",
   "metadata": {},
   "source": [
    "!pip install valladopy"
   ]
  },
  {
   "cell_type": "markdown",
   "id": "a5acf71b-7264-40fc-b09b-ca3d2e630db6",
   "metadata": {},
   "source": [
    "Then import `numpy` and the `constants` module from `valladopy`:"
   ]
  },
  {
   "cell_type": "code",
   "execution_count": 1,
   "id": "2d109481-09f7-42c4-832f-10eacdbae7bf",
   "metadata": {},
   "outputs": [],
   "source": [
    "import numpy as np\n",
    "import valladopy.constants as const"
   ]
  },
  {
   "cell_type": "markdown",
   "id": "d1cbe3c5-7b0e-4d9e-8adf-2bcaa07a15b9",
   "metadata": {},
   "source": [
    "## Problem Definition\n",
    "---"
   ]
  },
  {
   "cell_type": "markdown",
   "id": "5bb67a3a-58da-4de9-8846-ff38b7ac49cc",
   "metadata": {},
   "source": [
    "GIVEN: Mt. Evans, Colorado. $\\phi_{gd} = 39.586667^\\circ$, $\\lambda = -105.64^\\circ$, $H_{MSL} = 4347.6672$ m ($14,264$ ft)<br> \n",
    "FIND: Site coordinates for the observatory near the top of the mountain"
   ]
  },
  {
   "cell_type": "code",
   "execution_count": 2,
   "id": "f2e43520-521a-43bc-bab0-1443472d68f8",
   "metadata": {},
   "outputs": [],
   "source": [
    "latgd = np.radians(39.586667)  # geocentric latitude, rad\n",
    "lon = np.radians(-105.64)      # longitude, rad\n",
    "alt = 4.3476672                # altitude, km"
   ]
  },
  {
   "cell_type": "markdown",
   "id": "644e0db8-2deb-4e8c-851a-d8d8e1249d6c",
   "metadata": {},
   "source": [
    "## Solution\n",
    "---"
   ]
  },
  {
   "cell_type": "markdown",
   "id": "5b1319d7-d0d9-47ae-a273-84a4f44f8337",
   "metadata": {},
   "source": [
    "Begin by assuming that the height above sea level is equal to the height above the ellipsoid.\n",
    "\n",
    "Then find the two auxiliary quantities that are obtained from geometrical properties of an ellipse (**Eq. 3-7**):\n",
    "\n",
    "$$\n",
    "C_{\\oplus} = \\frac{R_{\\oplus}}{\\sqrt{1 - e_{\\oplus}^2\\sin^2\\phi_{gd}}}, \\quad S_{\\oplus} = \\frac{R_{\\oplus}(1-e_{\\oplus}^2)}{\\sqrt{1 - e_{\\oplus}^2\\sin^2\\phi_{gd}}}\n",
    "$$"
   ]
  },
  {
   "cell_type": "code",
   "execution_count": 3,
   "id": "8833dc75-2463-4e5c-8d3b-8ddd907e2536",
   "metadata": {},
   "outputs": [
    {
     "name": "stdout",
     "output_type": "stream",
     "text": [
      "cearth:\t6386.8234 km\n",
      "searth:\t6344.0675 km\n"
     ]
    }
   ],
   "source": [
    "cearth = const.RE / np.sqrt(1 - const.ECCEARTHSQRD * np.sin(latgd) ** 2)\n",
    "searth = cearth * (1 - const.ECCEARTHSQRD)\n",
    "\n",
    "print(f'cearth:\\t{cearth:.4f} km')\n",
    "print(f'searth:\\t{searth:.4f} km')"
   ]
  },
  {
   "cell_type": "markdown",
   "id": "c75c0493-bd8f-4fa3-83bb-c9c9bf22767f",
   "metadata": {},
   "source": [
    "Next, compute the site's position components using **Eq. 3-7**:\n",
    "\n",
    "$$\n",
    "r_{\\delta} = (C_{\\oplus} + h_{ellp}) \\cos(\\phi_{gd}), \\quad r_{K} = (S_{\\oplus} + h_{ellp}) \\sin(\\phi_{gd})\n",
    "$$\n",
    "\n",
    "where $r_{\\delta}$ is the horizontal component along the semimajor axis and $r_{K}$ is the vertical component parallel to the semiminor axis."
   ]
  },
  {
   "cell_type": "code",
   "execution_count": 4,
   "id": "2c4a4d42-a0d3-4772-992c-62a57d5c2287",
   "metadata": {},
   "outputs": [
    {
     "name": "stdout",
     "output_type": "stream",
     "text": [
      "rdel:\t4925.4298 km\n",
      "rk:\t4045.4938 km\n"
     ]
    }
   ],
   "source": [
    "rdel = (cearth + alt) * np.cos(latgd)\n",
    "rk = (searth + alt) * np.sin(latgd)\n",
    "\n",
    "print(f'rdel:\\t{rdel:.4f} km')\n",
    "print(f'rk:\\t{rk:.4f} km')"
   ]
  },
  {
   "cell_type": "markdown",
   "id": "91bf3036-e0a8-4b98-b9ff-264bad21c263",
   "metadata": {},
   "source": [
    "Alternatively, we can also find the reduced latitude:\n",
    "\n",
    "$$\n",
    "\\phi_{rd} = \\tan^{-1}(\\tan(\\phi_{gd}))\\sqrt{1 - e_{\\oplus}^2}\n",
    "$$\n",
    "\n",
    "and then use **Eq. 3-3** to find the components directly:\n",
    "\n",
    "$$\n",
    "r_{\\delta} = R_{\\oplus}\\cos(\\phi_{rd}), \\quad r_{K} = R_{\\oplus}\\sqrt{1 - e_{\\oplus}^2}\\sin(\\phi_{rd})\n",
    "$$"
   ]
  }
 ],
 "metadata": {
  "kernelspec": {
   "display_name": "Python (Vallado Env)",
   "language": "python",
   "name": "vallado-env"
  },
  "language_info": {
   "codemirror_mode": {
    "name": "ipython",
    "version": 3
   },
   "file_extension": ".py",
   "mimetype": "text/x-python",
   "name": "python",
   "nbconvert_exporter": "python",
   "pygments_lexer": "ipython3",
   "version": "3.12.2"
  }
 },
 "nbformat": 4,
 "nbformat_minor": 5
}
