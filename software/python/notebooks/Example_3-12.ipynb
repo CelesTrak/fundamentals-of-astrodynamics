{
 "cells": [
  {
   "cell_type": "markdown",
   "id": "76ec6b42-a874-4b09-8c54-101c5c66ce01",
   "metadata": {},
   "source": [
    "# Example 3-12: Converting YMD HMS to Days\n",
    "### _Fundamentals of Astrodynamics and Applications_, 5th Ed., 2022, p. 202-203"
   ]
  },
  {
   "cell_type": "markdown",
   "id": "ca19719e-41f4-43a2-8f54-a321e0951bf1",
   "metadata": {},
   "source": [
    "This notebook demonstrates converting the year-month-day-hour-minute-second (YMD HMS) format to the days and fractions of a day from the beginning of the year."
   ]
  },
  {
   "cell_type": "markdown",
   "id": "69643edd-2682-425d-8b02-5921eb1c7e80",
   "metadata": {},
   "source": [
    "## Install and Import Libraries\n",
    "---"
   ]
  },
  {
   "cell_type": "markdown",
   "id": "01e5f06f-9b9a-4d51-8730-09168cddb321",
   "metadata": {},
   "source": [
    "First, install `valladopy` if it doesn't already exist in your environment:"
   ]
  },
  {
   "cell_type": "code",
   "execution_count": 1,
   "id": "b1a17afc-b7c7-4464-9378-e0e5b530e4eb",
   "metadata": {},
   "outputs": [
    {
     "name": "stdout",
     "output_type": "stream",
     "text": [
      "Requirement already satisfied: valladopy==0.3.0 in /opt/anaconda3/envs/vallado-env/lib/python3.12/site-packages (from -r valladopy_version.txt (line 1)) (0.3.0)\n",
      "Requirement already satisfied: numpy==1.26.4 in /opt/anaconda3/envs/vallado-env/lib/python3.12/site-packages (from valladopy==0.3.0->-r valladopy_version.txt (line 1)) (1.26.4)\n",
      "Requirement already satisfied: pydantic==2.9.2 in /opt/anaconda3/envs/vallado-env/lib/python3.12/site-packages (from valladopy==0.3.0->-r valladopy_version.txt (line 1)) (2.9.2)\n",
      "Requirement already satisfied: scipy==1.13.1 in /opt/anaconda3/envs/vallado-env/lib/python3.12/site-packages (from valladopy==0.3.0->-r valladopy_version.txt (line 1)) (1.13.1)\n",
      "Requirement already satisfied: annotated-types>=0.6.0 in /opt/anaconda3/envs/vallado-env/lib/python3.12/site-packages (from pydantic==2.9.2->valladopy==0.3.0->-r valladopy_version.txt (line 1)) (0.7.0)\n",
      "Requirement already satisfied: pydantic-core==2.23.4 in /opt/anaconda3/envs/vallado-env/lib/python3.12/site-packages (from pydantic==2.9.2->valladopy==0.3.0->-r valladopy_version.txt (line 1)) (2.23.4)\n",
      "Requirement already satisfied: typing-extensions>=4.6.1 in /opt/anaconda3/envs/vallado-env/lib/python3.12/site-packages (from pydantic==2.9.2->valladopy==0.3.0->-r valladopy_version.txt (line 1)) (4.12.2)\n"
     ]
    }
   ],
   "source": [
    "!pip install -r valladopy_version.txt"
   ]
  },
  {
   "cell_type": "markdown",
   "id": "758c376e-985f-45cd-983c-14c3d494132a",
   "metadata": {},
   "source": [
    "Import the relevant libraries and modules:"
   ]
  },
  {
   "cell_type": "code",
   "execution_count": 2,
   "id": "9e013517-68cd-4125-808f-15b7c419f16f",
   "metadata": {},
   "outputs": [],
   "source": [
    "import calendar\n",
    "import valladopy.constants as const\n",
    "from valladopy.mathtime.calendar import days2mdh, find_days"
   ]
  },
  {
   "cell_type": "markdown",
   "id": "d576117d-398d-4d74-99ff-c37ebabfd70a",
   "metadata": {},
   "source": [
    "## Problem Definition\n",
    "---"
   ]
  },
  {
   "cell_type": "markdown",
   "id": "6721cf36-f765-4a2c-961c-a06190ca814c",
   "metadata": {},
   "source": [
    "GIVEN:&ensp;March 18, 2001 12:14 P.M.<br>\n",
    "FIND: &emsp;Days"
   ]
  },
  {
   "cell_type": "code",
   "execution_count": 3,
   "id": "23f51075-1b32-4155-930f-d18c9f1b713f",
   "metadata": {},
   "outputs": [],
   "source": [
    "year = 2001\n",
    "month = 3\n",
    "day = 18\n",
    "hour = 12\n",
    "minute = 14\n",
    "second = 0"
   ]
  },
  {
   "cell_type": "markdown",
   "id": "c460b15a-b90b-4bd0-af6d-2e86635d9318",
   "metadata": {},
   "source": [
    "## Solution\n",
    "---"
   ]
  },
  {
   "cell_type": "markdown",
   "id": "47d1e61a-f0be-4dfc-97e0-68077e01ce57",
   "metadata": {},
   "source": [
    "The previous example (see [Example 3-11](Example_3-11.ipynb)) outlines the process for converting YMD to day of year. Here, we just add time information to the final result:\n",
    "\n",
    "$$\n",
    "\\begin{aligned}\n",
    "\\boldsymbol{\\mathit{YMDToDayOfYear}}\\left(YMD \\Rightarrow Day\\ of\\ Yr\\right) \\\\\n",
    "days = Day\\ of\\ Yr\\ + \\frac{h}{24} + \\frac{min}{1440} + \\frac{s}{86400}\n",
    "\\end{aligned}\n",
    "$$\n",
    "\n",
    "From the previous example:"
   ]
  },
  {
   "cell_type": "code",
   "execution_count": 4,
   "id": "649c2830-94a9-415c-a849-5a63bd2fa922",
   "metadata": {},
   "outputs": [
    {
     "name": "stdout",
     "output_type": "stream",
     "text": [
      "Day of year: 77\n"
     ]
    }
   ],
   "source": [
    "lmonth = [calendar.monthrange(year, m)[1] for m in range(1, 13)]\n",
    "day_of_year = sum(lmonth[:month - 1]) + day\n",
    "\n",
    "print(f'{\"Day of year:\":} {day_of_year}')"
   ]
  },
  {
   "cell_type": "markdown",
   "id": "22e461ee-98a5-4c90-b487-92d477efdec9",
   "metadata": {},
   "source": [
    "Now add the HMS information:"
   ]
  },
  {
   "cell_type": "code",
   "execution_count": 5,
   "id": "30d4e462-fb27-4568-abfe-5f28f35a96e5",
   "metadata": {},
   "outputs": [
    {
     "name": "stdout",
     "output_type": "stream",
     "text": [
      "Total days: 77.509722\n"
     ]
    }
   ],
   "source": [
    "days = day_of_year + hour/const.DAY2HR + minute/const.DAY2MIN + second/const.DAY2SEC\n",
    "\n",
    "print(f'{\"Total days:\":} {days:.6f}')"
   ]
  },
  {
   "cell_type": "markdown",
   "id": "6da956fc-b8a5-4cb6-b7be-667048225953",
   "metadata": {},
   "source": [
    "Or simply call the `find_days` routine:"
   ]
  },
  {
   "cell_type": "code",
   "execution_count": 6,
   "id": "054d3cb5-4025-4fb3-b309-0ae340992276",
   "metadata": {},
   "outputs": [
    {
     "name": "stdout",
     "output_type": "stream",
     "text": [
      "Total days: 77.509722\n"
     ]
    }
   ],
   "source": [
    "days_alt = find_days(year, month, day, hour, minute, second)\n",
    "\n",
    "print(f'{\"Total days:\":} {days_alt:.6f}')"
   ]
  },
  {
   "cell_type": "markdown",
   "id": "6f7ec162-1131-40b3-ac3c-8d016b52d665",
   "metadata": {},
   "source": [
    "The reverse process can be accomplished by simply using the integer of the total days as the day of the year, and then using one of the methods at the end of [Example 3-11](Example_3-11.ipynb) to find the month and day of the year from the integer days.\n",
    "\n",
    "Then, the total hours are determined by:\n",
    "\n",
    "$$\n",
    "\\begin{aligned}\n",
    "\\tau_{\\text{hr}} &= (Days - \\text{TRUNC}(Days)) \\ 24 = (Days - Day\\ of\\ Year) \\ 24 \\\\\n",
    "h &= \\text{TRUNC}(\\tau_{\\text{hr}})\n",
    "\\end{aligned}\n",
    "$$\n",
    "\n",
    "And using similar formulas to get the number of minutes and seconds:\n",
    "\n",
    "$$\n",
    "\\begin{aligned}\n",
    "\\tau_{\\text{min}} &= (\\tau_{\\text{hr}} - h) \\ 60 \\\\\n",
    "min &= \\text{TRUNC}(\\tau_{\\text{min}}) \\\\\n",
    "sec &= (\\tau_{\\text{min}} - min) \\ 60 \\\\\n",
    "\\end{aligned}\n",
    "$$\n",
    "\n",
    "(where the number of seconds is a `float` and not an integer)\n",
    "\n",
    "We can simply call the `days2mdh` routine to accomplish this instead:"
   ]
  },
  {
   "cell_type": "code",
   "execution_count": 7,
   "id": "08962992-c234-4a6f-97d3-89b47a966c27",
   "metadata": {},
   "outputs": [
    {
     "name": "stdout",
     "output_type": "stream",
     "text": [
      "Month:\t3\n",
      "Day:\t18\n",
      "Hour:\t12\n",
      "Minute:\t14\n",
      "Second:\t0.0\n"
     ]
    }
   ],
   "source": [
    "month_out, day_out, hr_out, min_out, sec_out = days2mdh(year, days)\n",
    "\n",
    "print(f'{\"Month:\":}\\t{month_out}')\n",
    "print(f'{\"Day:\":}\\t{day_out}')\n",
    "print(f'{\"Hour:\":}\\t{hr_out}')\n",
    "print(f'{\"Minute:\":}\\t{min_out}')\n",
    "print(f'{\"Second:\":}\\t{sec_out}')"
   ]
  }
 ],
 "metadata": {
  "kernelspec": {
   "display_name": "Python (Vallado Env)",
   "language": "python",
   "name": "vallado-env"
  },
  "language_info": {
   "codemirror_mode": {
    "name": "ipython",
    "version": 3
   },
   "file_extension": ".py",
   "mimetype": "text/x-python",
   "name": "python",
   "nbconvert_exporter": "python",
   "pygments_lexer": "ipython3",
   "version": "3.12.2"
  }
 },
 "nbformat": 4,
 "nbformat_minor": 5
}
