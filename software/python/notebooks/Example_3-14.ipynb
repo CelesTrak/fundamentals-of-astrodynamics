{
 "cells": [
  {
   "cell_type": "markdown",
   "id": "44737cb3-33bb-4502-98fb-8bffde24fd75",
   "metadata": {},
   "source": [
    "# Example 3-14: Performing an *IAU-2006/2000* Reduction\n",
    "### _Fundamentals of Astrodynamics and Applications_, 5th Ed., 2022, p. 221-223"
   ]
  },
  {
   "cell_type": "markdown",
   "id": "477cc47e-fa6f-4cb7-9581-a9fa2f7a5d87",
   "metadata": {},
   "source": [
    "This notebook demonstrates using the Celestial Intermediate Origin (CIO) theory to transform from the terrestrial (ITRF) coordinate system to the celestial (GCRF) coordinate system."
   ]
  },
  {
   "cell_type": "markdown",
   "id": "40ba24e3-5c9c-4d65-b7f1-ecfba2e71763",
   "metadata": {},
   "source": [
    "## Install and Import Libraries\n",
    "---"
   ]
  },
  {
   "cell_type": "markdown",
   "id": "8f4c855b-f09d-4a98-a9e8-c76bf61d260b",
   "metadata": {},
   "source": [
    "First, install `valladopy` if it doesn't already exist in your environment:"
   ]
  },
  {
   "cell_type": "code",
   "execution_count": 1,
   "id": "1c5e0c64-d63a-4e6b-b07b-4caf7274af48",
   "metadata": {},
   "outputs": [
    {
     "name": "stdout",
     "output_type": "stream",
     "text": [
      "Requirement already satisfied: valladopy in /opt/anaconda3/envs/vallado-env/lib/python3.12/site-packages (0.2.0)\n",
      "Requirement already satisfied: numpy==1.26.4 in /opt/anaconda3/envs/vallado-env/lib/python3.12/site-packages (from valladopy) (1.26.4)\n",
      "Requirement already satisfied: pydantic==2.9.2 in /opt/anaconda3/envs/vallado-env/lib/python3.12/site-packages (from valladopy) (2.9.2)\n",
      "Requirement already satisfied: scipy==1.13.1 in /opt/anaconda3/envs/vallado-env/lib/python3.12/site-packages (from valladopy) (1.13.1)\n",
      "Requirement already satisfied: annotated-types>=0.6.0 in /opt/anaconda3/envs/vallado-env/lib/python3.12/site-packages (from pydantic==2.9.2->valladopy) (0.7.0)\n",
      "Requirement already satisfied: pydantic-core==2.23.4 in /opt/anaconda3/envs/vallado-env/lib/python3.12/site-packages (from pydantic==2.9.2->valladopy) (2.23.4)\n",
      "Requirement already satisfied: typing-extensions>=4.6.1 in /opt/anaconda3/envs/vallado-env/lib/python3.12/site-packages (from pydantic==2.9.2->valladopy) (4.12.2)\n"
     ]
    }
   ],
   "source": [
    "!pip install valladopy"
   ]
  },
  {
   "cell_type": "markdown",
   "id": "5746f9cc-1e3b-4827-8f79-58bd10c4a9af",
   "metadata": {},
   "source": [
    "Import `os` and the relevant `valladopy` modules:"
   ]
  },
  {
   "cell_type": "code",
   "execution_count": 2,
   "id": "9cf60218-e6cf-4c7e-b605-ecffd106f028",
   "metadata": {},
   "outputs": [],
   "source": [
    "import os\n",
    "\n",
    "import valladopy.constants as const\n",
    "from valladopy.astro.time.data import iau06in, readxys\n",
    "from valladopy.astro.time.frame_conversions import ecef2eci06\n",
    "from valladopy.mathtime.julian_date import convtime"
   ]
  },
  {
   "cell_type": "markdown",
   "id": "8587a8e6-8e19-4120-934a-fc182936b5f6",
   "metadata": {},
   "source": [
    "## Problem Definition\n",
    "---"
   ]
  },
  {
   "cell_type": "markdown",
   "id": "be7e56d3-ed02-4604-a411-b21e22c7c5a9",
   "metadata": {},
   "source": [
    "GIVEN: $\\quad\\overrightarrow{r}_{ITRF} = -1033.479383 \\; \\hat{I} \\; + 7901.2952754 \\; \\hat{J} \\; + 6380.3565958 \\; \\hat{K}$ km<br>\n",
    "       $\\quad\\quad\\quad\\quad\\overrightarrow{v}_{ITRF} = -3.22563652 \\; \\hat{I} \\; - 2.87245145 \\; \\hat{J} \\; + 5.531924446 \\; \\hat{K}$ km/s<br>\n",
    "FIND:&emsp;$\\quad\\overrightarrow{r}_{GCRF},\\ \\overrightarrow{v}_{GCRF}$ on April 6, 2004, 07:51:28.386009 UTC"
   ]
  },
  {
   "cell_type": "code",
   "execution_count": 3,
   "id": "f62f6bf6-4076-4095-b5fa-7b9c2c662bc0",
   "metadata": {},
   "outputs": [],
   "source": [
    "# ITRF (i.e. ECEF) state vectors\n",
    "r_ecef = [-1033.479383, 7901.2952754, 6380.3565958]  # km\n",
    "v_ecef = [-3.22563652, -2.87245145, 5.531924446]     # km/s\n",
    "a_ecef = [0, 0, 0]                                   # dummy acceleration, km/s²\n",
    "\n",
    "# Date\n",
    "year = 2004\n",
    "month = 4\n",
    "day = 6\n",
    "hour = 7\n",
    "minute = 51\n",
    "second = 28.386009\n",
    "timezone = 0  # hours offset from UTC"
   ]
  },
  {
   "cell_type": "markdown",
   "id": "bdbec197-e16f-482d-a648-ba6701b38ee6",
   "metadata": {},
   "source": [
    "## Solution\n",
    "---"
   ]
  },
  {
   "cell_type": "markdown",
   "id": "11c69c2f-e846-4be7-9400-05829bc60f5e",
   "metadata": {},
   "source": [
    "We first determine the time quantities prior to starting the problem.\n",
    "\n",
    "Start by getting $\\Delta AT$, from the *Astronomic Almanac* (or from USNO's historical list [here](https://maia.usno.navy.mil/ser7/tai-utc.dat)):\n",
    "\n",
    "$$\n",
    "\\Delta AT = 32.0^{\\text{S}}\n",
    "$$"
   ]
  },
  {
   "cell_type": "code",
   "execution_count": 4,
   "id": "3f21cb1f-ebb2-473d-9077-603d225eea9e",
   "metadata": {},
   "outputs": [],
   "source": [
    "dat = 32  # seconds"
   ]
  },
  {
   "cell_type": "markdown",
   "id": "d3d5270b-b10b-47ba-a6bd-e31fd7062336",
   "metadata": {},
   "source": [
    "We can find the EOP quantities from the IERS's EOPC04 [final data](https://datacenter.iers.org/data/latestVersion/finals.all.iau2000.txt). Note that these parameters are regularly updated, so we will use values from a past snapshot and convert some quantities from arcseconds to radians:"
   ]
  },
  {
   "cell_type": "code",
   "execution_count": 5,
   "id": "3aac766f-c3a3-4dfe-b458-0a5db9cdd140",
   "metadata": {},
   "outputs": [],
   "source": [
    "dut1 = -0.4399619                  # seconds\n",
    "xp = -0.140682 * const.ARCSEC2RAD  # radians\n",
    "yp = 0.333309 * const.ARCSEC2RAD   # radians\n",
    "lod = 0.0015563                    # seconds\n",
    "dx = -0.000205 * const.ARCSEC2RAD  # radians\n",
    "dy = -0.000136 * const.ARCSEC2RAD  # radians"
   ]
  },
  {
   "cell_type": "markdown",
   "id": "4c3a75d0-1663-4dfe-8545-144e2fb188b0",
   "metadata": {},
   "source": [
    "Although general practice interpolates these values with a cubic spline, the above snapshot represents non-interpolated values.\n",
    "\n",
    "Next, convert UTC to various time systems using the `convtime` routine (see [Example 3-7](Example_3-7.ipynb) for more details on this process). We just need the Julian centuries of TT and the Julian date of UT1 for the final transformation:"
   ]
  },
  {
   "cell_type": "code",
   "execution_count": 6,
   "id": "5d55bbe2-7907-443e-9ed1-170ae84e2eba",
   "metadata": {},
   "outputs": [
    {
     "name": "stdout",
     "output_type": "stream",
     "text": [
      "Julian centuries of TT:\t0.04262363188899416\n"
     ]
    }
   ],
   "source": [
    "_, _, jdut1, jdut1frac, _, _, _, ttt, *_ = convtime(year, month, day, hour, minute, second, timezone, dut1, dat)\n",
    "\n",
    "print(f'Julian centuries of TT:\\t{ttt}')"
   ]
  },
  {
   "cell_type": "markdown",
   "id": "6330d1c1-3613-4b1b-aef5-3465682fc506",
   "metadata": {},
   "source": [
    "In order to convert the fixed vectors (ITRF/ECEF) to inertial vectors (GCRF/ECI), we need to obtain the matrices of coefficients for the IAU 2006 reduction calculations as well as the XYS data. The routines for these functions, `iau06in` for the matrices and `readxys` for the XYS data, require their respective data files to be present in a given data directory.\n",
    "\n",
    "Replace the following data directory definition with your preferred location. We will use the relative path from this notebook, assuming the same structure as [repository](https://github.com/CelesTrak/fundamentals-of-astrodynamics) to reach the `datalib` directory. The file names are hardcoded for now but are planned to be flexible in the future — make sure these are included in your data directory."
   ]
  },
  {
   "cell_type": "code",
   "execution_count": 7,
   "id": "20df0e77-9058-4f69-bce4-db824d632102",
   "metadata": {},
   "outputs": [
    {
     "name": "stdout",
     "output_type": "stream",
     "text": [
      "IAU 06 coefficient matrices keys:\n",
      "dict_keys(['ax0', 'ax0i', 'ay0', 'ay0i', 'as0', 'as0i', 'agst', 'agsti', 'apn0', 'apn0i', 'apl0', 'apl0i', 'aapn0', 'aapn0i'])\n",
      "\n",
      "IAU 06 XYS data keys:\n",
      "dict_keys(['jd', 'jdf', 'x', 'y', 's', 'mjd_tt'])\n",
      "\n"
     ]
    }
   ],
   "source": [
    "data_dir = \"../../../datalib/\"  # relative data path\n",
    "\n",
    "iau06arr = iau06in(data_dir)\n",
    "iau06xysarr = readxys(data_dir)\n",
    "\n",
    "print(f'IAU 06 coefficient matrices keys:\\n{iau06arr.__dict__.keys()}\\n')\n",
    "print(f'IAU 06 XYS data keys:\\n{iau06xysarr.__dict__.keys()}\\n')"
   ]
  },
  {
   "cell_type": "markdown",
   "id": "ff7642f6-e703-4c63-960b-4f04acdf6243",
   "metadata": {},
   "source": [
    "**Algorithm 23** summarizes the process of transforming the state vectors between the fixed and inertial coordinate systems.\n",
    "\n",
    "The precession-nutation matrix $PN$ is defined as:\n",
    "\n",
    "$$\n",
    "\\begin{aligned}\n",
    "\\left[\\mathbf{PN}\\right] &= \n",
    "\\left[\\begin{array}{ccc}\n",
    "1 - aX^2 & -aXY & X \\\\\n",
    "-aXY & 1 - aY^2 & Y \\\\\n",
    "-X & -Y & 1 - a(X^2 + Y^2)\n",
    "\\end{array}\n",
    "\\right] \\text{ROT3}(s) \\\\\n",
    "\\\\\n",
    "a &= \\frac{1}{1 + \\cos(d)} \\cong  \\frac{1}{2} + \\frac{1}{8} (X^2 + Y^2) \\\\\n",
    "\\\\\n",
    "d &= \\arctan\\left( \\sqrt{ \\frac{X^2 + Y^2}{1 - X^2 - Y^2} } \\right) \\\\\n",
    "\\end{aligned} \\\\\n",
    "$$\n",
    "\n",
    "where $X$ and $Y$ are the coordinates of the Celestial Intermediate Pole (CIP), and $s$ is the position of the Celestial Intermediate Origin (CIO) on the moving equator of date.\n",
    "\n",
    "The sidereal time rotation matrix $R$ is found with:\n",
    "\n",
    "$$\n",
    "[\\mathbf{R}] = \\text{ROT3}(-\\theta_{ERA})\n",
    "$$\n",
    "\n",
    "where $\\theta_{ERA}$ is the Earth Rotation Angle:\n",
    "\n",
    "$$\n",
    "\\theta_{ERA} = 2\\pi \\ (0.779057273264 + 1.00273781191135448 \\ (JD_{UT1} - 2,451,545.0))\n",
    "$$\n",
    "\n",
    "And the rotation matrix $W$ from ITRF to TIRS (to account for polar motion) is:\n",
    "\n",
    "$$\n",
    "[\\mathbf{W}] = \\text{ROT3}(-s') \\cdot \\text{ROT2}(x_p) \\cdot \\text{ROT1}(y_p)\n",
    "$$\n",
    "\n",
    "where $s'$ is the position of the Terrestrial Intermediate Origin (TIO) on the moving equator of the ITRF and $x_p$ and $y_p$ are the polar motion coordinates.\n",
    "\n",
    "The GCRF (inertial) state vectors are then computed as:\n",
    "\n",
    "$$\n",
    "\\begin{aligned}\n",
    "\\vec{r}_{GCRF} &= [\\mathbf{PN}][\\mathbf{R}][\\mathbf{W}]\\vec{r}_{ITRF} \\\\\n",
    "\\\\\n",
    "\\vec{v}_{GCRF} &= [\\mathbf{PN}][\\mathbf{R}] \\left\\{ [\\mathbf{W}]\\vec{v}_{ITRF} + \\vec{\\omega}_\\oplus \\times \\vec{r}_{TIRS} \\right\\}\n",
    "\\end{aligned}\n",
    "$$\n",
    "\n",
    "where $\\vec{\\omega}_\\oplus$ is the Earth rotation vector (with $LOD$ as the length of day in seconds):\n",
    "\n",
    "$$\n",
    "\\vec{\\omega}_\\oplus = \\left[ 0,\\ 0,\\ 7.292115146706979 \\times 10^{-5} \\right]\\left\\{ 1 - \\frac{LOD}{86400} \\right\\} \\ \\text{rad/s}\n",
    "$$\n",
    "\n",
    "and $\\vec{r_{TIRS}}$ is simply:\n",
    "\n",
    "$$\n",
    "\\vec{r_{TIRS}} = [\\mathbf{W}]_{\\text{ITRF-TIRS}} \\ \\ \\vec{r_{ITRF}}\n",
    "$$\n",
    "\n",
    "All of this is handled internally by the `ecef2eci06` routine, which applies the IAU 2006 reduction using the provided EOP and XYS data:"
   ]
  },
  {
   "cell_type": "code",
   "execution_count": 8,
   "id": "2d08cbf9-b2b3-4178-a8e4-a317a21485f8",
   "metadata": {},
   "outputs": [
    {
     "name": "stdout",
     "output_type": "stream",
     "text": [
      "GCRF (ECI) state vectors:\n",
      "\n",
      "r_gcrf:\t[5102.50895292 6123.01139843 6378.13693439]\tkm\n",
      "v_gcrf:\t[-4.74322015  0.79053649  5.53375572]\t\tkm/s\n"
     ]
    }
   ],
   "source": [
    "r_eci, v_eci, _ = ecef2eci06(r_ecef, v_ecef, a_ecef, ttt, jdut1+jdut1frac, lod, xp, yp, iau06arr, iau06xysarr, dx, dy)\n",
    "\n",
    "print('GCRF (ECI) state vectors:\\n')\n",
    "print(f'r_gcrf:\\t{r_eci}\\tkm')\n",
    "print(f'v_gcrf:\\t{v_eci}\\t\\tkm/s')"
   ]
  }
 ],
 "metadata": {
  "kernelspec": {
   "display_name": "Python (Vallado Env)",
   "language": "python",
   "name": "vallado-env"
  },
  "language_info": {
   "codemirror_mode": {
    "name": "ipython",
    "version": 3
   },
   "file_extension": ".py",
   "mimetype": "text/x-python",
   "name": "python",
   "nbconvert_exporter": "python",
   "pygments_lexer": "ipython3",
   "version": "3.12.2"
  }
 },
 "nbformat": 4,
 "nbformat_minor": 5
}
