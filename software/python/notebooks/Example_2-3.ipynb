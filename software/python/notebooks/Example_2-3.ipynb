{
 "cells": [
  {
   "cell_type": "markdown",
   "id": "8c31fb93-8c2e-4e09-b65a-37b5889e8649",
   "metadata": {},
   "source": [
    "# Example 2-3: Using Kepler's Equation for Hyperbolic Orbits\n",
    "### _Fundamentals of Astrodynamics and Applications_, 5th Ed., 2022, p. 71-72"
   ]
  },
  {
   "cell_type": "markdown",
   "id": "f83ebda8-ba55-42a5-ab32-30b282f9fd8e",
   "metadata": {},
   "source": [
    "This notebook demonstrates finding the hyperbolic anomaly $H$ given the mean anomaly and eccentricity."
   ]
  },
  {
   "cell_type": "markdown",
   "id": "ff6630c1-f9e3-4d55-b91c-e0c7cbd5a1e9",
   "metadata": {},
   "source": [
    "## Install and Import Libraries\n",
    "---"
   ]
  },
  {
   "cell_type": "markdown",
   "id": "25a316a2-39ee-4e2d-b6e0-228949ddcc1f",
   "metadata": {},
   "source": [
    "First, install `valladopy` if it doesn't already exist in your environment:"
   ]
  },
  {
   "cell_type": "code",
   "execution_count": 1,
   "id": "829254c2-c437-4e6b-8c1d-49cc32efcc58",
   "metadata": {},
   "outputs": [
    {
     "name": "stdout",
     "output_type": "stream",
     "text": [
      "Requirement already satisfied: valladopy==0.3.0 in /opt/anaconda3/envs/vallado-env/lib/python3.12/site-packages (from -r valladopy_version.txt (line 1)) (0.3.0)\n",
      "Requirement already satisfied: numpy==1.26.4 in /opt/anaconda3/envs/vallado-env/lib/python3.12/site-packages (from valladopy==0.3.0->-r valladopy_version.txt (line 1)) (1.26.4)\n",
      "Requirement already satisfied: pydantic==2.9.2 in /opt/anaconda3/envs/vallado-env/lib/python3.12/site-packages (from valladopy==0.3.0->-r valladopy_version.txt (line 1)) (2.9.2)\n",
      "Requirement already satisfied: scipy==1.13.1 in /opt/anaconda3/envs/vallado-env/lib/python3.12/site-packages (from valladopy==0.3.0->-r valladopy_version.txt (line 1)) (1.13.1)\n",
      "Requirement already satisfied: annotated-types>=0.6.0 in /opt/anaconda3/envs/vallado-env/lib/python3.12/site-packages (from pydantic==2.9.2->valladopy==0.3.0->-r valladopy_version.txt (line 1)) (0.7.0)\n",
      "Requirement already satisfied: pydantic-core==2.23.4 in /opt/anaconda3/envs/vallado-env/lib/python3.12/site-packages (from pydantic==2.9.2->valladopy==0.3.0->-r valladopy_version.txt (line 1)) (2.23.4)\n",
      "Requirement already satisfied: typing-extensions>=4.6.1 in /opt/anaconda3/envs/vallado-env/lib/python3.12/site-packages (from pydantic==2.9.2->valladopy==0.3.0->-r valladopy_version.txt (line 1)) (4.12.2)\n"
     ]
    }
   ],
   "source": [
    "!pip install -r valladopy_version.txt"
   ]
  },
  {
   "cell_type": "markdown",
   "id": "57bd345c-aada-4c51-b20f-a9b4f6d3834d",
   "metadata": {},
   "source": [
    "Then import `numpy` and the relevant `valladopy` routine:"
   ]
  },
  {
   "cell_type": "code",
   "execution_count": 2,
   "id": "f3b822cf-ba6c-424c-b1d0-e3c95428f986",
   "metadata": {},
   "outputs": [],
   "source": [
    "import numpy as np\n",
    "from valladopy.astro.twobody.newton import newtonm"
   ]
  },
  {
   "cell_type": "markdown",
   "id": "a9719a97-8bc9-4c52-9e7f-2760a30060a7",
   "metadata": {},
   "source": [
    "## Problem Definition\n",
    "---"
   ]
  },
  {
   "cell_type": "markdown",
   "id": "cba7230c-7bfa-415d-8089-ba69661fe2da",
   "metadata": {},
   "source": [
    "GIVEN: $M = 235.4^\\circ$, $e = 2.4$  \n",
    "FIND: $H$"
   ]
  },
  {
   "cell_type": "code",
   "execution_count": 3,
   "id": "874e6929-087b-4b83-a2db-e4dd420417f1",
   "metadata": {},
   "outputs": [],
   "source": [
    "m = np.radians(235.4)  # mean anomaly, rad\n",
    "ecc = 2.4              # eccentricity"
   ]
  },
  {
   "cell_type": "markdown",
   "id": "91c62628-0253-4237-b4ce-26db69689ad1",
   "metadata": {},
   "source": [
    "## Solution\n",
    "---"
   ]
  },
  {
   "cell_type": "markdown",
   "id": "3479406a-fc76-4ae6-900d-e703ec68bca2",
   "metadata": {},
   "source": [
    "Using **Algorithm 4**, we begin by letting:\n",
    "\n",
    "$$\n",
    "H_{n} = M - \\text{sign}(M)e\n",
    "$$\n",
    "\n",
    "and iterating with:\n",
    "\n",
    "$$\n",
    "H_{n+1} = H_{n} + \\frac{M - e\\sinh(H_{n}) + H+{n}}{e\\cosh(H_{n}) - 1}\n",
    "$$\n",
    "<br>\n",
    "until the difference between $H_{n}$ and $H_{n+1}$ is sufficiently small.\n",
    "\n",
    "We can leverage the `newtonm` function to solve this, as it supports both elliptical and hyperbolic cases. Both use a Newton-Raphson iteration method starting from an initial guess."
   ]
  },
  {
   "cell_type": "code",
   "execution_count": 4,
   "id": "a72d8284-8355-48de-94f4-0d9f0452ff5b",
   "metadata": {},
   "outputs": [
    {
     "name": "stdout",
     "output_type": "stream",
     "text": [
      "Hyperbolic anomaly:\t1.6014\trad\n",
      "\t\t\t91.75\tdeg\n",
      "\n",
      "True anomaly:\t\t1.6056\trad\n",
      "\t\t\t91.99\tdeg\n"
     ]
    }
   ],
   "source": [
    "h, nu = newtonm(ecc, m)\n",
    "\n",
    "print(f'Hyperbolic anomaly:\\t{h:.4f}\\trad')\n",
    "print(f'\\t\\t\\t{np.degrees(h):.2f}\\tdeg\\n')\n",
    "print(f'True anomaly:\\t\\t{nu:.4f}\\trad')\n",
    "print(f'\\t\\t\\t{np.degrees(nu):.2f}\\tdeg')"
   ]
  },
  {
   "cell_type": "markdown",
   "id": "7ace42cb-db1b-4ba3-b765-edd8e1aee854",
   "metadata": {},
   "source": [
    "You can optionally set the max iterations by including the `n_iter` option, which defaults to 50 iterations, e.g.:\n",
    "```\n",
    "h, nu = newtonm(ecc, m, n_iter=100)\n",
    "```"
   ]
  },
  {
   "cell_type": "markdown",
   "id": "c1efffa9-f24b-44d7-96a1-e3bd86d10e26",
   "metadata": {},
   "source": [
    "To see how quickly the process converges, we can set the iteration value in a for loop:"
   ]
  },
  {
   "cell_type": "code",
   "execution_count": 5,
   "id": "962fdcfd-1264-43fb-80ae-e112fae00a98",
   "metadata": {},
   "outputs": [
    {
     "name": "stdout",
     "output_type": "stream",
     "text": [
      "Iteration\tH_n+1 (rad)\t\tH_n+1 - H_n (rad)\n",
      "-----------------------------------------------------------------\n",
      "1\t\t1.6074355626796442\t-1.010695e-01\n",
      "2\t\t1.601396281543306\t-6.039281e-03\n",
      "3\t\t1.6013761451553947\t-2.013639e-05\n",
      "4\t\t1.6013761449325081\t-2.228866e-10\n"
     ]
    }
   ],
   "source": [
    "print('Iteration\\tH_n+1 (rad)\\t\\tH_n+1 - H_n (rad)')\n",
    "print('-----------------------------------------------------------------')\n",
    "h_init = m - np.sign(m) * ecc\n",
    "for i in range(4):\n",
    "    n_iter = i + 1\n",
    "    h, _ = newtonm(ecc, m, n_iter=n_iter)\n",
    "    print(f'{n_iter}\\t\\t{h}\\t{(h - h_init):e}')\n",
    "    h_init = h"
   ]
  }
 ],
 "metadata": {
  "kernelspec": {
   "display_name": "Python (Vallado Env)",
   "language": "python",
   "name": "vallado-env"
  },
  "language_info": {
   "codemirror_mode": {
    "name": "ipython",
    "version": 3
   },
   "file_extension": ".py",
   "mimetype": "text/x-python",
   "name": "python",
   "nbconvert_exporter": "python",
   "pygments_lexer": "ipython3",
   "version": "3.12.2"
  }
 },
 "nbformat": 4,
 "nbformat_minor": 5
}
