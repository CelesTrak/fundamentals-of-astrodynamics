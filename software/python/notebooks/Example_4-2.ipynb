{
 "cells": [
  {
   "cell_type": "markdown",
   "id": "a7badb2e-4dd5-4cd3-be59-f0aa80e1c7f1",
   "metadata": {},
   "source": [
    "# Example 4-2: Finding Observation Values\n",
    "### _Fundamentals of Astrodynamics and Applications_, 5th Ed., 2022, p. 279-280"
   ]
  },
  {
   "cell_type": "markdown",
   "id": "b70caefe-f94c-490d-8951-503adaeaeb88",
   "metadata": {},
   "source": [
    "This notebook demonstrates converting between various observation types from surveillance and tracking systems."
   ]
  },
  {
   "cell_type": "markdown",
   "id": "83cfed95-c7db-4aa3-af73-5077055ac06e",
   "metadata": {},
   "source": [
    "## Install and Import Libraries\n",
    "---"
   ]
  },
  {
   "cell_type": "markdown",
   "id": "649cfb34-eb95-4157-9e76-76647d572d85",
   "metadata": {},
   "source": [
    "First, install `valladopy` if it doesn't already exist in your environment and `pandas` for visual data display:"
   ]
  },
  {
   "cell_type": "code",
   "execution_count": 1,
   "id": "644eeb70-59b3-4a36-8bd8-00a9fbf9f1f5",
   "metadata": {},
   "outputs": [
    {
     "name": "stdout",
     "output_type": "stream",
     "text": [
      "Requirement already satisfied: valladopy in /opt/anaconda3/envs/vallado-env/lib/python3.12/site-packages (0.2.0)\n",
      "Requirement already satisfied: pandas in /opt/anaconda3/envs/vallado-env/lib/python3.12/site-packages (2.2.3)\n",
      "Requirement already satisfied: numpy==1.26.4 in /opt/anaconda3/envs/vallado-env/lib/python3.12/site-packages (from valladopy) (1.26.4)\n",
      "Requirement already satisfied: pydantic==2.9.2 in /opt/anaconda3/envs/vallado-env/lib/python3.12/site-packages (from valladopy) (2.9.2)\n",
      "Requirement already satisfied: scipy==1.13.1 in /opt/anaconda3/envs/vallado-env/lib/python3.12/site-packages (from valladopy) (1.13.1)\n",
      "Requirement already satisfied: annotated-types>=0.6.0 in /opt/anaconda3/envs/vallado-env/lib/python3.12/site-packages (from pydantic==2.9.2->valladopy) (0.7.0)\n",
      "Requirement already satisfied: pydantic-core==2.23.4 in /opt/anaconda3/envs/vallado-env/lib/python3.12/site-packages (from pydantic==2.9.2->valladopy) (2.23.4)\n",
      "Requirement already satisfied: typing-extensions>=4.6.1 in /opt/anaconda3/envs/vallado-env/lib/python3.12/site-packages (from pydantic==2.9.2->valladopy) (4.12.2)\n",
      "Requirement already satisfied: python-dateutil>=2.8.2 in /opt/anaconda3/envs/vallado-env/lib/python3.12/site-packages (from pandas) (2.9.0.post0)\n",
      "Requirement already satisfied: pytz>=2020.1 in /opt/anaconda3/envs/vallado-env/lib/python3.12/site-packages (from pandas) (2025.2)\n",
      "Requirement already satisfied: tzdata>=2022.7 in /opt/anaconda3/envs/vallado-env/lib/python3.12/site-packages (from pandas) (2025.2)\n",
      "Requirement already satisfied: six>=1.5 in /opt/anaconda3/envs/vallado-env/lib/python3.12/site-packages (from python-dateutil>=2.8.2->pandas) (1.16.0)\n"
     ]
    }
   ],
   "source": [
    "!pip install valladopy pandas"
   ]
  },
  {
   "cell_type": "markdown",
   "id": "a94e53ee-c19d-44d2-a653-45274858325f",
   "metadata": {},
   "source": [
    "Import libraries and `valladopy` modules:"
   ]
  },
  {
   "cell_type": "code",
   "execution_count": 2,
   "id": "f926a2eb-3a17-4ef0-af7d-0843dfad6e13",
   "metadata": {},
   "outputs": [],
   "source": [
    "import numpy as np\n",
    "import pandas as pd\n",
    "\n",
    "import valladopy.astro.twobody.frame_conversions as fc\n",
    "from valladopy.astro.time.data import iau80in\n",
    "from valladopy.astro.time.frame_conversions import ecef2eci, eci2ecef\n",
    "from valladopy.astro.twobody.utils import site\n",
    "from valladopy.mathtime.julian_date import convtime"
   ]
  },
  {
   "cell_type": "markdown",
   "id": "064e87b9-c783-4b9e-8c77-044b4c4a107c",
   "metadata": {},
   "source": [
    "## Problem Definition\n",
    "---"
   ]
  },
  {
   "cell_type": "markdown",
   "id": "1ac0ddff-abfc-4d7f-9ece-568906449618",
   "metadata": {},
   "source": [
    "GIVEN: &ensp; Neptune on May 14, 1994, r = 29.664361 AU (1 AU = 149,597,870 km)<br>\n",
    "&emsp;&emsp;&emsp;&emsp; A site at the U.S. Air Force Academy with:\n",
    "                         $\\phi_{gd} = 39.007^{\\circ}$, $\\lambda = -104.883^{\\circ}$, $h_{ellp} = 2194.56\\ \\text{m}$,\n",
    "                         and an epoch time of 13:11:20.59856 UTC<br>\n",
    "FIND: &emsp;&ensp;$\\vec{r}$, $\\vec{v}$, $\\alpha$, $\\delta$, $\\alpha_t$, $\\delta_t$, $\\beta$, $el$, $\\phi_{ecliptic}$, $\\lambda_{ecliptic}$, and rates"
   ]
  },
  {
   "cell_type": "code",
   "execution_count": 3,
   "id": "501164c8-ed5b-4d6e-8572-2706d459e79b",
   "metadata": {},
   "outputs": [],
   "source": [
    "# Date\n",
    "year = 1994\n",
    "month = 5\n",
    "day = 14\n",
    "hour = 13\n",
    "minute = 11\n",
    "second = 20.59856\n",
    "timezone = 0  # hours offset from UTC\n",
    "\n",
    "# Geo coordinates\n",
    "latgd = np.radians(39.007)  # geodetic latitude, rad\n",
    "lon = np.radians(-104.883)  # longitude, rad\n",
    "alt = 2.19456               # altitude, km"
   ]
  },
  {
   "cell_type": "markdown",
   "id": "3e003d01-5477-4c12-8f31-ec0f81618856",
   "metadata": {},
   "source": [
    "## Solution\n",
    "---"
   ]
  },
  {
   "cell_type": "markdown",
   "id": "b910e41c-f0a4-457f-93f2-51b8f4ec4e1f",
   "metadata": {},
   "source": [
    "Start by getting $\\Delta AT$, from the *Astronomic Almanac* (or from USNO's historical list [here](https://maia.usno.navy.mil/ser7/tai-utc.dat)):\n",
    "\n",
    "$$\n",
    "\\Delta AT = 32.0^{\\text{S}}\n",
    "$$"
   ]
  },
  {
   "cell_type": "code",
   "execution_count": 4,
   "id": "75b20c43-eef5-4c76-8712-2276a6cf7c51",
   "metadata": {},
   "outputs": [],
   "source": [
    "dat = 32  # seconds"
   ]
  },
  {
   "cell_type": "markdown",
   "id": "99b9f5b5-9d79-4b49-bab8-d15925257178",
   "metadata": {},
   "source": [
    "We first find the geocentric right ascension and declination for the given time. We can retreive this from the [NASA JPL Horizons system](https://ssd.jpl.nasa.gov/horizons) using their public API. This process is outlined in the [JPL Horizons Queries notebook](JPL_Horizons_Queries.ipynb) (see **Right Ascension, Declination, and Range** section), but for this exercise, we will use the RA/dec angles, RA/dec angle rates, range, and range rate provided in the textbook example:"
   ]
  },
  {
   "cell_type": "code",
   "execution_count": 5,
   "id": "af692aad-e572-4bdd-84f0-2f29a2aadd11",
   "metadata": {},
   "outputs": [],
   "source": [
    "rr = 4437725220.51                   # range, km\n",
    "drr = -25.53033094                   # range rate, km/s\n",
    "rtasc = np.radians(294.9891458)      # right ascension, rad\n",
    "decl = np.radians(-20.8234944)       # declination, rad\n",
    "drtasc = np.radians(-0.00000012244)  # right ascension rate, rad/s\n",
    "ddecl = np.radians(-0.00000001794)   # declination rate, rad/s"
   ]
  },
  {
   "cell_type": "markdown",
   "id": "e350bb28-7a1d-4029-b16c-b9d3369c32d4",
   "metadata": {},
   "source": [
    "The Earth-centered inertial (ECI) state vectors can be determined by **Equation 4-1** and **Equation 4-2**:\n",
    "\n",
    "$$\n",
    "\\vec{r}_{ECI} = \\begin{bmatrix}\n",
    "r\\cos(\\delta) \\cos(\\alpha) \\\\\n",
    "r\\cos(\\delta) \\sin(\\alpha) \\\\\n",
    "r\\sin(\\delta) \n",
    "\\end{bmatrix}\n",
    "$$\n",
    "\n",
    "$$\n",
    "\\vec{v}_{ECI} = \\begin{bmatrix}\n",
    "\\dot{r}\\cos(\\delta)\\cos(\\alpha) - r\\sin(\\delta)\\cos(\\alpha)\\dot{\\delta} - r\\cos(\\delta)\\sin(\\alpha)\\dot{\\alpha}  \\\\\n",
    "\\dot{r}\\cos(\\delta)\\sin(\\alpha) - r\\sin(\\delta)\\sin(\\alpha)\\dot{\\delta} + r\\cos(\\delta)\\cos(\\alpha)\\dot{\\alpha}  \\\\\n",
    "\\dot{r}\\sin(\\delta) + r\\cos(\\delta)\\dot{\\delta}\n",
    "\\end{bmatrix}\n",
    "$$\n",
    "\n",
    "We can accomplish this by calling the `radec2rv` frame conversion routine:"
   ]
  },
  {
   "cell_type": "code",
   "execution_count": 6,
   "id": "17b046bd-dbdd-4f1d-8ded-4d2e9c007536",
   "metadata": {},
   "outputs": [
    {
     "name": "stdout",
     "output_type": "stream",
     "text": [
      "reci:\t[ 1.75224621e+09 -3.75956344e+09 -1.57756810e+09]\tkm\n",
      "veci:\t[-18.32349705  18.3320495    7.77704123]\t\tkm/s\n"
     ]
    }
   ],
   "source": [
    "reci, veci = fc.radec2rv(rr, rtasc, decl, drr, drtasc, ddecl)\n",
    "\n",
    "print(f'reci:\\t{reci}\\tkm')\n",
    "print(f'veci:\\t{veci}\\t\\tkm/s')"
   ]
  },
  {
   "cell_type": "markdown",
   "id": "a8be78bb-6fe7-44c3-8c04-108eed11641c",
   "metadata": {},
   "source": [
    "**Algorithm 25** covers the reverse process of converting the ECI state vectors to geocentric right ascension and declination values.\n",
    "\n",
    "To get the topocentric right ascension and declination, we first need to find the site vector in Earth-fixed coordinates. From **Equation 7-1**:\n",
    "\n",
    "$$\n",
    "\\vec{r}_{siteECEF} = \\begin{bmatrix}\n",
    "r_{\\delta}\\cos(\\lambda) \\\\\n",
    "r_{\\delta}\\sin(\\lambda) \\\\\n",
    "r_K \n",
    "\\end{bmatrix}\n",
    "= \\begin{bmatrix}\n",
    "(C_{\\oplus} + h_{ellp}) \\cos(\\phi_{gd}) \\cos(\\lambda) \\\\\n",
    "(C_{\\oplus} + h_{ellp}) \\cos(\\phi_{gd}) \\sin(\\lambda)  \\\\\n",
    "(S_{\\oplus} + h_{ellp}) \\sin(\\phi_{gd})\n",
    "\\end{bmatrix}\n",
    "$$\n",
    "\n",
    "and:\n",
    "$$\n",
    "\\vec{v}_{siteECEF} = [0, 0, 0]\n",
    "$$\n",
    "\n",
    "We can call the `site` routine to get these vectors:"
   ]
  },
  {
   "cell_type": "code",
   "execution_count": 7,
   "id": "86a0532a-0c4e-435f-99cc-011a9c2321f1",
   "metadata": {},
   "outputs": [
    {
     "name": "stdout",
     "output_type": "stream",
     "text": [
      "ITRF (ECEF) site vectors:\n",
      "r_site:\t[-1275.12327899 -4797.99417809  3994.30177136]\tkm\n",
      "v_site:\t[0. 0. 0.]\t\t\t\t\tkm/s\n"
     ]
    }
   ],
   "source": [
    "rsecef, vsecef = site(latgd, lon, alt)\n",
    "\n",
    "print('ITRF (ECEF) site vectors:')\n",
    "print(f'r_site:\\t{rsecef}\\tkm')\n",
    "print(f'v_site:\\t{vsecef}\\t\\t\\t\\t\\tkm/s')"
   ]
  },
  {
   "cell_type": "markdown",
   "id": "01246e47-96a5-4e26-891d-7f55138a773f",
   "metadata": {},
   "source": [
    "We now need to convert the site vectors from the fixed frame (ECEF) to the inertial frame (ECI). We first need to obtain the nutation matrices for the reduction calculations. The `iau80in` routine requires the nutation data to be present in a given data directory.\n",
    "\n",
    "Replace the following data directory definition with your preferred location. We will use the relative path from this notebook, assuming the same structure as [repository](https://github.com/CelesTrak/fundamentals-of-astrodynamics) to reach the `datalib` directory. The file name is hardcoded for now but is planned to be flexible in the future — make sure these are included in your data directory."
   ]
  },
  {
   "cell_type": "code",
   "execution_count": 8,
   "id": "659dd0b7-9c81-4c13-924c-bb916670aed6",
   "metadata": {},
   "outputs": [
    {
     "name": "stdout",
     "output_type": "stream",
     "text": [
      "IAU 80 nutation matrices keys:\n",
      "dict_keys(['iar80', 'rar80'])\n",
      "\n"
     ]
    }
   ],
   "source": [
    "data_dir = \"../../../datalib/\"  # relative data path\n",
    "\n",
    "iau80arr = iau80in(data_dir)\n",
    "\n",
    "print(f'IAU 80 nutation matrices keys:\\n{iau80arr.__dict__.keys()}\\n')"
   ]
  },
  {
   "cell_type": "markdown",
   "id": "5ea896a6-dab4-499a-8c44-16163f32f425",
   "metadata": {},
   "source": [
    "Next, convert UTC to various time systems using the `convtime` routine (see [Example 3-7](Example_3-7.ipynb) for more details on this process), and for this exercise we will set `dut1` to `0`. We just need the Julian centuries of TT and the Julian date of UT1 for the final transformation:"
   ]
  },
  {
   "cell_type": "code",
   "execution_count": 9,
   "id": "d9d67c94-0c79-458d-bfb7-bd2bf53329df",
   "metadata": {},
   "outputs": [
    {
     "name": "stdout",
     "output_type": "stream",
     "text": [
      "Julian centuries of TT:\t-0.05634359242066914\n"
     ]
    }
   ],
   "source": [
    "dut1 = 0\n",
    "_, _, jdut1, jdut1frac, _, _, _, ttt, *_ = convtime(year, month, day, hour, minute, second, timezone, dut1, dat)\n",
    "\n",
    "print(f'Julian centuries of TT:\\t{ttt}')"
   ]
  },
  {
   "cell_type": "markdown",
   "id": "444ff8fb-88c0-49f5-9336-0adaa10093c4",
   "metadata": {},
   "source": [
    "Convert the site vectors from the fixed frame (ECEF) to the inertial frame (ECI) using the `ecef2eci` routine, setting the ECEF acceleration and EOP values to zeroes:"
   ]
  },
  {
   "cell_type": "code",
   "execution_count": 10,
   "id": "ec8489c0-7923-449d-aab0-d497c6d8962d",
   "metadata": {},
   "outputs": [
    {
     "name": "stdout",
     "output_type": "stream",
     "text": [
      "GCRF (ECI) site vectors:\n",
      "r_site:\t[ 4068.21275892 -2842.52873922  3996.34951739]\tkm\n",
      "v_site:\t[2.07272424e-01 2.96810958e-01 1.16446194e-04]\tkm/s\n"
     ]
    }
   ],
   "source": [
    "# Set dummy values for acceleration and EOP parameters\n",
    "asecef = [0, 0, 0]                    # dummy acceleration, km/s²\n",
    "lod, xp, yp, ddpsi, ddeps = (0,) * 5  # EOP parameters\n",
    "\n",
    "# Convert site vectors from ECEF to ECI\n",
    "rseci, vseci, _ = ecef2eci(rsecef, vsecef, asecef, ttt, jdut1+jdut1frac, lod, xp, yp, ddpsi, ddeps, iau80arr)\n",
    "\n",
    "print('GCRF (ECI) site vectors:')\n",
    "print(f'r_site:\\t{rseci}\\tkm')\n",
    "print(f'v_site:\\t{vseci}\\tkm/s')"
   ]
  },
  {
   "cell_type": "markdown",
   "id": "a98b01d7-e3b7-4005-b709-c8fb63f47ee7",
   "metadata": {},
   "source": [
    "**Algorithm 26** outlines the process for obtaining the topocentric right ascension and declination.\n",
    "\n",
    "A rearranging of **Equation 4-3** gets us the slant-range and slant-range rate vectors:\n",
    "\n",
    "$$\n",
    "\\begin{aligned}\n",
    "\\vec{\\rho}_{ECI} = \\vec{r}_{ECI} - \\vec{r}_{SiteECI} \\\\\n",
    "\\dot{\\vec{\\rho}}_{ECI} = \\vec{v}_{ECI} - \\vec{v}_{SiteECI}\n",
    "\\end{aligned}\n",
    "$$\n",
    "\n",
    "The slant range is simply the magnitude of the vector, $\\rho = \\left| \\vec{\\rho}_{ECI} \\right|$. The declination is found with:\n",
    "\n",
    "$$\n",
    "\\sin(\\delta_t) = \\frac{\\rho_K}{\\rho}\n",
    "$$\n",
    "\n",
    "We can get the right ascension by implementing the following logic:\n",
    "\n",
    "$$\n",
    "\\begin{cases}\n",
    "\\sqrt{\\rho_I^2 + \\rho_J^2} \\neq 0: \\quad\n",
    "\\displaystyle\n",
    "\\sin(\\alpha_t) = \\frac{\\rho_J}{\\sqrt{\\rho_I^2 + \\rho_J^2}} & \\quad\n",
    "\\displaystyle\n",
    "\\cos(\\alpha_t) = \\frac{\\rho_I}{\\sqrt{\\rho_I^2 + \\rho_J^2}} \\\\\n",
    "\\sqrt{\\rho_I^2 + \\rho_J^2} = 0: \\quad\n",
    "\\displaystyle\n",
    "\\sin(\\alpha_t) = \\frac{\\dot{\\rho}_J}{\\sqrt{\\dot{\\rho}_I^2 + \\dot{\\rho}_J^2}} & \\quad\n",
    "\\displaystyle\n",
    "\\cos(\\alpha_t) = \\frac{\\dot{\\rho}_I}{\\sqrt{\\dot{\\rho}_I^2 + \\dot{\\rho}_J^2}} \\quad\n",
    "\\end{cases}\n",
    "$$\n",
    "\n",
    "The rates can be determined with:\n",
    "\n",
    "$$\n",
    "\\dot{\\rho} = \\frac{\\vec{\\rho}_{ECI} \\cdot \\dot{\\vec{\\rho}}_{ECI}}{\\rho} \\quad\\quad\n",
    "\\dot{\\alpha}_t = \\frac{\\dot{\\rho}_I \\rho_J - \\dot{\\rho}_J \\rho_I}{-\\rho_J^2 - \\rho_I^2} \\quad\\quad\n",
    "\\dot{\\delta}_t = \\frac{\\dot{\\rho}_K - \\dot{\\rho} \\sin(\\delta_t)}{\\sqrt{\\rho_I^2 + \\rho_J^2}} \n",
    "$$\n",
    "\n",
    "Call the `rv2tradec` routine to obtain the topocentric right ascension and declination angles and angle rates:"
   ]
  },
  {
   "cell_type": "code",
   "execution_count": 11,
   "id": "332b44d3-3493-4b55-bc39-9608dc83fd0b",
   "metadata": {},
   "outputs": [
    {
     "name": "stdout",
     "output_type": "stream",
     "text": [
      "Topocentric RA/Dec Values:\n",
      "\n",
      "range:\t\t\t4437722626.693015\t\tkm\n",
      "right asc.:\t\t294.98911145219154\t\tdeg\n",
      "decl.:\t\t\t-20.823562340039164\t\tdeg\n",
      "range rate:\t\t-25.3606717651137\t\tkm/s\n",
      "right asc. rate:\t-1.2676744847943192e-07\t\tdeg/s\n",
      "decl. rate:\t\t-1.7108900667178414e-08\t\tdeg/s\n"
     ]
    }
   ],
   "source": [
    "rho, trtasc, tdecl, drho, dtrtasc, dtdecl = fc.rv2tradec(reci, veci, rseci, vseci)\n",
    "\n",
    "print('Topocentric RA/Dec Values:\\n')\n",
    "print(f'range:\\t\\t\\t{rho}\\t\\tkm')\n",
    "print(f'right asc.:\\t\\t{np.degrees(trtasc)}\\t\\tdeg')\n",
    "print(f'decl.:\\t\\t\\t{np.degrees(tdecl)}\\t\\tdeg')\n",
    "print(f'range rate:\\t\\t{drho}\\t\\tkm/s')\n",
    "print(f'right asc. rate:\\t{np.degrees(dtrtasc)}\\t\\tdeg/s')\n",
    "print(f'decl. rate:\\t\\t{np.degrees(dtdecl)}\\t\\tdeg/s')"
   ]
  },
  {
   "cell_type": "markdown",
   "id": "12fb454a-4d64-421f-82be-d8d1b641fb6f",
   "metadata": {},
   "source": [
    "Next, we want to find the azimuth and elevation angles, which requires converting the ECI state vectors to the ECEF frame:"
   ]
  },
  {
   "cell_type": "code",
   "execution_count": 12,
   "id": "7c489566-7fd1-4206-a3c8-87f3e57679ab",
   "metadata": {},
   "outputs": [
    {
     "name": "stdout",
     "output_type": "stream",
     "text": [
      "recef:\t[-2.93155946e+09 -2.93395314e+09 -1.57837994e+09]\tkm\n",
      "vecef:\t[-2.13936294e+05  2.13796180e+05  7.78610886e+00]\tkm/s\n"
     ]
    }
   ],
   "source": [
    "aeci = [0, 0, 0]  # dummy acceleration, km/s²\n",
    "recef, vecef, _ = eci2ecef(reci, veci, aeci, ttt, jdut1+jdut1frac, lod, xp, yp, ddpsi, ddeps, iau80arr)\n",
    "\n",
    "print(f'recef:\\t{recef}\\tkm')\n",
    "print(f'vecef:\\t{vecef}\\tkm/s')"
   ]
  },
  {
   "cell_type": "markdown",
   "id": "9566318c-d3d4-4550-a0d8-925286470e6b",
   "metadata": {},
   "source": [
    "From there we implement the rest of **Algorithm 27**. The slant-range position and velocity vectors in ECEF are found with:\n",
    "\n",
    "$$\n",
    "\\begin{aligned}\n",
    "\\vec{\\rho}_{ECEF} &= \\vec{r}_{ECEF} - \\vec{r}_{SiteECEF} \\\\\n",
    "\\dot{\\vec{\\rho}}_{ECEF} &= \\vec{v}_{ECEF}\n",
    "\\end{aligned}\n",
    "$$\n",
    "\n",
    "We then rotate the slant range to the topocentric-horizon (SEZ) system:\n",
    "\n",
    "$$\n",
    "\\begin{aligned}\n",
    "\\vec{\\rho}_{SEZ} = \\left[ \\text{ROT2}(90^{\\circ} - \\phi_{gd}) \\right] \\left[ \\text{ROT3}(\\lambda) \\right] \\ \\vec{\\rho}_{ECEF} \\\\\n",
    "\\dot{\\vec{\\rho}}_{SEZ} = \\left[ \\text{ROT2}(90^{\\circ} - \\phi_{gd}) \\right] \\left[ \\text{ROT3}(\\lambda) \\right] \\ \\dot{\\vec{\\rho}}_{ECEF}\n",
    "\\end{aligned}\n",
    "$$\n",
    "\n",
    "Where $\\rho = \\left| \\vec{\\rho}_{SEZ} \\right|$. The elevation angle is found with:\n",
    "\n",
    "$$\n",
    "\\sin(el) = \\frac{\\rho_Z}{\\rho}\n",
    "$$\n",
    "\n",
    "We can get the azimuth by implementing the following logic:\n",
    "\n",
    "$$\n",
    "\\begin{cases}\n",
    "\\text{Elevation} \\neq 90^{\\circ}: \\quad\n",
    "\\displaystyle\n",
    "\\sin(\\beta) = \\frac{\\rho_E}{\\sqrt{\\rho_S^2 + \\rho_E^2}} & \\quad\n",
    "\\displaystyle\n",
    "\\cos(\\beta) = \\frac{-\\rho_S}{\\sqrt{\\rho_S^2 + \\rho_E^2}} \\\\\n",
    "\\text{Elevation} = 90^{\\circ}: \\quad\n",
    "\\displaystyle\n",
    "\\sin(\\beta) = \\frac{\\dot{\\rho}_E}{\\sqrt{\\dot{\\rho}_S^2 + \\dot{\\rho}_E^2}} & \\quad\n",
    "\\displaystyle\n",
    "\\cos(\\beta) = \\frac{\\dot{-\\rho}_S}{\\sqrt{\\dot{\\rho}_S^2 + \\dot{\\rho}_E^2}} \\quad\n",
    "\\end{cases}\n",
    "$$\n",
    "\n",
    "The rates can be determined with:\n",
    "\n",
    "$$\n",
    "\\dot{\\rho} = \\frac{\\vec{\\rho}_{SEZ} \\cdot \\dot{\\vec{\\rho}}_{SEZ}}{\\rho} \\quad\\quad\n",
    "\\dot{\\beta} = \\frac{\\dot{\\rho}_S \\rho_E - \\dot{\\rho}_E \\rho_S}{\\rho_S^2 + \\rho_E^2} \\quad\\quad\n",
    "\\dot{el} = \\frac{\\dot{\\rho}_Z - \\dot{\\rho} \\sin(el)}{\\sqrt{\\rho_S^2 + \\rho_E^2}} \n",
    "$$\n",
    "\n",
    "Call the `rv2razel` routine to obtain the azimuth and elevation angles and angle rates:"
   ]
  },
  {
   "cell_type": "code",
   "execution_count": 13,
   "id": "2b00632f-fb20-431e-a887-e08384c15907",
   "metadata": {},
   "outputs": [
    {
     "name": "stdout",
     "output_type": "stream",
     "text": [
      "Horizon Az/El Values:\n",
      "range:\t\t4437722626.693016\t\tkm\n",
      "az.:\t\t210.82506677475445\t\tdeg\n",
      "elev.:\t\t23.859505267041108\t\tdeg\n",
      "range rate:\t-25.360671765164735\t\tkm/s\n",
      "az. rate:\t0.0038629753442334575\t\tdeg/s\n",
      "elev. rate:\t-0.0016637109002570118\t\tdeg/s\n"
     ]
    }
   ],
   "source": [
    "rho_hzn, az, el, drho_hzn, daz, del_el = fc.rv2razel(recef, vecef, latgd, lon, alt)\n",
    "\n",
    "print('Horizon Az/El Values:')\n",
    "print(f'range:\\t\\t{rho_hzn}\\t\\tkm')\n",
    "print(f'az.:\\t\\t{np.degrees(np.mod(az, 2*np.pi))}\\t\\tdeg')\n",
    "print(f'elev.:\\t\\t{np.degrees(el)}\\t\\tdeg')\n",
    "print(f'range rate:\\t{drho_hzn}\\t\\tkm/s')\n",
    "print(f'az. rate:\\t{np.degrees(daz)}\\t\\tdeg/s')\n",
    "print(f'elev. rate:\\t{np.degrees(del_el)}\\t\\tdeg/s')"
   ]
  },
  {
   "cell_type": "markdown",
   "id": "f7d33160-d7f1-4137-810e-0f0ed6062d87",
   "metadata": {},
   "source": [
    "Finally, we want to find the ecliptic latitude and longitude angles. The difference between the geocentric and heliocentric (ecliptic) systems is the obliquity of the ecliptic, $\\epsilon$:\n",
    "\n",
    "$$\n",
    "\\vec{r}_{XYZ} = \\begin{bmatrix}\n",
    "r\\cos(\\phi_{ecliptic}) \\cos(\\lambda_{ecliptic}) \\\\\n",
    "r\\cos(\\phi_{ecliptic}) \\sin(\\lambda_{ecliptic}) \\\\\n",
    "r\\sin(\\phi_{ecliptic})\n",
    "\\end{bmatrix} \\quad\\quad\n",
    "\\vec{r}_{IJK} = \\text{ROT1} \\left[ -\\epsilon \\right] \\ \\vec{r}_{XYZ}\n",
    "$$\n",
    "\n",
    "Or, using **Equation 4-15**:\n",
    "\n",
    "$$\n",
    "\\vec{r}_{XYZ} =\n",
    "r \\begin{bmatrix}\n",
    "\\cos(\\phi_{ecliptic}) \\cos(\\lambda_{ecliptic}) \\\\\n",
    "\\cos(\\epsilon) \\cos(\\phi_{ecliptic}) \\sin(\\lambda_{ecliptic}) - \\sin(\\epsilon) \\sin(\\phi_{ecliptic}) \\\\\n",
    "\\sin(\\epsilon) \\cos(\\phi_{ecliptic}) \\sin(\\lambda_{ecliptic}) + \\cos(\\epsilon) \\sin(\\phi_{ecliptic}) \\\\\n",
    "\\end{bmatrix} \\\\\n",
    "$$\n",
    "\n",
    "Although the textbook doesn’t explicitly provide equations for the rates of change of ecliptic latitude and longitude, they can be computed in the same spirit as the previous conversions, which are calculated using vector derivatives consistent with the position and velocity transformations.\n",
    "\n",
    "Call the `rv2ell` routine to obtain the ecliptic latitude and longitude angles and angle rates:"
   ]
  },
  {
   "cell_type": "code",
   "execution_count": 14,
   "id": "0c67e368-d85f-4302-9b0a-81dd147e0042",
   "metadata": {},
   "outputs": [
    {
     "name": "stdout",
     "output_type": "stream",
     "text": [
      "Ecliptic Lat/Lon Values:\n",
      "range:\t\t4437725220.51\t\t\tkm\n",
      "lon.:\t\t293.2582108295137\t\tdeg\n",
      "lat.:\t\t0.6207506500195128\t\tdeg\n",
      "range rate:\t-25.530330940000006\t\tkm/s\n",
      "lon. rate:\t-1.1583629035019951e-07\t\tdeg/s\n",
      "elev. rate:\t1.5470846322574515e-09\t\tdeg/s\n"
     ]
    }
   ],
   "source": [
    "rho_ecl, ecllon, ecllat, drho_ecl, decllon, decllat = fc.rv2ell(reci, veci)\n",
    "\n",
    "print('Ecliptic Lat/Lon Values:')\n",
    "print(f'range:\\t\\t{rho_ecl}\\t\\t\\tkm')\n",
    "print(f'lon.:\\t\\t{np.degrees(np.mod(ecllon, 2*np.pi))}\\t\\tdeg')\n",
    "print(f'lat.:\\t\\t{np.degrees(ecllat)}\\t\\tdeg')\n",
    "print(f'range rate:\\t{drho_ecl}\\t\\tkm/s')\n",
    "print(f'lon. rate:\\t{np.degrees(decllon)}\\t\\tdeg/s')\n",
    "print(f'elev. rate:\\t{np.degrees(decllat)}\\t\\tdeg/s')"
   ]
  },
  {
   "cell_type": "markdown",
   "id": "6a44a0d7-6638-4980-a6a7-a2970d8bec23",
   "metadata": {},
   "source": [
    "## Summary\n",
    "---"
   ]
  },
  {
   "cell_type": "markdown",
   "id": "cb772570-6d61-4f81-afaa-ab88a5ddfd6a",
   "metadata": {},
   "source": [
    "The table below summarizes the results from all the conversions. We use the terms *lateral* for right ascension, azimuth, and longitude; and *vertical* for declination, elevation, and latitude:"
   ]
  },
  {
   "cell_type": "code",
   "execution_count": 15,
   "id": "6fb0f87f-d1dd-480b-bd96-ecdd606e9390",
   "metadata": {},
   "outputs": [
    {
     "data": {
      "text/html": [
       "<style type=\"text/css\">\n",
       "</style>\n",
       "<table id=\"T_186c6\">\n",
       "  <thead>\n",
       "    <tr>\n",
       "      <th id=\"T_186c6_level0_col0\" class=\"col_heading level0 col0\" >System</th>\n",
       "      <th id=\"T_186c6_level0_col1\" class=\"col_heading level0 col1\" >Range (km)</th>\n",
       "      <th id=\"T_186c6_level0_col2\" class=\"col_heading level0 col2\" >Lateral (°)</th>\n",
       "      <th id=\"T_186c6_level0_col3\" class=\"col_heading level0 col3\" >Vertical (°)</th>\n",
       "      <th id=\"T_186c6_level0_col4\" class=\"col_heading level0 col4\" >Range Rate (km/s)</th>\n",
       "      <th id=\"T_186c6_level0_col5\" class=\"col_heading level0 col5\" >Lateral Rate (°/s)</th>\n",
       "      <th id=\"T_186c6_level0_col6\" class=\"col_heading level0 col6\" >Vertical Rate (°/s)</th>\n",
       "    </tr>\n",
       "  </thead>\n",
       "  <tbody>\n",
       "    <tr>\n",
       "      <td id=\"T_186c6_row0_col0\" class=\"data row0 col0\" >Geocentric</td>\n",
       "      <td id=\"T_186c6_row0_col1\" class=\"data row0 col1\" >4437725220.510</td>\n",
       "      <td id=\"T_186c6_row0_col2\" class=\"data row0 col2\" >294.98914580</td>\n",
       "      <td id=\"T_186c6_row0_col3\" class=\"data row0 col3\" >-20.82349440</td>\n",
       "      <td id=\"T_186c6_row0_col4\" class=\"data row0 col4\" >-25.53033094</td>\n",
       "      <td id=\"T_186c6_row0_col5\" class=\"data row0 col5\" >-0.000000122440</td>\n",
       "      <td id=\"T_186c6_row0_col6\" class=\"data row0 col6\" >-0.000000017940</td>\n",
       "    </tr>\n",
       "    <tr>\n",
       "      <td id=\"T_186c6_row1_col0\" class=\"data row1 col0\" >Topocentric</td>\n",
       "      <td id=\"T_186c6_row1_col1\" class=\"data row1 col1\" >4437722626.693</td>\n",
       "      <td id=\"T_186c6_row1_col2\" class=\"data row1 col2\" >294.98911145</td>\n",
       "      <td id=\"T_186c6_row1_col3\" class=\"data row1 col3\" >-20.82356234</td>\n",
       "      <td id=\"T_186c6_row1_col4\" class=\"data row1 col4\" >-25.36067177</td>\n",
       "      <td id=\"T_186c6_row1_col5\" class=\"data row1 col5\" >-0.000000126767</td>\n",
       "      <td id=\"T_186c6_row1_col6\" class=\"data row1 col6\" >-0.000000017109</td>\n",
       "    </tr>\n",
       "    <tr>\n",
       "      <td id=\"T_186c6_row2_col0\" class=\"data row2 col0\" >Horizon</td>\n",
       "      <td id=\"T_186c6_row2_col1\" class=\"data row2 col1\" >4437722626.693</td>\n",
       "      <td id=\"T_186c6_row2_col2\" class=\"data row2 col2\" >210.82506677</td>\n",
       "      <td id=\"T_186c6_row2_col3\" class=\"data row2 col3\" >23.85950527</td>\n",
       "      <td id=\"T_186c6_row2_col4\" class=\"data row2 col4\" >-25.36067177</td>\n",
       "      <td id=\"T_186c6_row2_col5\" class=\"data row2 col5\" >0.003862975344</td>\n",
       "      <td id=\"T_186c6_row2_col6\" class=\"data row2 col6\" >-0.001663710900</td>\n",
       "    </tr>\n",
       "    <tr>\n",
       "      <td id=\"T_186c6_row3_col0\" class=\"data row3 col0\" >Ecliptic</td>\n",
       "      <td id=\"T_186c6_row3_col1\" class=\"data row3 col1\" >4437725220.510</td>\n",
       "      <td id=\"T_186c6_row3_col2\" class=\"data row3 col2\" >293.25821083</td>\n",
       "      <td id=\"T_186c6_row3_col3\" class=\"data row3 col3\" >0.62075065</td>\n",
       "      <td id=\"T_186c6_row3_col4\" class=\"data row3 col4\" >-25.53033094</td>\n",
       "      <td id=\"T_186c6_row3_col5\" class=\"data row3 col5\" >-0.000000115836</td>\n",
       "      <td id=\"T_186c6_row3_col6\" class=\"data row3 col6\" >0.000000001547</td>\n",
       "    </tr>\n",
       "  </tbody>\n",
       "</table>\n"
      ],
      "text/plain": [
       "<pandas.io.formats.style.Styler at 0x1335ff4d0>"
      ]
     },
     "execution_count": 15,
     "metadata": {},
     "output_type": "execute_result"
    }
   ],
   "source": [
    "summary_data = {\n",
    "    \"System\": [\"Geocentric\", \"Topocentric\", \"Horizon\", \"Ecliptic\"],\n",
    "    \"Range (km)\": [rr, rho, rho_hzn, rho_ecl],\n",
    "    \"Lateral (°)\": np.degrees([rtasc, trtasc, np.mod(az, 2*np.pi), np.mod(ecllon, 2*np.pi)]),\n",
    "    \"Vertical (°)\": np.degrees([decl, tdecl, el, ecllat]),\n",
    "    \"Range Rate (km/s)\": [drr, drho, drho_hzn, drho_ecl],\n",
    "    \"Lateral Rate (°/s)\": np.degrees([drtasc, dtrtasc, daz, decllon]),\n",
    "    \"Vertical Rate (°/s)\": np.degrees([ddecl, dtdecl, del_el, decllat]),\n",
    "}\n",
    "\n",
    "format_dict = {\n",
    "    \"Range (km)\": \"{:.3f}\",\n",
    "    \"Lateral (°)\": \"{:.8f}\",\n",
    "    \"Vertical (°)\": \"{:.8f}\",\n",
    "    \"Range Rate (km/s)\": \"{:.8f}\",\n",
    "    \"Lateral Rate (°/s)\": \"{:.12f}\",\n",
    "    \"Vertical Rate (°/s)\": \"{:.12f}\",\n",
    "}\n",
    "\n",
    "df = pd.DataFrame(summary_data)\n",
    "df.style.format(format_dict).hide(axis=\"index\")"
   ]
  },
  {
   "cell_type": "markdown",
   "id": "bdcd8b33-400f-4d73-a903-97bffcd50fd0",
   "metadata": {},
   "source": [
    "The textbook example recalculates the entire problem assuming a satellite at a range of 12,756 km with a velocity of 6.798614 km/s to illustrate more dramatic differences between the resulting values, since these results show less variation between the different representations"
   ]
  }
 ],
 "metadata": {
  "kernelspec": {
   "display_name": "Python (Vallado Env)",
   "language": "python",
   "name": "vallado-env"
  },
  "language_info": {
   "codemirror_mode": {
    "name": "ipython",
    "version": 3
   },
   "file_extension": ".py",
   "mimetype": "text/x-python",
   "name": "python",
   "nbconvert_exporter": "python",
   "pygments_lexer": "ipython3",
   "version": "3.12.2"
  }
 },
 "nbformat": 4,
 "nbformat_minor": 5
}
