{
 "cells": [
  {
   "cell_type": "markdown",
   "id": "d2e6a26a-dc90-4fcf-a8f0-29aa283f5648",
   "metadata": {},
   "source": [
    "# Example 3-3: Converting ECEF to Lat/Lon\n",
    "### _Fundamentals of Astrodynamics and Applications_, 5th Ed., 2022, p. 175"
   ]
  },
  {
   "cell_type": "markdown",
   "id": "64aaed25-ea31-4552-b160-a2528a3d056a",
   "metadata": {},
   "source": [
    "This notebook demonstrates finding the latitude and longitude from the position vector in the ECEF frame."
   ]
  },
  {
   "cell_type": "markdown",
   "id": "fbb88573-cbe5-4749-99b0-aff8bc2d10bd",
   "metadata": {},
   "source": [
    "## Install and Import Libraries\n",
    "---"
   ]
  },
  {
   "cell_type": "markdown",
   "id": "ad513ea2-e16e-4a2c-b93d-2aab1c7d200e",
   "metadata": {},
   "source": [
    "First, install `valladopy` if it doesn't already exist in your environment:"
   ]
  },
  {
   "cell_type": "code",
   "execution_count": 1,
   "id": "6422d1f0-fa2d-42d8-9836-9224ee8ffb34",
   "metadata": {},
   "outputs": [
    {
     "name": "stdout",
     "output_type": "stream",
     "text": [
      "Requirement already satisfied: valladopy==0.3.0 in /opt/anaconda3/envs/vallado-env/lib/python3.12/site-packages (from -r valladopy_version.txt (line 1)) (0.3.0)\n",
      "Requirement already satisfied: numpy==1.26.4 in /opt/anaconda3/envs/vallado-env/lib/python3.12/site-packages (from valladopy==0.3.0->-r valladopy_version.txt (line 1)) (1.26.4)\n",
      "Requirement already satisfied: pydantic==2.9.2 in /opt/anaconda3/envs/vallado-env/lib/python3.12/site-packages (from valladopy==0.3.0->-r valladopy_version.txt (line 1)) (2.9.2)\n",
      "Requirement already satisfied: scipy==1.13.1 in /opt/anaconda3/envs/vallado-env/lib/python3.12/site-packages (from valladopy==0.3.0->-r valladopy_version.txt (line 1)) (1.13.1)\n",
      "Requirement already satisfied: annotated-types>=0.6.0 in /opt/anaconda3/envs/vallado-env/lib/python3.12/site-packages (from pydantic==2.9.2->valladopy==0.3.0->-r valladopy_version.txt (line 1)) (0.7.0)\n",
      "Requirement already satisfied: pydantic-core==2.23.4 in /opt/anaconda3/envs/vallado-env/lib/python3.12/site-packages (from pydantic==2.9.2->valladopy==0.3.0->-r valladopy_version.txt (line 1)) (2.23.4)\n",
      "Requirement already satisfied: typing-extensions>=4.6.1 in /opt/anaconda3/envs/vallado-env/lib/python3.12/site-packages (from pydantic==2.9.2->valladopy==0.3.0->-r valladopy_version.txt (line 1)) (4.12.2)\n"
     ]
    }
   ],
   "source": [
    "!pip install -r valladopy_version.txt"
   ]
  },
  {
   "cell_type": "markdown",
   "id": "0effb7a6-f6c1-47f9-9e90-fb962f182ab0",
   "metadata": {},
   "source": [
    "Then import `numpy` and the relevant `valladopy` modules:"
   ]
  },
  {
   "cell_type": "code",
   "execution_count": 2,
   "id": "02c4412e-7348-4c05-8ac5-a1203dae9c7e",
   "metadata": {},
   "outputs": [],
   "source": [
    "import numpy as np\n",
    "from valladopy.astro.twobody.frame_conversions import ecef2ll, ecef2llb"
   ]
  },
  {
   "cell_type": "markdown",
   "id": "07d7af3c-a189-4594-861d-3f06ef3f9f4b",
   "metadata": {},
   "source": [
    "## Problem Definition\n",
    "---"
   ]
  },
  {
   "cell_type": "markdown",
   "id": "de359419-6ead-46a6-b208-77c83208331f",
   "metadata": {},
   "source": [
    "GIVEN: $\\quad\\overrightarrow{r}_{IJK} = 6524.834 \\; \\hat{I} \\; + 6862.875 \\; \\hat{J} \\; + 6448.296 \\; \\hat{K}$ km<br>\n",
    "FIND: $\\quad$ Latitude and longitude"
   ]
  },
  {
   "cell_type": "code",
   "execution_count": 3,
   "id": "39a5c21f-4a60-41d1-934d-d6cc1f3303eb",
   "metadata": {},
   "outputs": [],
   "source": [
    "r = [6524.834, 6862.875, 6448.296]   # km"
   ]
  },
  {
   "cell_type": "markdown",
   "id": "f3525d70-6322-40ce-bdd8-852c761ed0e7",
   "metadata": {},
   "source": [
    "## Solution\n",
    "---"
   ]
  },
  {
   "cell_type": "markdown",
   "id": "1a777226-6fae-473b-99d8-41ec32bdd68c",
   "metadata": {},
   "source": [
    "**Algorithm 12** outlines the procedure to convert a position vector to the corresponding latitude and longitude using the method from the *Astronomical Almanac*.\n",
    "\n",
    "We first calculate the equatorial projection of the satellite's position vector:\n",
    "\n",
    "$$\n",
    "r_{\\delta sat} = \\sqrt{r_I^2 + r_J^2}\n",
    "$$\n",
    "\n",
    "Then find the right ascension and declination (using a quadrant check to determine the right ascension):\n",
    "\n",
    "$$\n",
    "\\sin(\\alpha) = \\frac{r_{J}}{r_\\delta sat}, \\quad \\cos(\\alpha) = \\frac{r_{I}}{r_\\delta sat}, \\quad \\sin(\\delta) = \\frac{r_{Ksat}}{r}\n",
    "$$\n",
    "\n",
    "Letting $\\phi_{gd} = \\delta$, $r_{\\delta} = r_{\\delta sat}$, and $r_{K} = r_{Ksat}$, we can loop through the calculations for the geodetic latitude until it converges:\n",
    "\n",
    "$$\n",
    "C_{\\oplus} = \\frac{R_{\\oplus}}{\\sqrt{1 - e_{\\oplus}^2\\sin^2\\phi_{gd}}}\n",
    "$$\n",
    "\n",
    "$$\n",
    "\\tan(\\phi_{gd}) = \\frac{r_K + C_{\\oplus}e_{\\oplus}^2 \\sin(\\phi_{gd})}{r_{\\delta}}\n",
    "$$\n",
    "\n",
    "The height is find with:\n",
    "\n",
    "$$\n",
    "h_{ellp} = \\frac{r_{\\delta}}{\\cos(\\phi_{gd})} - C_{\\oplus}\n",
    "$$\n",
    "\n",
    "If the latitude is near the poles (within $\\sim 1^\\circ$), use the alternate form:\n",
    "\n",
    "$$\n",
    "h_{ellp} = \\frac{r_{K}}{\\sin(\\phi_{gd})} - S_{\\oplus}\n",
    "$$\n",
    "\n",
    "The `ecef2ll` routine carries out this procedure:"
   ]
  },
  {
   "cell_type": "code",
   "execution_count": 4,
   "id": "7e760f67-8fea-4e86-9c91-8b0fdd62e0c7",
   "metadata": {},
   "outputs": [
    {
     "name": "stdout",
     "output_type": "stream",
     "text": [
      "latgc:\t34.2529\tdeg\n",
      "latgd:\t34.3525\tdeg\n",
      "lon:\t46.4464\tdeg\n",
      "alt:\t5085.22\tkm\n"
     ]
    }
   ],
   "source": [
    "latgc, latgd, lon, hellp = ecef2ll(r)\n",
    "\n",
    "print(f'latgc:\\t{np.degrees(latgc):.4f}\\tdeg')\n",
    "print(f'latgd:\\t{np.degrees(latgd):.4f}\\tdeg')\n",
    "print(f'lon:\\t{np.degrees(lon):.4f}\\tdeg')\n",
    "print(f'alt:\\t{hellp:.2f}\\tkm')"
   ]
  },
  {
   "cell_type": "markdown",
   "id": "a07ed290-a16f-4c22-b03b-29e1b2efee19",
   "metadata": {},
   "source": [
    "**Algorithm 13** covers a direct method by Borkowski to calculate the geodetic latitude and height, but without the need for iterations. \n",
    "\n",
    "Use the `ecef2llb` routine for this method:"
   ]
  },
  {
   "cell_type": "code",
   "execution_count": 5,
   "id": "6f3e1e45-faa9-4ae4-b2c9-aa3bcda62744",
   "metadata": {},
   "outputs": [
    {
     "name": "stdout",
     "output_type": "stream",
     "text": [
      "latgc:\t34.2529\tdeg\n",
      "latgd:\t34.3525\tdeg\n",
      "lon:\t46.4464\tdeg\n",
      "alt:\t5085.22\tkm\n"
     ]
    }
   ],
   "source": [
    "latgc, latgd, lon, hellp = ecef2llb(r)\n",
    "\n",
    "print(f'latgc:\\t{np.degrees(latgc):.4f}\\tdeg')\n",
    "print(f'latgd:\\t{np.degrees(latgd):.4f}\\tdeg')\n",
    "print(f'lon:\\t{np.degrees(lon):.4f}\\tdeg')\n",
    "print(f'alt:\\t{hellp:.2f}\\tkm')"
   ]
  },
  {
   "cell_type": "markdown",
   "id": "87325b10-56bb-46c2-9b29-fe429ed65b8d",
   "metadata": {},
   "source": [
    "Note how the two methods yield the same results!"
   ]
  }
 ],
 "metadata": {
  "kernelspec": {
   "display_name": "Python (Vallado Env)",
   "language": "python",
   "name": "vallado-env"
  },
  "language_info": {
   "codemirror_mode": {
    "name": "ipython",
    "version": 3
   },
   "file_extension": ".py",
   "mimetype": "text/x-python",
   "name": "python",
   "nbconvert_exporter": "python",
   "pygments_lexer": "ipython3",
   "version": "3.12.2"
  }
 },
 "nbformat": 4,
 "nbformat_minor": 5
}
