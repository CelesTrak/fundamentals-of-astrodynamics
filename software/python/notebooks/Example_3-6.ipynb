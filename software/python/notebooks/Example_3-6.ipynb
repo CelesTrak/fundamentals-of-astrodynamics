{
 "cells": [
  {
   "cell_type": "markdown",
   "id": "4910987d-de12-4974-b437-0f1171a25736",
   "metadata": {},
   "source": [
    "# Example 3-6: Finding GMST and LST (Method 2)\n",
    "### _Fundamentals of Astrodynamics and Applications_, 5th Ed., 2022, p. 191"
   ]
  },
  {
   "cell_type": "markdown",
   "id": "37b3c8dc-132e-4fa8-94ff-af04a8443a85",
   "metadata": {},
   "source": [
    "This notebook demonstrates an alternate method for finding the Greenwich Mean Sidereal Time (GMST) and Local Sidereal Time (LST) given the UT1 date and time and  longitude."
   ]
  },
  {
   "cell_type": "markdown",
   "id": "c9912f60-40e7-4e1a-b387-65e9aeb9cd3d",
   "metadata": {},
   "source": [
    "## Install and Import Libraries\n",
    "---"
   ]
  },
  {
   "cell_type": "markdown",
   "id": "6f39a0c5-93b2-461c-b8c4-53a7c9d40c91",
   "metadata": {},
   "source": [
    "First, install `valladopy` if it doesn't already exist in your environment:"
   ]
  },
  {
   "cell_type": "markdown",
   "id": "369bd3f3-ee60-4f58-ae24-f360d20c556e",
   "metadata": {},
   "source": [
    "!pip install valladopy"
   ]
  },
  {
   "cell_type": "markdown",
   "id": "989a1911-0076-4ea6-974e-3b0121620ac5",
   "metadata": {},
   "source": [
    "Then import `numpy` and the relevant `valladopy` routines:"
   ]
  },
  {
   "cell_type": "code",
   "execution_count": 1,
   "id": "9d1b154c-cbc2-400f-8b3d-7b42155337cb",
   "metadata": {},
   "outputs": [],
   "source": [
    "import numpy as np\n",
    "import valladopy.constants as const\n",
    "from valladopy.mathtime.calendar import find_days\n",
    "from valladopy.mathtime.utils import hms2rad"
   ]
  },
  {
   "cell_type": "markdown",
   "id": "d2bf08c8-00af-4bb0-9e68-c707922e9c2e",
   "metadata": {},
   "source": [
    "## Problem Definition\n",
    "---"
   ]
  },
  {
   "cell_type": "markdown",
   "id": "22869d27-4d5d-4a42-8992-06654095898f",
   "metadata": {},
   "source": [
    "GIVEN: &ensp;August 20, 1992, at 12:14 P.M. UT1 at 104° west longitude<br>\n",
    "FIND: &emsp;GMST ($\\theta_{GMST}$) and LST ($\\theta_{LST}$)"
   ]
  },
  {
   "cell_type": "code",
   "execution_count": 2,
   "id": "241b5e12-3cb9-4b54-bd92-4856ed324cb1",
   "metadata": {},
   "outputs": [],
   "source": [
    "# Date definition\n",
    "year = 1992\n",
    "month = 8\n",
    "day = 20\n",
    "hour = 12\n",
    "minute = 14\n",
    "second = 0\n",
    "\n",
    "# Longitude definition\n",
    "lon = np.radians(-104)  # longitude, rad"
   ]
  },
  {
   "cell_type": "markdown",
   "id": "9b4a42db-aad2-4a33-af0e-28e9b513967c",
   "metadata": {},
   "source": [
    "## Solution\n",
    "---"
   ]
  },
  {
   "cell_type": "markdown",
   "id": "546aaaa8-89aa-4ae5-92f5-4e58120ee0e9",
   "metadata": {},
   "source": [
    "We first obtain the Greenwich sidereal time on January 1, $0^{\\text{h}}$ UT1 from the *Astronomical Almanac*:\n",
    "\n",
    "$$\n",
    "\\theta_{\\text{GMST Jan 1,} 0^{\\text{h}}} = 6^{\\text{h}} \\ 39^{\\text{m}} \\ 37.4863^{\\text{s}}\n",
    "$$\n",
    "\n",
    "We can convert the hours, minutes, and seconds into radians with `hms2rad`:"
   ]
  },
  {
   "cell_type": "code",
   "execution_count": 3,
   "id": "3f6ab00c-4164-41b2-9ad0-3bb305a9ab52",
   "metadata": {},
   "outputs": [
    {
     "name": "stdout",
     "output_type": "stream",
     "text": [
      "GMST on Jan 1:\t99.9062\tdeg\n"
     ]
    }
   ],
   "source": [
    "gst0 = hms2rad(hours=6, minutes=39, seconds=37.4863)\n",
    "\n",
    "print(f'GMST on Jan 1:\\t{np.degrees(gst0):.4f}\\tdeg')"
   ]
  },
  {
   "cell_type": "markdown",
   "id": "8719a316-72e2-4b41-b291-abf73c57f10c",
   "metadata": {},
   "source": [
    "Next, we find the total elapsed time in solar days from the epoch January 1, $0^{\\text{h}}$ UT1.\n",
    "\n",
    "**Table 3-3** shows the numbers for the elapsed days since the start of the year, with leap-year values in parenthesis (and 1992 is a leap year):\n",
    "\n",
    "<table>\n",
    "<thead>\n",
    "<tr>\n",
    "<th>Date</th><th>Day of Year</th><th>Elapsed Days</th>\n",
    "<th>Date</th><th>Day of Year</th><th>Elapsed Days</th>\n",
    "</tr>\n",
    "</thead>\n",
    "<tbody>\n",
    "<tr><td>January 1</td><td>1</td><td>0</td><td>July 1</td><td>182 (183)</td><td>181 (182)</td></tr>\n",
    "<tr><td>January 31</td><td>31</td><td>30</td><td>July 31</td><td>212 (213)</td><td>211 (212)</td></tr>\n",
    "<tr><td>February 28</td><td>59</td><td>58</td><td>August 31</td><td>243 (244)</td><td>242 (243)</td></tr>\n",
    "<tr><td>March 31</td><td>90 (91)</td><td>89 (90)</td><td>September 30</td><td>273 (274)</td><td>272 (273)</td></tr>\n",
    "<tr><td>April 30</td><td>120 (121)</td><td>119 (120)</td><td>October 31</td><td>304 (305)</td><td>303 (304)</td></tr>\n",
    "<tr><td>May 31</td><td>151 (152)</td><td>150 (151)</td><td>November 30</td><td>334 (335)</td><td>333 (334)</td></tr>\n",
    "<tr><td>June 30</td><td>181 (182)</td><td>180 (181)</td><td>December 31</td><td>365 (366)</td><td>364 (365)</td></tr>\n",
    "</tbody>\n",
    "</table>\n",
    "\n",
    "Note that the day of the year is one *more* than the *elapsed days* from January 1.\n",
    "\n",
    "We can find the *day of the year* with the `find_days` routine and subtract 1:"
   ]
  },
  {
   "cell_type": "code",
   "execution_count": 4,
   "id": "b0e40023-c659-4614-a711-a1a1ddb1e9aa",
   "metadata": {},
   "outputs": [
    {
     "name": "stdout",
     "output_type": "stream",
     "text": [
      "Elapsed days:\t232.509722 day\n"
     ]
    }
   ],
   "source": [
    "doy = find_days(year, month, day, hour, minute, second)\n",
    "ed = doy - 1\n",
    "\n",
    "print(f'Elapsed days:\\t{ed:.6f} day')"
   ]
  },
  {
   "cell_type": "markdown",
   "id": "d692896b-faef-4723-8155-c06e3e1faf7b",
   "metadata": {},
   "source": [
    "Now we can use **Eq. 3-49** to calculate the GMST:\n",
    "\n",
    "$$\n",
    "\\theta_{\\text{GMST}} = \\theta_{\\text{GMST} 0^{\\text{h}}} + 1.002737909350795(2\\pi)(ED)\n",
    "$$"
   ]
  },
  {
   "cell_type": "code",
   "execution_count": 5,
   "id": "33ca5c1f-44b2-4187-ab28-8d141c6e0add",
   "metadata": {},
   "outputs": [
    {
     "name": "stdout",
     "output_type": "stream",
     "text": [
      "GMST:\t152.5788 deg\n"
     ]
    }
   ],
   "source": [
    "gst = np.mod(gst0 + const.RADPDAY * ed, const.TWOPI)\n",
    "\n",
    "print(f'GMST:\\t{np.degrees(gst):.4f} deg')"
   ]
  },
  {
   "cell_type": "markdown",
   "id": "0792edb0-2d57-44db-9517-baa64cb49619",
   "metadata": {},
   "source": [
    "Now use **Eq. 3-44** to find LST:\n",
    "\n",
    "$$\n",
    "\\theta_{LST} = \\theta_{GMST} + \\lambda\n",
    "$$\n",
    "\n",
    "Where $\\lambda$ is the observer’s longitude, positive eastward from Greenwich."
   ]
  },
  {
   "cell_type": "code",
   "execution_count": 6,
   "id": "3929fbd5-6b8f-47d3-b829-aa61a48f6dce",
   "metadata": {},
   "outputs": [
    {
     "name": "stdout",
     "output_type": "stream",
     "text": [
      "LST:\t48.5788 deg\n"
     ]
    }
   ],
   "source": [
    "lst = np.mod(gst + lon, const.TWOPI)\n",
    "\n",
    "print(f'LST:\\t{np.degrees(lst):.4f} deg')"
   ]
  },
  {
   "cell_type": "markdown",
   "id": "b4b75773-f180-4640-af93-83b5f595d443",
   "metadata": {},
   "source": [
    "Although the computations are less complex than **Example 3-5**, notice the similarity in results, which suggests we can compare them for accuracy. As we would expect, the method using an epoch at the start of each year is very accurate towards the beginning of the year, but the errors continue to increase throughout the year. The Julian Date method is very consistent throughout the year, so we prefer it."
   ]
  }
 ],
 "metadata": {
  "kernelspec": {
   "display_name": "Python (Vallado Env)",
   "language": "python",
   "name": "vallado-env"
  },
  "language_info": {
   "codemirror_mode": {
    "name": "ipython",
    "version": 3
   },
   "file_extension": ".py",
   "mimetype": "text/x-python",
   "name": "python",
   "nbconvert_exporter": "python",
   "pygments_lexer": "ipython3",
   "version": "3.12.2"
  }
 },
 "nbformat": 4,
 "nbformat_minor": 5
}
