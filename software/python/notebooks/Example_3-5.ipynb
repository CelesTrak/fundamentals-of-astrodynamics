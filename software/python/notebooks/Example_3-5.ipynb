{
 "cells": [
  {
   "cell_type": "markdown",
   "id": "d60f256f-438b-46e4-af63-86c950fee4b6",
   "metadata": {},
   "source": [
    "# Example 3-5: Finding GMST and LST (Method 1)\n",
    "### _Fundamentals of Astrodynamics and Applications_, 5th Ed., 2022, p. 190"
   ]
  },
  {
   "cell_type": "markdown",
   "id": "cfd642a5-86a9-4fb9-8747-07630a585496",
   "metadata": {},
   "source": [
    "This notebook demonstrates finding the Greenwich Mean Sidereal Time (GMST) and Local Sidereal Time (LST) given the UT1 date and time and longitude."
   ]
  },
  {
   "cell_type": "markdown",
   "id": "dce76879-d010-443e-9bdb-d30ac26f80a2",
   "metadata": {},
   "source": [
    "## Install and Import Libraries\n",
    "---"
   ]
  },
  {
   "cell_type": "markdown",
   "id": "9da9b7bb-d4cd-47cb-98d4-425971e0a276",
   "metadata": {},
   "source": [
    "First, install `valladopy` if it doesn't already exist in your environment:"
   ]
  },
  {
   "cell_type": "code",
   "execution_count": 1,
   "id": "440b702a-fb38-4c2f-a213-03274d704947",
   "metadata": {},
   "outputs": [
    {
     "name": "stdout",
     "output_type": "stream",
     "text": [
      "Requirement already satisfied: valladopy in /opt/anaconda3/envs/vallado-env/lib/python3.12/site-packages (0.2.0)\n",
      "Requirement already satisfied: numpy==1.26.4 in /opt/anaconda3/envs/vallado-env/lib/python3.12/site-packages (from valladopy) (1.26.4)\n",
      "Requirement already satisfied: pydantic==2.9.2 in /opt/anaconda3/envs/vallado-env/lib/python3.12/site-packages (from valladopy) (2.9.2)\n",
      "Requirement already satisfied: scipy==1.13.1 in /opt/anaconda3/envs/vallado-env/lib/python3.12/site-packages (from valladopy) (1.13.1)\n",
      "Requirement already satisfied: annotated-types>=0.6.0 in /opt/anaconda3/envs/vallado-env/lib/python3.12/site-packages (from pydantic==2.9.2->valladopy) (0.7.0)\n",
      "Requirement already satisfied: pydantic-core==2.23.4 in /opt/anaconda3/envs/vallado-env/lib/python3.12/site-packages (from pydantic==2.9.2->valladopy) (2.23.4)\n",
      "Requirement already satisfied: typing-extensions>=4.6.1 in /opt/anaconda3/envs/vallado-env/lib/python3.12/site-packages (from pydantic==2.9.2->valladopy) (4.12.2)\n"
     ]
    }
   ],
   "source": [
    "!pip install valladopy"
   ]
  },
  {
   "cell_type": "markdown",
   "id": "f7a3513b-caac-48f4-b1aa-791ea910e120",
   "metadata": {},
   "source": [
    "Then import `numpy` and the relevant `valladopy` routines:"
   ]
  },
  {
   "cell_type": "code",
   "execution_count": 2,
   "id": "d0bd9cab-f7a8-4fe9-8949-bb4474217775",
   "metadata": {},
   "outputs": [],
   "source": [
    "import numpy as np\n",
    "from valladopy.astro.time.sidereal import lstime\n",
    "from valladopy.mathtime.julian_date import jday"
   ]
  },
  {
   "cell_type": "markdown",
   "id": "cf4773a8-b940-4d05-98ef-1d302b383efd",
   "metadata": {},
   "source": [
    "## Problem Definition\n",
    "---"
   ]
  },
  {
   "cell_type": "markdown",
   "id": "5b827137-c169-4939-a868-433e294790ee",
   "metadata": {},
   "source": [
    "GIVEN: &ensp;August 20, 1992, at 12:14 P.M. UT1 at 104° west longitude<br>\n",
    "FIND: &emsp;GMST ($\\theta_{GMST}$) and LST ($\\theta_{LST}$)"
   ]
  },
  {
   "cell_type": "code",
   "execution_count": 3,
   "id": "cd15faf2-7b79-439a-9bf6-ce798627bba4",
   "metadata": {},
   "outputs": [],
   "source": [
    "# Date definition\n",
    "year = 1992\n",
    "month = 8\n",
    "day = 20\n",
    "hour = 12\n",
    "minute = 14\n",
    "second = 0\n",
    "\n",
    "# Longitude definition\n",
    "lon = np.radians(-104)  # longitude, rad"
   ]
  },
  {
   "cell_type": "markdown",
   "id": "dfe80d74-0911-4ab1-ac8f-2231f963823d",
   "metadata": {},
   "source": [
    "## Solution\n",
    "---"
   ]
  },
  {
   "cell_type": "markdown",
   "id": "5936aa1e-be34-4b15-a371-6ba26e86d792",
   "metadata": {},
   "source": [
    "First we start by computing the Julian Date from **Algorithm 14**:\n",
    "\n",
    "$$\n",
    "JD = 367(yr)\n",
    "- \\text{INT}\\left\\{ \\frac{7\\left\\{ yr + \\text{INT} \\left( \\frac{mo + 9}{12} \\right) \\right\\}}{4} \\right\\}\n",
    "+ \\text{INT}\\left( \\frac{275\\,mo}{9} \\right)\n",
    "+ d + 1{,}721{,}013.5\n",
    "+ \\frac{h\\,3600 + min\\,60 + s}{86400}\n",
    "$$\n",
    "\n",
    "This can be done with the `jday` routine:"
   ]
  },
  {
   "cell_type": "code",
   "execution_count": 4,
   "id": "31566932-19f0-475a-9c4f-3982052f3150",
   "metadata": {},
   "outputs": [
    {
     "name": "stdout",
     "output_type": "stream",
     "text": [
      "Julian Date:\t2448855.0097\n"
     ]
    }
   ],
   "source": [
    "jd, jdfrac = jday(year, month, day, hour, minute, second)\n",
    "\n",
    "print(f'Julian Date:\\t{jd + jdfrac:.4f}')"
   ]
  },
  {
   "cell_type": "markdown",
   "id": "6d7f8f64-1eb4-463c-8a60-0d3c44df60e7",
   "metadata": {},
   "source": [
    "We can use **Eq. 3-48** to find GMST:\n",
    "\n",
    "$$\n",
    "\\theta_{GMST} = 67{,}310.54841^{\\text{s}} \n",
    "+ \\left( 876{,}600^{\\text{h}} + 8{,}640{,}184.812866^{\\text{s}} \\right) \\, T_{UT1} \n",
    "+ 0.093104 \\, T_{UT1}^2 \n",
    "- 6.2 \\times 10^{-6} \\, T_{UT1}^3\n",
    "$$\n",
    "\n",
    "Note that this angle is in seconds and must be converted to angular units for further computation (use $1^{\\text{S}} = 86400 / 360^{\\circ} = 1/240^{\\circ}$).\n",
    "\n",
    "Consequently, we can use **Eq. 3-44** to find LST:\n",
    "\n",
    "$$\n",
    "\\theta_{LST} = \\theta_{GMST} + \\lambda\n",
    "$$\n",
    "\n",
    "Where $\\lambda$ is the observer’s longitude, positive eastward from Greenwich.\n",
    "\n",
    "The `lstime` routine computes both:"
   ]
  },
  {
   "cell_type": "code",
   "execution_count": 5,
   "id": "16649b8f-7b8b-4a0d-a03f-a49c5f1c1099",
   "metadata": {},
   "outputs": [
    {
     "name": "stdout",
     "output_type": "stream",
     "text": [
      "GMST:\t152.5788\tdeg\n",
      "LST:\t48.5788\t\tdeg\n"
     ]
    }
   ],
   "source": [
    "lst, gst = lstime(lon, jd + jdfrac)\n",
    "\n",
    "print(f'GMST:\\t{np.degrees(gst):.4f}\\tdeg')\n",
    "print(f'LST:\\t{np.degrees(lst):.4f}\\t\\tdeg')"
   ]
  }
 ],
 "metadata": {
  "kernelspec": {
   "display_name": "Python (Vallado Env)",
   "language": "python",
   "name": "vallado-env"
  },
  "language_info": {
   "codemirror_mode": {
    "name": "ipython",
    "version": 3
   },
   "file_extension": ".py",
   "mimetype": "text/x-python",
   "name": "python",
   "nbconvert_exporter": "python",
   "pygments_lexer": "ipython3",
   "version": "3.12.2"
  }
 },
 "nbformat": 4,
 "nbformat_minor": 5
}
