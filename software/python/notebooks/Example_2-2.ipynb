{
 "cells": [
  {
   "cell_type": "markdown",
   "id": "12ff799f-b8a2-4781-947c-bc2837766162",
   "metadata": {},
   "source": [
    "# Example 2-2: Using Kepler's Equation for Parabolic Orbits\n",
    "### _Fundamentals of Astrodynamics and Applications_, 5th Ed., 2022, p. 70"
   ]
  },
  {
   "cell_type": "markdown",
   "id": "1c872f29-7b64-49ac-8ccb-fed4add97b12",
   "metadata": {},
   "source": [
    "This notebook demonstrates finding the parabolic anomaly $B$ using Barker's solution."
   ]
  },
  {
   "cell_type": "markdown",
   "id": "a50c1c9e-490e-4d76-9063-c154ee9ccc4e",
   "metadata": {},
   "source": [
    "## Install and Import Libraries\n",
    "---"
   ]
  },
  {
   "cell_type": "markdown",
   "id": "53af15d3-9590-46a1-aa07-f595aac204b8",
   "metadata": {},
   "source": [
    "First, install `valladopy` if it doesn't already exist in your environment:"
   ]
  },
  {
   "cell_type": "code",
   "execution_count": 1,
   "id": "d3c79653-c625-481a-808c-4c6792165f7a",
   "metadata": {},
   "outputs": [
    {
     "name": "stdout",
     "output_type": "stream",
     "text": [
      "Requirement already satisfied: valladopy==0.3.0 in /opt/anaconda3/envs/vallado-env/lib/python3.12/site-packages (from -r valladopy_version.txt (line 1)) (0.3.0)\n",
      "Requirement already satisfied: numpy==1.26.4 in /opt/anaconda3/envs/vallado-env/lib/python3.12/site-packages (from valladopy==0.3.0->-r valladopy_version.txt (line 1)) (1.26.4)\n",
      "Requirement already satisfied: pydantic==2.9.2 in /opt/anaconda3/envs/vallado-env/lib/python3.12/site-packages (from valladopy==0.3.0->-r valladopy_version.txt (line 1)) (2.9.2)\n",
      "Requirement already satisfied: scipy==1.13.1 in /opt/anaconda3/envs/vallado-env/lib/python3.12/site-packages (from valladopy==0.3.0->-r valladopy_version.txt (line 1)) (1.13.1)\n",
      "Requirement already satisfied: annotated-types>=0.6.0 in /opt/anaconda3/envs/vallado-env/lib/python3.12/site-packages (from pydantic==2.9.2->valladopy==0.3.0->-r valladopy_version.txt (line 1)) (0.7.0)\n",
      "Requirement already satisfied: pydantic-core==2.23.4 in /opt/anaconda3/envs/vallado-env/lib/python3.12/site-packages (from pydantic==2.9.2->valladopy==0.3.0->-r valladopy_version.txt (line 1)) (2.23.4)\n",
      "Requirement already satisfied: typing-extensions>=4.6.1 in /opt/anaconda3/envs/vallado-env/lib/python3.12/site-packages (from pydantic==2.9.2->valladopy==0.3.0->-r valladopy_version.txt (line 1)) (4.12.2)\n"
     ]
    }
   ],
   "source": [
    "!pip install -r valladopy_version.txt"
   ]
  },
  {
   "cell_type": "markdown",
   "id": "1ddb9870-7a35-4065-b024-3ff4d388548c",
   "metadata": {},
   "source": [
    "Then import `numpy` and the `valladopy` `constants` module:"
   ]
  },
  {
   "cell_type": "code",
   "execution_count": 2,
   "id": "3d0a3e7b-d7f5-4e53-9888-9eb26ed918b6",
   "metadata": {},
   "outputs": [],
   "source": [
    "import numpy as np\n",
    "from valladopy import constants as const"
   ]
  },
  {
   "cell_type": "markdown",
   "id": "f5b99545-075f-463d-ab39-7040c80ba4d5",
   "metadata": {},
   "source": [
    "## Problem Definition\n",
    "---"
   ]
  },
  {
   "cell_type": "markdown",
   "id": "55a6a218-dbd8-4d54-b283-5a839edc24e5",
   "metadata": {},
   "source": [
    "GIVEN: $\\Delta{t} = 53.7874$ min, $p = 25,512$ km, $e = 1$  \n",
    "FIND: $B$"
   ]
  },
  {
   "cell_type": "code",
   "execution_count": 3,
   "id": "4a69404a-4a41-432b-bc64-aef731c25c1a",
   "metadata": {},
   "outputs": [],
   "source": [
    "dt = 53.7874 * const.MIN2SEC  # time change, sec\n",
    "p = 25512                     # semiparameter, km\n",
    "e = 1                         # eccentricity"
   ]
  },
  {
   "cell_type": "markdown",
   "id": "6180072f-a616-4f5e-8a47-00758c6aba20",
   "metadata": {},
   "source": [
    "## Solution\n",
    "---"
   ]
  },
  {
   "cell_type": "markdown",
   "id": "6c02251a-0aee-45dd-9ef1-e44b1843cd2b",
   "metadata": {},
   "source": [
    "Barker’s trigonometric solution for the parabolic time equation is:\n",
    "\n",
    "$$\n",
    "\\quad \\lambda^3 - \\frac{1}{\\lambda^3} = 3 \\left( \\lambda - \\frac{1}{\\lambda} \\right) + \\left( \\lambda - \\frac{1}{\\lambda} \\right)^3\n",
    "$$\n",
    "\n",
    "Letting:\n",
    "$$\n",
    "\\lambda^3 = -\\tan s\n",
    "$$\n",
    "\n",
    "and using identities, the parabolic time equation becomes:\n",
    "\n",
    "$$\n",
    "n_p(t - T) = \\frac{2}{3} \\cot(2s)\n",
    "$$\n",
    "\n",
    "The final expression for $B$ is then:\n",
    "\n",
    "$$\n",
    "B = 2 \\cot(2w), \\quad \\text{where} \\quad \\tan^3 w = \\tan s\n",
    "$$\n"
   ]
  },
  {
   "cell_type": "markdown",
   "id": "b27b7848-91aa-4d7d-8043-90d7855c562f",
   "metadata": {},
   "source": [
    "Begin by finding the mean motion from Algorithm 3:\n",
    "\n",
    "$$\n",
    "n_{p} = 2\\sqrt{\\frac{\\mu}{p^{3}}}\n",
    "$$"
   ]
  },
  {
   "cell_type": "code",
   "execution_count": 4,
   "id": "e423d9c1-d15d-4d6f-a57a-351566462fd9",
   "metadata": {},
   "outputs": [
    {
     "name": "stdout",
     "output_type": "stream",
     "text": [
      "mean motion:\t0.0003098718493084956\trad/s\n"
     ]
    }
   ],
   "source": [
    "n = 2 * np.sqrt(const.MU / p ** 3)\n",
    "\n",
    "print(f'mean motion:\\t{n}\\trad/s')"
   ]
  },
  {
   "cell_type": "markdown",
   "id": "df28dac3-6055-4510-8b1f-462552afe458",
   "metadata": {},
   "source": [
    "Now, use the time equation to find $s$:\n",
    "\n",
    "$$\n",
    "\\cot(2s) = \\frac{3}{2}n_{p}\\Delta{t}\n",
    "$$"
   ]
  },
  {
   "cell_type": "code",
   "execution_count": 5,
   "id": "b53b2c19-a097-450d-86b6-a0d69f534e0c",
   "metadata": {},
   "outputs": [
    {
     "name": "stdout",
     "output_type": "stream",
     "text": [
      "s =\t16.8446\tdeg\n"
     ]
    }
   ],
   "source": [
    "cot2s = 1.5 * n * dt\n",
    "s = np.arctan(1 / cot2s) / 2\n",
    "\n",
    "print(f's =\\t{np.degrees(s):.4f}\\tdeg')"
   ]
  },
  {
   "cell_type": "markdown",
   "id": "753aa620-6703-477e-8d85-11a67e86eb20",
   "metadata": {},
   "source": [
    "Finally, find the parabolic anomaly $B$:\n",
    "\n",
    "$$\n",
    "\\tan^{3}(w) = \\tan(s)\n",
    "$$\n",
    "\n",
    "$$\n",
    "B = 2\\cot(2w)\n",
    "$$"
   ]
  },
  {
   "cell_type": "code",
   "execution_count": 6,
   "id": "c4ec9790-8f5b-400f-ad90-312de65cb9d5",
   "metadata": {},
   "outputs": [
    {
     "name": "stdout",
     "output_type": "stream",
     "text": [
      "parabolic anomaly:\t0.8178\trad\n",
      "\t\t\t46.8537\tdeg\n"
     ]
    }
   ],
   "source": [
    "w = np.arctan(np.tan(s) ** (1 / 3))\n",
    "b = 2 * (1 / np.tan(2 * w))\n",
    "\n",
    "print(f'parabolic anomaly:\\t{b:.4f}\\trad')\n",
    "print(f'\\t\\t\\t{np.degrees(b):.4f}\\tdeg')"
   ]
  }
 ],
 "metadata": {
  "kernelspec": {
   "display_name": "Python (Vallado Env)",
   "language": "python",
   "name": "vallado-env"
  },
  "language_info": {
   "codemirror_mode": {
    "name": "ipython",
    "version": 3
   },
   "file_extension": ".py",
   "mimetype": "text/x-python",
   "name": "python",
   "nbconvert_exporter": "python",
   "pygments_lexer": "ipython3",
   "version": "3.12.2"
  }
 },
 "nbformat": 4,
 "nbformat_minor": 5
}
