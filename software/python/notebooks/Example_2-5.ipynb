{
 "cells": [
  {
   "cell_type": "markdown",
   "id": "d50bed42-43e8-4bda-9f59-dd15322ed184",
   "metadata": {},
   "source": [
    "# Example 2-5: Finding the Orbital Elements with `rv2coe`\n",
    "### _Fundamentals of Astrodynamics and Applications_, 5th Ed., 2022, p. 116-118"
   ]
  },
  {
   "cell_type": "markdown",
   "id": "68e9bca2-2a07-4d2a-a6e1-d4cdaccc693f",
   "metadata": {},
   "source": [
    "This notebook demonstrates converting position and velocity vectors into orbital elements."
   ]
  },
  {
   "cell_type": "markdown",
   "id": "6e51f2fc-3601-4ed2-b348-bf2f222c450b",
   "metadata": {},
   "source": [
    "## Install and Import Libraries\n",
    "---"
   ]
  },
  {
   "cell_type": "markdown",
   "id": "e4e955a6-a6e5-47cb-b918-70e16a376971",
   "metadata": {},
   "source": [
    "First, install `valladopy` if it doesn't already exist in your environment:"
   ]
  },
  {
   "cell_type": "code",
   "execution_count": 1,
   "id": "1a6f22a9-f112-41d6-b817-dee0aed0860c",
   "metadata": {},
   "outputs": [
    {
     "name": "stdout",
     "output_type": "stream",
     "text": [
      "Requirement already satisfied: valladopy==0.3.0 in /opt/anaconda3/envs/vallado-env/lib/python3.12/site-packages (from -r valladopy_version.txt (line 1)) (0.3.0)\n",
      "Requirement already satisfied: numpy==1.26.4 in /opt/anaconda3/envs/vallado-env/lib/python3.12/site-packages (from valladopy==0.3.0->-r valladopy_version.txt (line 1)) (1.26.4)\n",
      "Requirement already satisfied: pydantic==2.9.2 in /opt/anaconda3/envs/vallado-env/lib/python3.12/site-packages (from valladopy==0.3.0->-r valladopy_version.txt (line 1)) (2.9.2)\n",
      "Requirement already satisfied: scipy==1.13.1 in /opt/anaconda3/envs/vallado-env/lib/python3.12/site-packages (from valladopy==0.3.0->-r valladopy_version.txt (line 1)) (1.13.1)\n",
      "Requirement already satisfied: annotated-types>=0.6.0 in /opt/anaconda3/envs/vallado-env/lib/python3.12/site-packages (from pydantic==2.9.2->valladopy==0.3.0->-r valladopy_version.txt (line 1)) (0.7.0)\n",
      "Requirement already satisfied: pydantic-core==2.23.4 in /opt/anaconda3/envs/vallado-env/lib/python3.12/site-packages (from pydantic==2.9.2->valladopy==0.3.0->-r valladopy_version.txt (line 1)) (2.23.4)\n",
      "Requirement already satisfied: typing-extensions>=4.6.1 in /opt/anaconda3/envs/vallado-env/lib/python3.12/site-packages (from pydantic==2.9.2->valladopy==0.3.0->-r valladopy_version.txt (line 1)) (4.12.2)\n"
     ]
    }
   ],
   "source": [
    "!pip install -r valladopy_version.txt"
   ]
  },
  {
   "cell_type": "markdown",
   "id": "3d7b4d30-a8d5-48ba-b48c-c0036c5d3cb9",
   "metadata": {},
   "source": [
    "Then import the relevant modules:"
   ]
  },
  {
   "cell_type": "code",
   "execution_count": 2,
   "id": "9f609038-657a-4538-b4d7-92b0848e2c33",
   "metadata": {},
   "outputs": [],
   "source": [
    "import numpy as np\n",
    "from valladopy.astro.twobody.frame_conversions import rv2coe"
   ]
  },
  {
   "cell_type": "markdown",
   "id": "213118e8-dd46-4669-ac14-cc6d023d70d9",
   "metadata": {},
   "source": [
    "## Problem Definition\n",
    "---"
   ]
  },
  {
   "cell_type": "markdown",
   "id": "c2e77c1b-cd94-49c6-bcc7-5291a14eeb20",
   "metadata": {},
   "source": [
    "GIVEN: $\\quad\\overrightarrow{r}_{IJK} = 6524.834 \\; \\hat{I} \\; + 6862.875 \\; \\hat{J} \\; + 6448.296 \\; \\hat{K}$ km<br>\n",
    "       $\\quad\\quad\\quad\\quad\\overrightarrow{v}_{IJK} = 4.901327 \\; \\hat{I} \\; + 5.533756 \\; \\hat{J} \\; - 1.976341 \\; \\hat{K}$ km/s<br>\n",
    "FIND: $\\quad$Classical orbital elements"
   ]
  },
  {
   "cell_type": "code",
   "execution_count": 3,
   "id": "01eeb17c-e053-4cdd-a17e-3c9344258b86",
   "metadata": {},
   "outputs": [],
   "source": [
    "r = [6524.834, 6862.875, 6448.296]   # km\n",
    "v = [4.901327, 5.533756, -1.976341]  # km/s"
   ]
  },
  {
   "cell_type": "markdown",
   "id": "50df158f-6037-44d2-989a-5259d9740fc7",
   "metadata": {},
   "source": [
    "## Solution\n",
    "---"
   ]
  },
  {
   "cell_type": "markdown",
   "id": "ec014a15-7266-47fd-a29b-93ef388195fc",
   "metadata": {},
   "source": [
    "**Algorithm 9** outlines the process for converting state vectors to classical orbit elements. \n",
    "\n",
    "The angular momentum and node vectors can be found with:\n",
    "\n",
    "$$\n",
    "\\vec{h} = \\vec{r} \\times \\vec{v},\\quad n = \\vec{K} \\times \\vec{h}\n",
    "$$\n",
    "\n",
    "the eccentricity vector as:\n",
    "\n",
    "$$\n",
    "\\vec{e} = \\frac{\\left( v^2 - \\frac{\\mu}{r} \\right) \\vec{r} - \\left( \\vec{r} \\cdot \\vec{v} \\right) \\vec{v}}{\\mu}\n",
    "$$\n",
    "\n",
    "and the specific mechanical energy as:\n",
    "\n",
    "$$\n",
    "\\xi = \\frac{v^2}{2} - \\frac{\\mu}{r}\n",
    "$$\n",
    "\n",
    "For non-parabolic orbits:\n",
    "\n",
    "$$\n",
    "a = -\\frac{\\mu}{2\\xi}, \\quad p = a\\left(1 - e^2 \\right)\n",
    "$$\n",
    "\n",
    "And for parabolic orbits:\n",
    "\n",
    "$$\n",
    "p = \\frac{h^2}{\\mu} \\quad \\text{and} \\quad a = \\infty\n",
    "$$\n",
    "\n",
    "The inclination is also found with:\n",
    "\n",
    "$$\n",
    "\\cos i = \\frac{h_K}{\\lVert \\vec{h} \\rVert}\n",
    "$$\n",
    "\n",
    "The logic for determining the remaining angular orbital elements ($\\Omega$, $\\omega$, $\\nu$, $u$, and $\\lambda$) is further elaborated by **Algorithm 9** on page 116, where quadrant checks and special cases (elliptical equatorial, circular inclined, and circular equatorial) determine their values.\n",
    "\n",
    "We can call the `rv2coe` routine to accomplish this:"
   ]
  },
  {
   "cell_type": "code",
   "execution_count": 4,
   "id": "7e978ef9-0d4e-490d-96ac-c41f4b5a232b",
   "metadata": {},
   "outputs": [
    {
     "name": "stdout",
     "output_type": "stream",
     "text": [
      "Semiparameter:\t\t11067.80\tkm\n",
      "Semimajor axis:\t\t36127.34\tkm\n",
      "Eccentricity:\t\t0.8329\n",
      "Inclination:\t\t87.87\t\tdeg\n",
      "RAAN:\t\t\t227.90 deg\n",
      "Argument of periapsis:\t53.38\t\tdeg\n",
      "True anomaly:\t\t92.34\t\tdeg\n",
      "Mean anomaly:\t\t7.60\t\tdeg\n",
      "Argument of latitude:\t145.72\t\tdeg\n",
      "True longitude:\t\tnan\t\tdeg\n",
      "Longitude of periapsis:\tnan\t\tdeg\n",
      "\n",
      "Orbit type:\tOrbitType.EPH_INCLINED\n"
     ]
    }
   ],
   "source": [
    "p, a, ecc, incl, raan, argp, nu, m, arglat, truelon, lonper, orbit_type = rv2coe(r, v)\n",
    "\n",
    "print(f'Semiparameter:\\t\\t{p:.2f}\\tkm')\n",
    "print(f'Semimajor axis:\\t\\t{a:.2f}\\tkm')\n",
    "print(f'Eccentricity:\\t\\t{ecc:.4f}')\n",
    "print(f'Inclination:\\t\\t{np.degrees(incl):.2f}\\t\\tdeg')\n",
    "print(f'RAAN:\\t\\t\\t{np.degrees(raan):.2f} deg')\n",
    "print(f'Argument of periapsis:\\t{np.degrees(argp):.2f}\\t\\tdeg')\n",
    "print(f'True anomaly:\\t\\t{np.degrees(nu):.2f}\\t\\tdeg')\n",
    "print(f'Mean anomaly:\\t\\t{np.degrees(m):.2f}\\t\\tdeg')\n",
    "print(f'Argument of latitude:\\t{np.degrees(arglat):.2f}\\t\\tdeg')\n",
    "print(f'True longitude:\\t\\t{np.degrees(truelon):.2f}\\t\\tdeg')\n",
    "print(f'Longitude of periapsis:\\t{np.degrees(lonper):.2f}\\t\\tdeg\\n')\n",
    "print(f'Orbit type:\\t{orbit_type}')"
   ]
  },
  {
   "cell_type": "markdown",
   "id": "8392fedb-1e5d-4705-a3fb-f4e963a1d922",
   "metadata": {},
   "source": [
    "Based on the magnitude of eccentricity and inclination, we can see that this is an elliptical inclined orbit."
   ]
  }
 ],
 "metadata": {
  "kernelspec": {
   "display_name": "Python (Vallado Env)",
   "language": "python",
   "name": "vallado-env"
  },
  "language_info": {
   "codemirror_mode": {
    "name": "ipython",
    "version": 3
   },
   "file_extension": ".py",
   "mimetype": "text/x-python",
   "name": "python",
   "nbconvert_exporter": "python",
   "pygments_lexer": "ipython3",
   "version": "3.12.2"
  }
 },
 "nbformat": 4,
 "nbformat_minor": 5
}
