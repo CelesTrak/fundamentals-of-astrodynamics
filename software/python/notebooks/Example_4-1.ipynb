{
 "cells": [
  {
   "cell_type": "markdown",
   "id": "948f85a4-600e-49b1-8b61-38fc8cf4f155",
   "metadata": {},
   "source": [
    "# Example 4-1: Determining Parallax\n",
    "### _Fundamentals of Astrodynamics and Applications_, 5th Ed., 2022, p. 274-275"
   ]
  },
  {
   "cell_type": "markdown",
   "id": "c01f5a19-9bd3-4c10-81e0-defeb10e3c6b",
   "metadata": {},
   "source": [
    "This notebook demonstrates calculating parallax given the celestial body and date."
   ]
  },
  {
   "cell_type": "markdown",
   "id": "0b628c45-b5eb-4e22-a330-32e05772eda1",
   "metadata": {},
   "source": [
    "## Install and Import Libraries\n",
    "---"
   ]
  },
  {
   "cell_type": "markdown",
   "id": "a7a86a98-a460-4813-857d-bb44af772fe2",
   "metadata": {},
   "source": [
    "First, install `valladopy` if it doesn't already exist in your environment:"
   ]
  },
  {
   "cell_type": "code",
   "execution_count": 1,
   "id": "585927db-4096-4bd8-95c7-17f474def09f",
   "metadata": {},
   "outputs": [
    {
     "name": "stdout",
     "output_type": "stream",
     "text": [
      "Requirement already satisfied: valladopy in /opt/anaconda3/envs/vallado-env/lib/python3.12/site-packages (0.2.0)\n",
      "Requirement already satisfied: numpy==1.26.4 in /opt/anaconda3/envs/vallado-env/lib/python3.12/site-packages (from valladopy) (1.26.4)\n",
      "Requirement already satisfied: pydantic==2.9.2 in /opt/anaconda3/envs/vallado-env/lib/python3.12/site-packages (from valladopy) (2.9.2)\n",
      "Requirement already satisfied: scipy==1.13.1 in /opt/anaconda3/envs/vallado-env/lib/python3.12/site-packages (from valladopy) (1.13.1)\n",
      "Requirement already satisfied: annotated-types>=0.6.0 in /opt/anaconda3/envs/vallado-env/lib/python3.12/site-packages (from pydantic==2.9.2->valladopy) (0.7.0)\n",
      "Requirement already satisfied: pydantic-core==2.23.4 in /opt/anaconda3/envs/vallado-env/lib/python3.12/site-packages (from pydantic==2.9.2->valladopy) (2.23.4)\n",
      "Requirement already satisfied: typing-extensions>=4.6.1 in /opt/anaconda3/envs/vallado-env/lib/python3.12/site-packages (from pydantic==2.9.2->valladopy) (4.12.2)\n"
     ]
    }
   ],
   "source": [
    "!pip install valladopy"
   ]
  },
  {
   "cell_type": "markdown",
   "id": "303e7f4f-9eef-4884-b8ab-4ac760387c7c",
   "metadata": {},
   "source": [
    "Import the relevant modules:"
   ]
  },
  {
   "cell_type": "code",
   "execution_count": 2,
   "id": "2117147b-b02b-4d7a-8f28-223d7ecba8a4",
   "metadata": {},
   "outputs": [],
   "source": [
    "import numpy as np\n",
    "import valladopy.constants as const"
   ]
  },
  {
   "cell_type": "markdown",
   "id": "308e2557-8493-4729-bdbc-0a09e2b5270c",
   "metadata": {},
   "source": [
    "## Problem Definition\n",
    "---"
   ]
  },
  {
   "cell_type": "markdown",
   "id": "64b3c92e-b414-457b-aadc-f34bcd0cd50c",
   "metadata": {},
   "source": [
    "GIVEN: &ensp; Neptune on May 14, 1994, r = 29.664361 AU (1 AU = 149,597,870 km)<br>\n",
    "FIND: &emsp;$\\mathscr{P}_{helio}$ and $\\mathscr{P}_{geo}$"
   ]
  },
  {
   "cell_type": "code",
   "execution_count": 3,
   "id": "137638b3-1788-4319-9bb8-3864886fe1a5",
   "metadata": {},
   "outputs": [],
   "source": [
    "r_au = 29.664361  # Neptune's distance from the Sun in AU"
   ]
  },
  {
   "cell_type": "markdown",
   "id": "21941c48-feae-42a4-bafe-a1a6cd2470d5",
   "metadata": {},
   "source": [
    "## Solution\n",
    "---"
   ]
  },
  {
   "cell_type": "markdown",
   "id": "773aee09-7799-4ac0-a68b-c5fcab58d5f8",
   "metadata": {},
   "source": [
    "We first find the position vectors of Neptune to both the Sun and Earth at the given time. We can retreive this from the [NASA JPL Horizons system](https://ssd.jpl.nasa.gov/horizons) using their public API. This process is outlined in the [JPL Horizons Queries notebook](JPL_Horizons_Queries.ipynb) (see **State Vectors** section), but for this exercise, we will use the state vectors provided in the textbook example:"
   ]
  },
  {
   "cell_type": "code",
   "execution_count": 4,
   "id": "460a08c7-e23a-4885-a01d-4c7cd6e5b207",
   "metadata": {},
   "outputs": [],
   "source": [
    "rnep_earth = [-1757460712.2509, 3757470099.1416, 1576777174.1537]  # position vector from Neptune to Earth, km\n",
    "rnep_sun = [-1666604612.0985, 3868340828.5807, 1624846829.1305]    # position vector from Neptune to the Sun, km"
   ]
  },
  {
   "cell_type": "markdown",
   "id": "f178fcca-bc5e-4727-bea3-1fe1eb49a111",
   "metadata": {},
   "source": [
    "Additionally, we define the Neptune to site vector by adding the Neptune to Earth vector with the site vector:"
   ]
  },
  {
   "cell_type": "code",
   "execution_count": 5,
   "id": "eca825d9-1f3f-441c-a32b-52900987eff4",
   "metadata": {},
   "outputs": [
    {
     "name": "stdout",
     "output_type": "stream",
     "text": [
      "Neptune to site vector: [-1.75745433e+09  3.75747010e+09  1.57677717e+09] km\n"
     ]
    }
   ],
   "source": [
    "rnep_site = np.array(rnep_earth) + np.array([const.RE, 0, 0])\n",
    "\n",
    "print(f'Neptune to site vector: {rnep_site} km')"
   ]
  },
  {
   "cell_type": "markdown",
   "id": "2da6d739-c21d-450b-a837-d14c45f37b7a",
   "metadata": {},
   "source": [
    "The heliocentric parallax angle can be found with **Equation 4-29**:\n",
    "\n",
    "$$\n",
    "\\cos(\\mathscr{P}_{helio}) =\n",
    "\\frac{\\vec{r}_{Star\\oplus} \\cdot \\vec{r}_{Starc}}\n",
    "{\\left| \\vec{r}_{Star\\oplus} \\right| \\left| \\vec{r}_{Starc} \\right|}\n",
    "$$\n",
    "\n",
    "But because the distance to the object is much larger than the central axis, we can use the sine approximation in **Equation 4-30**:\n",
    "\n",
    "$$\n",
    "\\sin(\\mathscr{P}_{helio}) \\cong \\frac{a}{r_c}\n",
    "$$\n",
    "\n",
    "We'll demonstrate both for this exercise:"
   ]
  },
  {
   "cell_type": "code",
   "execution_count": 6,
   "id": "34ba90f5-7aec-4286-907b-ef69be921e19",
   "metadata": {},
   "outputs": [
    {
     "name": "stdout",
     "output_type": "stream",
     "text": [
      "parallax angle (approx):\t1.931835 deg,\t6954.6043\"\n",
      "parallax angle (exact):\t\t1.666447 deg,\t5999.2089\"\n"
     ]
    }
   ],
   "source": [
    "par_helio_1 = np.arcsin(1 / r_au)\n",
    "par_helio_2 = np.arccos(np.dot(rnep_sun, rnep_earth) / (np.linalg.norm(rnep_sun) * np.linalg.norm(rnep_earth)))\n",
    "\n",
    "print(f'parallax angle (approx):\\t{np.degrees(par_helio_1):.6f} deg,\\t{par_helio_1 / const.ARCSEC2RAD:.4f}\"')\n",
    "print(f'parallax angle (exact):\\t\\t{np.degrees(par_helio_2):.6f} deg,\\t{par_helio_2 / const.ARCSEC2RAD:.4f}\"')"
   ]
  },
  {
   "cell_type": "markdown",
   "id": "8b36a049-a6c5-467b-a940-3f3b36237d3a",
   "metadata": {},
   "source": [
    "where the central axis is the semimajor axis of the Earth's orbit, 1 AU.\n",
    "\n",
    "The approximation is close (~16%), but the angle doesn't seem very small. Neptune is relatively \"close\" to the Earth compared to the distance of most stars from the Earth.\n",
    "\n",
    "The geocentric parallax is found similarly:\n",
    "\n",
    "$$\n",
    "\\cos(\\mathscr{P}_{geo}) =\n",
    "\\frac{\\vec{r}_{\\odot} \\cdot \\vec{r}_c}\n",
    "{\\left| \\vec{r}_{\\odot} \\right| \\left| \\vec{r}_c \\right|}, \\quad\n",
    "\\sin(\\mathscr{P}_{geo }) \\cong \\frac{a}{r_c}\n",
    "$$"
   ]
  },
  {
   "cell_type": "code",
   "execution_count": 7,
   "id": "e5086a09-0a52-4bf1-94a9-21d22335cf59",
   "metadata": {},
   "outputs": [
    {
     "name": "stdout",
     "output_type": "stream",
     "text": [
      "parallax angle (approx):\t8.234856e-05 deg,\t0.2965\"\n",
      "parallax angle (exact):\t\t7.562526e-05 deg,\t0.2723\"\n"
     ]
    }
   ],
   "source": [
    "par_geo_1 = np.arcsin(const.RE / (r_au * const.AU2KM))\n",
    "par_geo_2 = np.arccos(np.dot(rnep_earth, rnep_site) / (np.linalg.norm(rnep_earth) * np.linalg.norm(rnep_site)))\n",
    "\n",
    "print(f'parallax angle (approx):\\t{np.degrees(par_geo_1):.6e} deg,\\t{par_geo_1 / const.ARCSEC2RAD:.4f}\"')\n",
    "print(f'parallax angle (exact):\\t\\t{np.degrees(par_geo_2):.6e} deg,\\t{par_geo_2 / const.ARCSEC2RAD:.4f}\"')"
   ]
  },
  {
   "cell_type": "markdown",
   "id": "0e239518-ca6c-43b4-b2fd-040ccabeff66",
   "metadata": {},
   "source": [
    "This value is much smaller due to the larger distance to the planet compared to the radius of the Earth. It is also within about 9% of the actual value."
   ]
  }
 ],
 "metadata": {
  "kernelspec": {
   "display_name": "Python (Vallado Env)",
   "language": "python",
   "name": "vallado-env"
  },
  "language_info": {
   "codemirror_mode": {
    "name": "ipython",
    "version": 3
   },
   "file_extension": ".py",
   "mimetype": "text/x-python",
   "name": "python",
   "nbconvert_exporter": "python",
   "pygments_lexer": "ipython3",
   "version": "3.12.2"
  }
 },
 "nbformat": 4,
 "nbformat_minor": 5
}
