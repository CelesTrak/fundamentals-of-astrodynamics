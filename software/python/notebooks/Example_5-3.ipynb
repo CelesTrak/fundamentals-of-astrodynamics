{
 "cells": [
  {
   "cell_type": "markdown",
   "id": "64686731-4f57-4742-99aa-10ecae43b078",
   "metadata": {},
   "source": [
    "# Example 5-3: Finding the Moon Position Vector\n",
    "### _Fundamentals of Astrodynamics and Applications_, 5th Ed., 2022, p. 294-295"
   ]
  },
  {
   "cell_type": "markdown",
   "id": "180e4951-3900-40f5-8f1c-704ac8ed6a9b",
   "metadata": {},
   "source": [
    "This notebook demonstrates calculating the geocentric position of the Moon given the date, time, and correctional parameters."
   ]
  },
  {
   "cell_type": "markdown",
   "id": "60055a6d-a9b1-4573-9278-ba4f9b90396a",
   "metadata": {},
   "source": [
    "## Install and Import Libraries\n",
    "---"
   ]
  },
  {
   "cell_type": "markdown",
   "id": "b5e9db36-44ba-43bd-9071-30585b3a6d38",
   "metadata": {},
   "source": [
    "First, install `valladopy` if it doesn't already exist in your environment:"
   ]
  },
  {
   "cell_type": "code",
   "execution_count": 1,
   "id": "4f06cef8-9440-4863-b788-6ab5d4409cb7",
   "metadata": {},
   "outputs": [
    {
     "name": "stdout",
     "output_type": "stream",
     "text": [
      "Requirement already satisfied: valladopy==0.4.1 in /opt/anaconda3/envs/vallado-env/lib/python3.12/site-packages (0.4.1)\n",
      "Requirement already satisfied: numpy==1.26.4 in /opt/anaconda3/envs/vallado-env/lib/python3.12/site-packages (from valladopy==0.4.1) (1.26.4)\n",
      "Requirement already satisfied: pydantic==2.9.2 in /opt/anaconda3/envs/vallado-env/lib/python3.12/site-packages (from valladopy==0.4.1) (2.9.2)\n",
      "Requirement already satisfied: scipy==1.13.1 in /opt/anaconda3/envs/vallado-env/lib/python3.12/site-packages (from valladopy==0.4.1) (1.13.1)\n",
      "Requirement already satisfied: annotated-types>=0.6.0 in /opt/anaconda3/envs/vallado-env/lib/python3.12/site-packages (from pydantic==2.9.2->valladopy==0.4.1) (0.7.0)\n",
      "Requirement already satisfied: pydantic-core==2.23.4 in /opt/anaconda3/envs/vallado-env/lib/python3.12/site-packages (from pydantic==2.9.2->valladopy==0.4.1) (2.23.4)\n",
      "Requirement already satisfied: typing-extensions>=4.6.1 in /opt/anaconda3/envs/vallado-env/lib/python3.12/site-packages (from pydantic==2.9.2->valladopy==0.4.1) (4.12.2)\n"
     ]
    }
   ],
   "source": [
    "!pip install valladopy==0.4.1"
   ]
  },
  {
   "cell_type": "markdown",
   "id": "fb43c6be-8904-4657-9a7c-38c0583a2dd5",
   "metadata": {},
   "source": [
    "Import `numpy` and the relevant `valladopy` modules:"
   ]
  },
  {
   "cell_type": "code",
   "execution_count": 2,
   "id": "092c73b8-e254-4dd2-90de-391f062c7bf2",
   "metadata": {},
   "outputs": [],
   "source": [
    "import numpy as np\n",
    "from valladopy.astro.celestial import moon\n",
    "from valladopy.mathtime.julian_date import convtime"
   ]
  },
  {
   "cell_type": "markdown",
   "id": "1b11e035-a76b-426b-aa29-48047580e433",
   "metadata": {},
   "source": [
    "## Problem Definition\n",
    "---"
   ]
  },
  {
   "cell_type": "markdown",
   "id": "b8df6ef8-3151-4a06-9351-80ace54af109",
   "metadata": {},
   "source": [
    "GIVEN: &ensp;April 27, 1994, 23:58:59.816 UTC<br>\n",
    "&emsp;&emsp;&emsp;&emsp;$\\Delta UT1 = -0.088972$s and $\\Delta AT = 28$s<br>\n",
    "FIND: &emsp;Geocentric position vector of the Moon"
   ]
  },
  {
   "cell_type": "code",
   "execution_count": 3,
   "id": "60aea474-e6a2-40dd-b4af-38b0d7544191",
   "metadata": {},
   "outputs": [],
   "source": [
    "year = 1994\n",
    "month = 4\n",
    "day = 27\n",
    "hour = 23\n",
    "minute = 58\n",
    "second = 59.816\n",
    "timezone = 0  # hours offset from UTC\n",
    "\n",
    "dut1 = -0.088972\n",
    "dat = 28"
   ]
  },
  {
   "cell_type": "markdown",
   "id": "b33ad596-1ffe-46d8-a6d9-7e89bfb657c2",
   "metadata": {},
   "source": [
    "## Solution\n",
    "---"
   ]
  },
  {
   "cell_type": "markdown",
   "id": "c9e8a6de-9228-42e3-a036-dc265ccd60ad",
   "metadata": {},
   "source": [
    "We begin by finding the Julian Date using the `convtime` routine (see [Example 3-7](Example_3-7.ipynb) for more details on this process), since we are also given the leap seconds and $\\Delta UT1$:"
   ]
  },
  {
   "cell_type": "code",
   "execution_count": 4,
   "id": "9fbcdcae-4cdc-47d8-bdea-69df0f90ac7a",
   "metadata": {},
   "outputs": [
    {
     "name": "stdout",
     "output_type": "stream",
     "text": [
      "Julian Date:\t2449470.4993\n"
     ]
    }
   ],
   "source": [
    "_, _, jd, jdfrac, *_ = convtime(year, month, day, hour, minute, second, timezone, dut1, dat)\n",
    "\n",
    "print(f'Julian Date:\\t{jd + jdfrac:.4f}')"
   ]
  },
  {
   "cell_type": "markdown",
   "id": "7ce39731-b96f-4ce3-91bc-78c34c7202b3",
   "metadata": {},
   "source": [
    "**Algorithm 31** outlines the steps to find the Moon position vector. First find the Julian centuries of TDB (letting $TDB \\cong TT$):\n",
    "\n",
    "$$\n",
    "T_{TDB} = \\frac{JD_{TDB} - 2,451,545.0}{36,525}\n",
    "$$\n",
    "\n",
    "The ecliptic longitude of the Moon is:\n",
    "\n",
    "\n",
    "$$\n",
    "\\begin{align*}\n",
    "\\lambda_{\\text{ecliptic ☾}} &= 218.32^\\circ + 481,\\!267.8813\\,T_{TDB} \\\\\n",
    "&\\quad + 6.29 \\sin(134.9^\\circ + 477,\\!198.85\\,T_{TDB}) \\\\\n",
    "&\\quad - 1.27 \\sin(259.2^\\circ - 413,\\!335.38\\,T_{TDB}) \\\\\n",
    "&\\quad + 0.66 \\sin(235.7^\\circ + 890,\\!534.23\\,T_{TDB}) \\\\\n",
    "&\\quad + 0.21 \\sin(269.9^\\circ + 954,\\!397.70\\,T_{TDB}) \\\\\n",
    "&\\quad - 0.19 \\sin(357.5^\\circ + 35,\\!999.05\\,T_{TDB}) \\\\\n",
    "&\\quad - 0.11 \\sin(186.6^\\circ + 966,\\!404.05\\,T_{TDB})\n",
    "\\end{align*}\n",
    "$$\n",
    "\n",
    "The ecliptic latitude of the Moon is:\n",
    "\n",
    "$$\n",
    "\\begin{align*}\n",
    "\\phi_{\\text{ecliptic } ☾} =\\ &5.13^\\circ \\sin(93.3 + 483,\\!202.03\\,T_{TDB}) \\\\\n",
    "&+ 0.28 \\sin(228.2 + 960,\\!400.87\\,T_{TDB}) \\\\\n",
    "&- 0.28 \\sin(318.3 + 6003.18\\,T_{TDB}) \\\\\n",
    "&- 0.17 \\sin(217.6 - 407,\\!332.20\\,T_{TDB})\n",
    "\\end{align*}\n",
    "$$\n",
    "\n",
    "The horizontal parallax is:\n",
    "\n",
    "$$\n",
    "\\begin{align*}\n",
    "\\mathscr{P} &= 0.9508^\\circ \\\\\n",
    "&\\quad + 0.0518 \\cos(134.9^\\circ + 477,\\!198.85\\,T_{TDB}) \\\\\n",
    "&\\quad + 0.0095 \\cos(259.2^\\circ - 413,\\!335.38\\,T_{TDB}) \\\\\n",
    "&\\quad + 0.0078 \\cos(235.7^\\circ + 890,\\!534.23\\,T_{TDB}) \\\\\n",
    "&\\quad + 0.0028 \\cos(269.9^\\circ + 954,\\!397.70\\,T_{TDB})\n",
    "\\end{align*}\n",
    "$$\n",
    "\n",
    "The obliquity of the ecliptic is:\n",
    "\n",
    "$$\n",
    "\\epsilon = 23.439291^\\circ - 0.0130042\\,T_{TDB} - 1.64 \\times 10^{-7}\\,T_{TDB}^2 + 5.04 \\times 10^{-7}\\,T_{TDB}^3\n",
    "$$\n",
    "\n",
    "Next, find the magnitude of the position vector:\n",
    "\n",
    "$$\n",
    "r_☾ = \\frac{R_{\\oplus\\ ☾}}{\\sin(\\mathscr{P})}\n",
    "$$\n",
    "\n",
    "Finally, the position vector is:\n",
    "\n",
    "$$\n",
    "\\vec{r}_☾ = r_☾ \\begin{bmatrix}\n",
    "\\cos(\\phi_{ecliptic\\ ☾})\\cos(\\lambda_{ecliptic\\ ☾}) \\\\\n",
    "\\cos(\\epsilon)\\cos(\\phi_{ecliptic\\ ☾})\\sin(\\lambda_{ecliptic\\ ☾}) - \\sin(\\epsilon)\\sin(\\phi_{ecliptic\\ ☾}) \\\\\n",
    "\\sin(\\epsilon)\\cos(\\phi_{ecliptic\\ ☾})\\sin(\\lambda_{ecliptic\\ ☾}) + \\cos(\\epsilon)\\sin(\\phi_{ecliptic\\ ☾})\n",
    "\\end{bmatrix}\n",
    "$$\n",
    "\n",
    "We can determine the right ascension and declination using **Equation 4-20**:\n",
    "\n",
    "$$\n",
    "\\begin{aligned}\n",
    "\\sin(\\delta) &= \\sin(\\phi_{ecliptic\\ ☾}) \\cos(\\epsilon) + \\cos(\\phi_{ecliptic\\ ☾}) \\sin(\\epsilon) \\sin(\\lambda_{ecliptic\\ ☾}) \\\\\n",
    "\\\\\n",
    "\\sin(\\alpha) &= \\frac{-sin(\\phi_{ecliptic\\ ☾}) \\sin(\\epsilon) + \\cos(\\phi_{ecliptic\\ ☾}) \\cos(\\epsilon) \\sin(\\lambda_{ecliptic\\ ☾})}{cos(\\delta)}\n",
    "\\end{aligned}\n",
    "$$\n",
    "\n",
    "Call the `moon.position` routine to accomplish this:"
   ]
  },
  {
   "cell_type": "code",
   "execution_count": 5,
   "id": "54cb4aa2-7e60-4929-8d7a-2f5949b44f0f",
   "metadata": {},
   "outputs": [
    {
     "name": "stdout",
     "output_type": "stream",
     "text": [
      "Moon position vector:\t[-134300.14875768 -311544.89187406 -126688.46735048]\tkm\n",
      "Right ascension:\t-113.32\tdeg\n",
      "Declination:\t\t-20.477\tdeg\n"
     ]
    }
   ],
   "source": [
    "rmoon, rtasc, decl = moon.position(jd + jdfrac)\n",
    "\n",
    "print(f'Moon position vector:\\t{rmoon}\\tkm')\n",
    "print(f'Right ascension:\\t{np.degrees(rtasc):.6}\\tdeg')\n",
    "print(f'Declination:\\t\\t{np.degrees(decl):.6}\\tdeg')"
   ]
  }
 ],
 "metadata": {
  "kernelspec": {
   "display_name": "Python (Vallado Env)",
   "language": "python",
   "name": "vallado-env"
  },
  "language_info": {
   "codemirror_mode": {
    "name": "ipython",
    "version": 3
   },
   "file_extension": ".py",
   "mimetype": "text/x-python",
   "name": "python",
   "nbconvert_exporter": "python",
   "pygments_lexer": "ipython3",
   "version": "3.12.2"
  }
 },
 "nbformat": 4,
 "nbformat_minor": 5
}
