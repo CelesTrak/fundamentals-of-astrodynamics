{
 "cells": [
  {
   "cell_type": "markdown",
   "id": "f73df5cd-0beb-46f4-91a0-384ff11cac84",
   "metadata": {},
   "source": [
    "# Example 2-4: Solving Kepler's Problem\n",
    "### _Fundamentals of Astrodynamics and Applications_, 5th Ed., 2022, p. 96"
   ]
  },
  {
   "cell_type": "markdown",
   "id": "0af42fd1-33b8-41c4-8bca-afb6385e64f7",
   "metadata": {},
   "source": [
    "This notebook demonstrates solving Kepler's problem by determining the state vectors at a future time from current state vectors and the time difference."
   ]
  },
  {
   "cell_type": "markdown",
   "id": "9a3f4722-7ccd-4463-8250-5e6b70d9fe94",
   "metadata": {},
   "source": [
    "## Install and Import Libraries\n",
    "---"
   ]
  },
  {
   "cell_type": "markdown",
   "id": "144522b4-14b7-48af-b6ff-ff2b5317fc6a",
   "metadata": {},
   "source": [
    "First, install `valladopy` if it doesn't already exist in your environment:"
   ]
  },
  {
   "cell_type": "code",
   "execution_count": 1,
   "id": "61933917-1e68-4de6-81b2-319f705ea271",
   "metadata": {},
   "outputs": [
    {
     "name": "stdout",
     "output_type": "stream",
     "text": [
      "Requirement already satisfied: valladopy in /opt/anaconda3/envs/vallado-env/lib/python3.12/site-packages (0.2.0)\n",
      "Requirement already satisfied: numpy==1.26.4 in /opt/anaconda3/envs/vallado-env/lib/python3.12/site-packages (from valladopy) (1.26.4)\n",
      "Requirement already satisfied: pydantic==2.9.2 in /opt/anaconda3/envs/vallado-env/lib/python3.12/site-packages (from valladopy) (2.9.2)\n",
      "Requirement already satisfied: scipy==1.13.1 in /opt/anaconda3/envs/vallado-env/lib/python3.12/site-packages (from valladopy) (1.13.1)\n",
      "Requirement already satisfied: annotated-types>=0.6.0 in /opt/anaconda3/envs/vallado-env/lib/python3.12/site-packages (from pydantic==2.9.2->valladopy) (0.7.0)\n",
      "Requirement already satisfied: pydantic-core==2.23.4 in /opt/anaconda3/envs/vallado-env/lib/python3.12/site-packages (from pydantic==2.9.2->valladopy) (2.23.4)\n",
      "Requirement already satisfied: typing-extensions>=4.6.1 in /opt/anaconda3/envs/vallado-env/lib/python3.12/site-packages (from pydantic==2.9.2->valladopy) (4.12.2)\n"
     ]
    }
   ],
   "source": [
    "!pip install valladopy"
   ]
  },
  {
   "cell_type": "markdown",
   "id": "ab06914f-f8f9-422b-9e28-f582bc0c8b22",
   "metadata": {},
   "source": [
    "Then import the relevant `valladopy` modules:"
   ]
  },
  {
   "cell_type": "code",
   "execution_count": 2,
   "id": "5c6370b3-09aa-4ea1-b55a-dd2e45580828",
   "metadata": {},
   "outputs": [],
   "source": [
    "from valladopy import constants as const\n",
    "from valladopy.astro.twobody.kepler import kepler"
   ]
  },
  {
   "cell_type": "markdown",
   "id": "f0bf4e2e-abb5-4dd8-85ae-ebc391c7af76",
   "metadata": {},
   "source": [
    "## Problem Definition\n",
    "---"
   ]
  },
  {
   "cell_type": "markdown",
   "id": "df2cf753-a58e-49c5-a1c3-f58fb36bb1d2",
   "metadata": {},
   "source": [
    "GIVEN: $\\quad\\overrightarrow{r}_{IJK} = 1131.340 \\; \\hat{I} \\; - 2282.343 \\; \\hat{J} \\; + 6672.423 \\; \\hat{K}$ km<br>\n",
    "       $\\quad\\quad\\quad\\quad\\overrightarrow{v}_{IJK} = -5.64305 \\; \\hat{I} \\; + 4.30333 \\; \\hat{J} \\; + 2.42879 \\; \\hat{K}$ km/s<br>\n",
    "       $\\quad\\quad\\quad\\quad\\Delta(t) = 40$ min<br>\n",
    "FIND: $\\quad$Position and velocity vectors at the future time"
   ]
  },
  {
   "cell_type": "code",
   "execution_count": 3,
   "id": "629a9b0e-1633-4450-842e-e319b04acd81",
   "metadata": {},
   "outputs": [],
   "source": [
    "ro = [1131.34, -2282.343, 6672.423]\n",
    "vo = [-5.64305, 4.30333, 2.42879]\n",
    "dtsec = 40 * const.MIN2SEC"
   ]
  },
  {
   "cell_type": "markdown",
   "id": "a295421b-b6e4-4059-8955-545c640f56ab",
   "metadata": {},
   "source": [
    "## Solution\n",
    "---"
   ]
  },
  {
   "cell_type": "markdown",
   "id": "5e52bb77-82fd-4faa-afe3-b57234a45f85",
   "metadata": {},
   "source": [
    "**Algorithm 8** is used to first find the semimajor axis $a$ (in km) from the specific mechanical energy (km<sup>2</sup>/s<sup>2</sup>):\n",
    "\n",
    "$$\n",
    "\\xi = \\frac{v_{o}^2}{2} - \\frac{\\mu}{r_{o}}\\text{,}\\quad a = -\\frac{\\mu}{2\\xi}\n",
    "$$\n",
    "\n",
    "where:\n",
    "\n",
    "$$\n",
    "\\alpha = \\frac{1}{a}\n",
    "$$\n",
    "\n",
    "Since the orbit is elliptical ($\\alpha$ > small tolerance), the approximate first guess is:\n",
    "\n",
    "$$\n",
    "\\chi_{o} = \\sqrt{\\mu}(\\Delta t)\\alpha\n",
    "$$\n",
    "\n",
    "where $\\Delta t$ is in seconds.\n",
    "\n",
    "This can then be iterated with the Newton-Raphson method (see **Algorithm 8** on p. 94-96 for more details).\n",
    "\n",
    "This computation is handled by the `kepler` routine, which solves for the future position and velocity given initial conditions and time."
   ]
  },
  {
   "cell_type": "code",
   "execution_count": 4,
   "id": "d0069308-90ab-4272-92ef-e2491d62ef83",
   "metadata": {},
   "outputs": [
    {
     "name": "stdout",
     "output_type": "stream",
     "text": [
      "r:\t[-4219.75275371  4363.0291884  -3958.76660513]\tkm\n",
      "v:\t[ 3.68986601 -1.91673476 -6.11251111]\t\tkm/s\n"
     ]
    }
   ],
   "source": [
    "r, v = kepler(ro, vo, dtsec)\n",
    "\n",
    "print(f'r:\\t{r}\\tkm')\n",
    "print(f'v:\\t{v}\\t\\tkm/s')"
   ]
  },
  {
   "cell_type": "markdown",
   "id": "e04ceb86-2d4e-4fa1-ab93-32e564a0e2da",
   "metadata": {},
   "source": [
    "You can optionally set the max iterations by including the `n_iters` option, which defaults to 50 iterations, e.g.:\n",
    "```\n",
    "r, v = kepler(ro, vo, dtsec, n_iters=100)\n",
    "```\n",
    "The routine will check for convergence and produce an error if the solution doesn't converge:"
   ]
  },
  {
   "cell_type": "code",
   "execution_count": 5,
   "id": "9f6686d7-b91f-4033-9ad6-503864e09089",
   "metadata": {},
   "outputs": [
    {
     "name": "stderr",
     "output_type": "stream",
     "text": [
      "Kepler not converged in 1 iterations for dtsec = 2400\n"
     ]
    }
   ],
   "source": [
    "r, v = kepler(ro, vo, dtsec, n_iters=1)"
   ]
  }
 ],
 "metadata": {
  "kernelspec": {
   "display_name": "Python (Vallado Env)",
   "language": "python",
   "name": "vallado-env"
  },
  "language_info": {
   "codemirror_mode": {
    "name": "ipython",
    "version": 3
   },
   "file_extension": ".py",
   "mimetype": "text/x-python",
   "name": "python",
   "nbconvert_exporter": "python",
   "pygments_lexer": "ipython3",
   "version": "3.12.2"
  }
 },
 "nbformat": 4,
 "nbformat_minor": 5
}
