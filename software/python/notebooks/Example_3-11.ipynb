{
 "cells": [
  {
   "cell_type": "markdown",
   "id": "e63ca547-42b8-4b2f-9373-c2609c465d76",
   "metadata": {},
   "source": [
    "# Example 3-11: Finding the Day of the Year\n",
    "### _Fundamentals of Astrodynamics and Applications_, 5th Ed., 2022, p. 201-202"
   ]
  },
  {
   "cell_type": "markdown",
   "id": "53f082d3-5b5a-4817-92dd-37530e04f287",
   "metadata": {},
   "source": [
    "This notebook demonstrates finding the day of the year from a given date (day, month, and year)."
   ]
  },
  {
   "cell_type": "markdown",
   "id": "67068ac8-4cf9-47b2-9abf-737d13759675",
   "metadata": {},
   "source": [
    "## Install and Import Libraries\n",
    "---"
   ]
  },
  {
   "cell_type": "markdown",
   "id": "7abe37dc-42ac-45ff-943a-e9b0ee7742fd",
   "metadata": {},
   "source": [
    "First, install `valladopy` if it doesn't already exist in your environment:"
   ]
  },
  {
   "cell_type": "code",
   "execution_count": 1,
   "id": "20257ad8-1678-4739-bf9f-cbd46b52aac4",
   "metadata": {},
   "outputs": [
    {
     "name": "stdout",
     "output_type": "stream",
     "text": [
      "Requirement already satisfied: valladopy in /opt/anaconda3/envs/vallado-env/lib/python3.12/site-packages (0.2.0)\n",
      "Requirement already satisfied: numpy==1.26.4 in /opt/anaconda3/envs/vallado-env/lib/python3.12/site-packages (from valladopy) (1.26.4)\n",
      "Requirement already satisfied: pydantic==2.9.2 in /opt/anaconda3/envs/vallado-env/lib/python3.12/site-packages (from valladopy) (2.9.2)\n",
      "Requirement already satisfied: scipy==1.13.1 in /opt/anaconda3/envs/vallado-env/lib/python3.12/site-packages (from valladopy) (1.13.1)\n",
      "Requirement already satisfied: annotated-types>=0.6.0 in /opt/anaconda3/envs/vallado-env/lib/python3.12/site-packages (from pydantic==2.9.2->valladopy) (0.7.0)\n",
      "Requirement already satisfied: pydantic-core==2.23.4 in /opt/anaconda3/envs/vallado-env/lib/python3.12/site-packages (from pydantic==2.9.2->valladopy) (2.23.4)\n",
      "Requirement already satisfied: typing-extensions>=4.6.1 in /opt/anaconda3/envs/vallado-env/lib/python3.12/site-packages (from pydantic==2.9.2->valladopy) (4.12.2)\n"
     ]
    }
   ],
   "source": [
    "!pip install valladopy"
   ]
  },
  {
   "cell_type": "markdown",
   "id": "ab200571-ff93-4fef-8b59-849505576262",
   "metadata": {},
   "source": [
    "Import the relevant libraries and modules:"
   ]
  },
  {
   "cell_type": "code",
   "execution_count": 2,
   "id": "21a6e0fe-6e96-478d-a57b-c1a48243c871",
   "metadata": {},
   "outputs": [],
   "source": [
    "import calendar\n",
    "from datetime import datetime, timedelta\n",
    "from valladopy.mathtime.calendar import find_days"
   ]
  },
  {
   "cell_type": "markdown",
   "id": "1f016ed4-d1ec-4fc6-9823-88976ec8d091",
   "metadata": {},
   "source": [
    "## Problem Definition\n",
    "---"
   ]
  },
  {
   "cell_type": "markdown",
   "id": "b5fe97e4-89a9-4970-9c68-af5b60978ffa",
   "metadata": {},
   "source": [
    "GIVEN:&ensp;May 8, 1992<br>\n",
    "FIND: &emsp;Day of the Year"
   ]
  },
  {
   "cell_type": "code",
   "execution_count": 3,
   "id": "cbefcf4d-ab05-4e28-bf51-f0fd2ba48df6",
   "metadata": {},
   "outputs": [],
   "source": [
    "year = 1992\n",
    "month = 5\n",
    "day = 8"
   ]
  },
  {
   "cell_type": "markdown",
   "id": "79e1ec37-fd3c-47f0-a1d7-1d55ebe20f08",
   "metadata": {},
   "source": [
    "## Solution\n",
    "---"
   ]
  },
  {
   "cell_type": "markdown",
   "id": "a105b140-90a2-4324-8066-3990655e1aed",
   "metadata": {},
   "source": [
    "The first step is to set up an array, *LMonth*, containing the length of each month in days. Then, modify this array if the year of interest is a leap year. For leap years, the length of days for February changes to 29:\n",
    "\n",
    "$$\n",
    "\\begin{aligned}\n",
    "\\text{IF} \\left( Yr \\ \\text{MOD 4} \\right) = 0 \\ \\text{THEN} \\\\\n",
    "LMonth \\left[1\\right] = 29\n",
    "\\end{aligned}\n",
    "$$\n",
    "\n",
    "where 1 is the 2nd index of the array (Python uses 0-based indexing).\n",
    "\n",
    "Leap years occur in years evenly divisible by 4, and in centuries evenly divisible by 400. This simplified rule is valid for most years, but not for century years that are not divisible by 400 (e.g., 1900 is not a leap year).\n",
    "\n",
    "We can leverage the `calendar` library to create this array with the leap year logic already incorporated: "
   ]
  },
  {
   "cell_type": "code",
   "execution_count": 4,
   "id": "61bf9d48-8e09-437d-8051-e283d7c02278",
   "metadata": {},
   "outputs": [],
   "source": [
    "lmonth = [calendar.monthrange(year, m)[1] for m in range(1, 13)]"
   ]
  },
  {
   "cell_type": "markdown",
   "id": "32ee323d-8b36-4af2-8b3a-76eb4ebea1a9",
   "metadata": {},
   "source": [
    "Now, add the days of each month from the beginning of the year until you reach the month of interest, and then add the specific day of the month to this result:"
   ]
  },
  {
   "cell_type": "code",
   "execution_count": 5,
   "id": "1b996b1e-273b-49f0-a678-7c8446108204",
   "metadata": {},
   "outputs": [
    {
     "name": "stdout",
     "output_type": "stream",
     "text": [
      "Day of year: 129\n"
     ]
    }
   ],
   "source": [
    "day_of_year = sum(lmonth[:month - 1]) + day\n",
    "\n",
    "print(f'{\"Day of year:\":} {day_of_year}')"
   ]
  },
  {
   "cell_type": "markdown",
   "id": "7e00993d-88d9-466d-85ac-eee98190f312",
   "metadata": {},
   "source": [
    "We can also just use the `find_days` routine, which calculates the fractional day of the year:"
   ]
  },
  {
   "cell_type": "code",
   "execution_count": 6,
   "id": "8c619afb-1093-4127-ae74-3afbcd860e9e",
   "metadata": {},
   "outputs": [
    {
     "name": "stdout",
     "output_type": "stream",
     "text": [
      "Day of year: 129.0\n"
     ]
    }
   ],
   "source": [
    "day_of_year_alt = find_days(year, month, day, hour=0, minute=0, second=0)\n",
    "\n",
    "print(f'{\"Day of year:\":} {day_of_year_alt}')"
   ]
  },
  {
   "cell_type": "markdown",
   "id": "5ea74742-e91a-455d-9be8-daa4bde40109",
   "metadata": {},
   "source": [
    "(note that this is a float since it returns the fractional days)"
   ]
  },
  {
   "cell_type": "markdown",
   "id": "f405c543-9a21-4dc8-a22b-4a25a6d4aeb4",
   "metadata": {},
   "source": [
    "We can use the `datetime` library to reverse this process, where we define a `datetime` object at the start of the year and then add the days using `timedelta`:"
   ]
  },
  {
   "cell_type": "code",
   "execution_count": 7,
   "id": "1cefd32e-3d50-478d-971f-6dbc5f4d768a",
   "metadata": {},
   "outputs": [
    {
     "name": "stdout",
     "output_type": "stream",
     "text": [
      "Month:\t5\n",
      "Day:\t8\n"
     ]
    }
   ],
   "source": [
    "date = datetime(year, 1, 1) + timedelta(days=day_of_year - 1)\n",
    "\n",
    "print(f'{\"Month:\":}\\t{date.month}')\n",
    "print(f'{\"Day:\":}\\t{date.day}')"
   ]
  },
  {
   "cell_type": "markdown",
   "id": "4e88fc10-6c50-48ef-90fd-4c556a9828ad",
   "metadata": {},
   "source": [
    "Note that the start of the year is on day 1, which is why we use `timedelta(days=day_of_year - 1)` instead of `timedelta(days=day_of_year)`.\n",
    "\n",
    "Alternatively, we can use `datetime`'s `strptime` method for simplicity:"
   ]
  },
  {
   "cell_type": "code",
   "execution_count": 8,
   "id": "2ed15fb1-da8f-4561-ad36-accf348af619",
   "metadata": {},
   "outputs": [
    {
     "name": "stdout",
     "output_type": "stream",
     "text": [
      "Month:\t5\n",
      "Day:\t8\n"
     ]
    }
   ],
   "source": [
    "dt = datetime.strptime(f\"{year} {day_of_year}\", \"%Y %j\")\n",
    "\n",
    "print(f'{\"Month:\":}\\t{dt.month}')\n",
    "print(f'{\"Day:\":}\\t{dt.day}')"
   ]
  },
  {
   "cell_type": "code",
   "execution_count": null,
   "id": "07668624-e1a6-4a2d-ace9-d9ebe242d890",
   "metadata": {},
   "outputs": [],
   "source": []
  }
 ],
 "metadata": {
  "kernelspec": {
   "display_name": "Python (Vallado Env)",
   "language": "python",
   "name": "vallado-env"
  },
  "language_info": {
   "codemirror_mode": {
    "name": "ipython",
    "version": 3
   },
   "file_extension": ".py",
   "mimetype": "text/x-python",
   "name": "python",
   "nbconvert_exporter": "python",
   "pygments_lexer": "ipython3",
   "version": "3.12.2"
  }
 },
 "nbformat": 4,
 "nbformat_minor": 5
}
