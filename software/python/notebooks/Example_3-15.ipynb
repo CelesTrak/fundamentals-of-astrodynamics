{
 "cells": [
  {
   "cell_type": "markdown",
   "id": "41566e97-c5e3-467f-8c59-2ad719c4909f",
   "metadata": {},
   "source": [
    "# Example 3-15: Performing an *IAU-76/FK5* Reduction\n",
    "### _Fundamentals of Astrodynamics and Applications_, 5th Ed., 2022, p. 231-232"
   ]
  },
  {
   "cell_type": "markdown",
   "id": "47368bff-ae9f-48ec-a1de-9ebaf7f16697",
   "metadata": {},
   "source": [
    "This notebook demonstrates using the IAU-76/FK5 reductions to transform from the terrestrial (ITRF) coordinate system to the celestial (GCRF) coordinate system."
   ]
  },
  {
   "cell_type": "markdown",
   "id": "b9b4f847-73c4-4c70-b851-1c56c6e68a6e",
   "metadata": {},
   "source": [
    "## Install and Import Libraries\n",
    "---"
   ]
  },
  {
   "cell_type": "markdown",
   "id": "f08d0b0d-afc9-4b48-91b4-ead27d7e4e1c",
   "metadata": {},
   "source": [
    "First, install `valladopy` if it doesn't already exist in your environment:"
   ]
  },
  {
   "cell_type": "code",
   "execution_count": 1,
   "id": "40d33395-0825-48ca-97c7-3ac547f52988",
   "metadata": {},
   "outputs": [
    {
     "name": "stdout",
     "output_type": "stream",
     "text": [
      "Requirement already satisfied: valladopy in /opt/anaconda3/envs/vallado-env/lib/python3.12/site-packages (0.2.0)\n",
      "Requirement already satisfied: numpy==1.26.4 in /opt/anaconda3/envs/vallado-env/lib/python3.12/site-packages (from valladopy) (1.26.4)\n",
      "Requirement already satisfied: pydantic==2.9.2 in /opt/anaconda3/envs/vallado-env/lib/python3.12/site-packages (from valladopy) (2.9.2)\n",
      "Requirement already satisfied: scipy==1.13.1 in /opt/anaconda3/envs/vallado-env/lib/python3.12/site-packages (from valladopy) (1.13.1)\n",
      "Requirement already satisfied: annotated-types>=0.6.0 in /opt/anaconda3/envs/vallado-env/lib/python3.12/site-packages (from pydantic==2.9.2->valladopy) (0.7.0)\n",
      "Requirement already satisfied: pydantic-core==2.23.4 in /opt/anaconda3/envs/vallado-env/lib/python3.12/site-packages (from pydantic==2.9.2->valladopy) (2.23.4)\n",
      "Requirement already satisfied: typing-extensions>=4.6.1 in /opt/anaconda3/envs/vallado-env/lib/python3.12/site-packages (from pydantic==2.9.2->valladopy) (4.12.2)\n"
     ]
    }
   ],
   "source": [
    "!pip install valladopy"
   ]
  },
  {
   "cell_type": "markdown",
   "id": "89d263d9-ccd7-4577-9077-08a2398557b4",
   "metadata": {},
   "source": [
    "Import `os` and the relevant `valladopy` modules:"
   ]
  },
  {
   "cell_type": "code",
   "execution_count": 2,
   "id": "26c12eb4-646d-4d5c-8f56-8411a128839b",
   "metadata": {},
   "outputs": [],
   "source": [
    "import os\n",
    "\n",
    "import valladopy.constants as const\n",
    "from valladopy.astro.time.data import iau80in\n",
    "from valladopy.astro.time.frame_conversions import ecef2eci\n",
    "from valladopy.mathtime.julian_date import convtime"
   ]
  },
  {
   "cell_type": "markdown",
   "id": "fa5789ef-e7e6-470d-bf9a-62d623f405be",
   "metadata": {},
   "source": [
    "## Problem Definition\n",
    "---"
   ]
  },
  {
   "cell_type": "markdown",
   "id": "396b591d-eecc-4de0-afaf-8bd1160d00b8",
   "metadata": {},
   "source": [
    "GIVEN: $\\quad\\overrightarrow{r}_{ITRF} = -1033.479383 \\; \\hat{I} \\; + 7901.2952754 \\; \\hat{J} \\; + 6380.3565958 \\; \\hat{K}$ km<br>\n",
    "       $\\quad\\quad\\quad\\quad\\overrightarrow{v}_{ITRF} = -3.22563652 \\; \\hat{I} \\; - 2.87245145 \\; \\hat{J} \\; + 5.531924446 \\; \\hat{K}$ km/s<br>\n",
    "FIND:&emsp;$\\quad\\overrightarrow{r}_{GCRF},\\ \\overrightarrow{v}_{GCRF}$ on April 6, 2004, 07:51:28.386009 UTC"
   ]
  },
  {
   "cell_type": "code",
   "execution_count": 3,
   "id": "3cf4945c-d0fc-4e81-91fd-c1c6871e3c31",
   "metadata": {},
   "outputs": [],
   "source": [
    "# ITRF (i.e. ECEF) state vectors\n",
    "r_ecef = [-1033.479383, 7901.2952754, 6380.3565958]  # km\n",
    "v_ecef = [-3.22563652, -2.87245145, 5.531924446]     # km/s\n",
    "a_ecef = [0, 0, 0]                                   # dummy acceleration, km/s²\n",
    "\n",
    "# Date\n",
    "year = 2004\n",
    "month = 4\n",
    "day = 6\n",
    "hour = 7\n",
    "minute = 51\n",
    "second = 28.386009\n",
    "timezone = 0  # hours offset from UTC"
   ]
  },
  {
   "cell_type": "markdown",
   "id": "0bd0caf6-c40d-42ff-8c82-3d343738fe22",
   "metadata": {},
   "source": [
    "## Solution\n",
    "---"
   ]
  },
  {
   "cell_type": "markdown",
   "id": "2dfca4ef-7b36-43a0-82c9-d8b2627822e7",
   "metadata": {},
   "source": [
    "We first determine the time quantities prior to starting the problem, the same as we did in [Example 3-14](Example_3-14.ipynb), where:\n",
    "\n",
    "$$\n",
    "\\Delta AT = 32.0^{\\text{S}}\n",
    "$$\n",
    "\n",
    "And the EOP quantities are taken from the IERS's EOPC04 [final data](https://datacenter.iers.org/data/latestVersion/finals.all.iau2000.txt), with some converted from arcseconds to radians: "
   ]
  },
  {
   "cell_type": "code",
   "execution_count": 4,
   "id": "e20a3c06-de3a-4e6b-b6a6-1a7830d34db5",
   "metadata": {},
   "outputs": [],
   "source": [
    "# Leap seconds\n",
    "dat = 32                              # seconds\n",
    "\n",
    "# EOP quantities\n",
    "dut1 = -0.4399619                     # seconds\n",
    "xp = -0.140682 * const.ARCSEC2RAD     # radians\n",
    "yp = 0.333309 * const.ARCSEC2RAD      # radians\n",
    "lod = 0.0015563                       # seconds\n",
    "ddpsi = -0.052195 * const.ARCSEC2RAD  # radians\n",
    "ddeps = -0.003875 * const.ARCSEC2RAD  # radians"
   ]
  },
  {
   "cell_type": "markdown",
   "id": "e56230b4-e7ce-4788-b716-a7974f7e34b0",
   "metadata": {},
   "source": [
    "(These are the same non-interpolated values as in the previous example.)\n",
    "\n",
    "Next, convert UTC to various time systems using the `convtime` routine (see [Example 3-7](Example_3-7.ipynb) for more details on this process). We just need the Julian centuries of TT and the Julian date of UT1 for the final transformation:"
   ]
  },
  {
   "cell_type": "code",
   "execution_count": 5,
   "id": "35aca090-df97-47f0-b85b-14616ac7167f",
   "metadata": {},
   "outputs": [
    {
     "name": "stdout",
     "output_type": "stream",
     "text": [
      "Julian centuries of TT:\t0.04262363188899416\n"
     ]
    }
   ],
   "source": [
    "_, _, jdut1, jdut1frac, _, _, _, ttt, *_ = convtime(year, month, day, hour, minute, second, timezone, dut1, dat)\n",
    "\n",
    "print(f'Julian centuries of TT:\\t{ttt}')"
   ]
  },
  {
   "cell_type": "markdown",
   "id": "b5dcf81f-be47-4c5c-9356-cf00f3c386e4",
   "metadata": {},
   "source": [
    "In order to convert the fixed vectors (ITRF/ECEF) to inertial vectors (GCRF/ECI), we need to obtain the nutation matrices for the reduction calculations. The `iau80in` routine requires the nutation data to be present in a given data directory.\n",
    "\n",
    "Replace the following data directory definition with your preferred location. We will use the relative path from this notebook, assuming the same structure as [repository](https://github.com/CelesTrak/fundamentals-of-astrodynamics) to reach the `datalib` directory. The file name is hardcoded for now but is planned to be flexible in the future — make sure these are included in your data directory."
   ]
  },
  {
   "cell_type": "code",
   "execution_count": 6,
   "id": "1cf2863a-b84d-4617-a3d4-cb91376316bc",
   "metadata": {},
   "outputs": [
    {
     "name": "stdout",
     "output_type": "stream",
     "text": [
      "IAU 80 nutation matrices keys:\n",
      "dict_keys(['iar80', 'rar80'])\n",
      "\n"
     ]
    }
   ],
   "source": [
    "data_dir = \"../../../datalib/\"  # relative data path\n",
    "\n",
    "iau80arr = iau80in(data_dir)\n",
    "\n",
    "print(f'IAU 80 nutation matrices keys:\\n{iau80arr.__dict__.keys()}\\n')"
   ]
  },
  {
   "cell_type": "markdown",
   "id": "21ffcda2-5663-466c-888b-06b9e04e3c76",
   "metadata": {},
   "source": [
    "**Algorithm 24** summarizes the process of transforming the state vectors between the fixed and inertial coordinate systems using IAU-76/FK5 reduction.\n",
    "\n",
    "The precession matrix $P$ is:\n",
    "\n",
    "$$\n",
    "[\\mathbf{P}] = \\text{ROT3}(\\zeta) \\cdot \\text{ROT2}(-\\Theta) \\cdot \\text{ROT3}(z)\n",
    "$$\n",
    "\n",
    "where:\n",
    "\n",
    "$$\n",
    "\\begin{aligned}\n",
    "\\zeta &= 2306.2181^{\\prime\\prime} \\ T_{TT} + 0.30188 \\ T_{TT}^2 + 0.017998 \\ T_{TT}^3 \\\\\n",
    "\\\\\n",
    "\\Theta &= 2004.3109^{\\prime\\prime} \\ T_{TT} - 0.42665 \\ T_{TT}^2 - 0.041833 \\ T_{TT}^3 \\\\\n",
    "\\\\\n",
    "z &= 2306.2181^{\\prime\\prime} \\ T_{TT} + 1.09468 \\ T_{TT}^2 + 0.018203\\ T_{TT}^3 \\\\\n",
    "\\end{aligned}\n",
    "$$\n",
    "\n",
    "The nutation matrix is:\n",
    "\n",
    "$$\n",
    "[\\mathbf{N}] = \\text{ROT1}(-\\epsilon_{1980}) \\cdot \\text{ROT3}(\\Delta\\Psi_{1980}) \\cdot \\text{ROT1}(\\epsilon_{1980})\n",
    "$$\n",
    "\n",
    "where the mean obliquity of the ecliptic $\\epsilon_{1980}$ is:\n",
    "\n",
    "$$\n",
    "\\epsilon_{1980} = 84,381.448^{\\prime\\prime} - 46.815 \\ T_{TT} - 0.00059 \\ T_{TT}^2 + 0.001813 \\ T_{TT}^3\n",
    "$$\n",
    "\n",
    "and $\\Delta\\Psi_{1980}$ is the nutation in longitude and can be found with **Equation 3-86** (see p. 227 for details).\n",
    "\n",
    "The sidereal time rotation matrix $R$ is found with:\n",
    "\n",
    "$$\n",
    "[\\mathbf{R}] = \\text{ROT3}(-\\theta_{GAST1982})\n",
    "$$\n",
    "\n",
    "where $\\theta_{GAST1982}$ is the Greenwich apparent sidereal time (see **Equation 3-82** on p. 225 for details):\n",
    "\n",
    "The rotation matrix $W$ from ITRF to TIRS (to account for polar motion) is:\n",
    "\n",
    "$$\n",
    "[\\mathbf{W}] = \\text{ROT1}(y_p) \\cdot \\text{ROT2}(x_p) \\approx\n",
    "\\left[\\begin{array}{ccc}\n",
    "1 & 0 & -x_p \\\\\n",
    "0 & 1 & y_p \\\\\n",
    "x_p & -y_p & 1\n",
    "\\end{array} \\right]\\\\\n",
    "$$\n",
    "\n",
    "The GCRF (inertial) state vectors are then computed as:\n",
    "\n",
    "$$\n",
    "\\begin{aligned}\n",
    "\\vec{r}_{GCRF} &= [\\mathbf{P}][\\mathbf{N}][\\mathbf{R}][\\mathbf{W}]\\vec{r}_{ITRF} \\\\\n",
    "\\\\\n",
    "\\vec{v}_{GCRF} &= [\\mathbf{P}][\\mathbf{N}][\\mathbf{R}] \\left\\{ [\\mathbf{W}]\\vec{v}_{ITRF} + \\vec{\\omega}_\\oplus \\times \\vec{r}_{PEF} \\right\\}\n",
    "\\end{aligned}\n",
    "$$\n",
    "\n",
    "where $\\vec{\\omega}_\\oplus$ is the Earth rotation vector (with $LOD$ as the length of day in seconds):\n",
    "\n",
    "$$\n",
    "\\vec{\\omega}_\\oplus = \\left[ 0,\\ 0,\\ 7.292115146706979 \\times 10^{-5} \\right]\\left\\{ 1 - \\frac{LOD}{86400} \\right\\} \\ \\text{rad/s}\n",
    "$$\n",
    "\n",
    "and $\\vec{r_{PEF}}$ is simply:\n",
    "\n",
    "$$\n",
    "\\vec{r_{PEF}} = [\\mathbf{W}]_{\\text{ITRF-PEF}} \\ \\ \\vec{r_{ITRF}}\n",
    "$$\n",
    "\n",
    "(Note that the PEF frame here is analogous to the TIRS frame in the IAU-2006/2000 reduction calculations)\n",
    "\n",
    "All of this is handled internally by the `ecef2eci` routine, which applies the reduction using the provided EOP and nutation data:"
   ]
  },
  {
   "cell_type": "code",
   "execution_count": 7,
   "id": "748876b3-00de-4083-b629-19e97d321697",
   "metadata": {},
   "outputs": [
    {
     "name": "stdout",
     "output_type": "stream",
     "text": [
      "GCRF (ECI) state vectors:\n",
      "\n",
      "r_gcrf:\t[5102.50895792 6123.01140072 6378.13692819]\tkm\n",
      "v_gcrf:\t[-4.74322015  0.79053649  5.53375573]\t\tkm/s\n"
     ]
    }
   ],
   "source": [
    "r_eci, v_eci, _ = ecef2eci(r_ecef, v_ecef, a_ecef, ttt, jdut1+jdut1frac, lod, xp, yp, ddpsi, ddeps, iau80arr)\n",
    "\n",
    "print('GCRF (ECI) state vectors:\\n')\n",
    "print(f'r_gcrf:\\t{r_eci}\\tkm')\n",
    "print(f'v_gcrf:\\t{v_eci}\\t\\tkm/s')"
   ]
  },
  {
   "cell_type": "markdown",
   "id": "0e61beb1-eb82-44f0-a328-41944003b836",
   "metadata": {},
   "source": [
    "If we had chosen not to use the $\\delta\\Delta\\Psi_{1980}$ and $\\delta\\Delta\\epsilon_{1980}$ corrections, we find a vector that is close to the GCRF, but about a meter different:"
   ]
  },
  {
   "cell_type": "code",
   "execution_count": 8,
   "id": "0add139e-af60-4f1a-8e23-ef438b59c540",
   "metadata": {},
   "outputs": [
    {
     "name": "stdout",
     "output_type": "stream",
     "text": [
      "GCRF (ECI) state vectors:\n",
      "\n",
      "r_gcrf:\t[5102.50960002 6123.01152001 6378.13629999]\tkm\n",
      "v_gcrf:\t[-4.74321959  0.79053659  5.53375619]\t\tkm/s\n"
     ]
    }
   ],
   "source": [
    "ddpsi, ddeps = 0, 0\n",
    "r_eci, v_eci, _ =  ecef2eci(r_ecef, v_ecef, a_ecef, ttt, jdut1+jdut1frac, lod, xp, yp, ddpsi, ddeps, iau80arr)\n",
    "\n",
    "print('GCRF (ECI) state vectors:\\n')\n",
    "print(f'r_gcrf:\\t{r_eci}\\tkm')\n",
    "print(f'v_gcrf:\\t{v_eci}\\t\\tkm/s')"
   ]
  }
 ],
 "metadata": {
  "kernelspec": {
   "display_name": "Python (Vallado Env)",
   "language": "python",
   "name": "vallado-env"
  },
  "language_info": {
   "codemirror_mode": {
    "name": "ipython",
    "version": 3
   },
   "file_extension": ".py",
   "mimetype": "text/x-python",
   "name": "python",
   "nbconvert_exporter": "python",
   "pygments_lexer": "ipython3",
   "version": "3.12.2"
  }
 },
 "nbformat": 4,
 "nbformat_minor": 5
}
