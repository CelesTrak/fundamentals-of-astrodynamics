{
 "cells": [
  {
   "cell_type": "markdown",
   "id": "55e15685-5102-4f53-9f17-3de5255feb75",
   "metadata": {},
   "source": [
    "# Example 3-9: Finding HMS\n",
    "### _Fundamentals of Astrodynamics and Applications_, 5th Ed., 2022, p. 200"
   ]
  },
  {
   "cell_type": "markdown",
   "id": "46b2a3a8-f79b-4a64-b0e3-31f7c5cac102",
   "metadata": {},
   "source": [
    "This notebook demonstrates converting the hour-minute-second (HMS) format to radians and vice-versa."
   ]
  },
  {
   "cell_type": "markdown",
   "id": "dff00ac5-f36c-44b8-838e-b37291afe6a9",
   "metadata": {},
   "source": [
    "## Install and Import Libraries\n",
    "---"
   ]
  },
  {
   "cell_type": "markdown",
   "id": "156f9915-112c-4396-b0c1-df1d30104366",
   "metadata": {},
   "source": [
    "First, install `valladopy` if it doesn't already exist in your environment:"
   ]
  },
  {
   "cell_type": "code",
   "execution_count": 1,
   "id": "0c45edff-5c69-4685-adce-71dc1a8c26eb",
   "metadata": {},
   "outputs": [
    {
     "name": "stdout",
     "output_type": "stream",
     "text": [
      "Requirement already satisfied: valladopy in /opt/anaconda3/envs/vallado-env/lib/python3.12/site-packages (0.2.0)\n",
      "Requirement already satisfied: numpy==1.26.4 in /opt/anaconda3/envs/vallado-env/lib/python3.12/site-packages (from valladopy) (1.26.4)\n",
      "Requirement already satisfied: pydantic==2.9.2 in /opt/anaconda3/envs/vallado-env/lib/python3.12/site-packages (from valladopy) (2.9.2)\n",
      "Requirement already satisfied: scipy==1.13.1 in /opt/anaconda3/envs/vallado-env/lib/python3.12/site-packages (from valladopy) (1.13.1)\n",
      "Requirement already satisfied: annotated-types>=0.6.0 in /opt/anaconda3/envs/vallado-env/lib/python3.12/site-packages (from pydantic==2.9.2->valladopy) (0.7.0)\n",
      "Requirement already satisfied: pydantic-core==2.23.4 in /opt/anaconda3/envs/vallado-env/lib/python3.12/site-packages (from pydantic==2.9.2->valladopy) (2.23.4)\n",
      "Requirement already satisfied: typing-extensions>=4.6.1 in /opt/anaconda3/envs/vallado-env/lib/python3.12/site-packages (from pydantic==2.9.2->valladopy) (4.12.2)\n"
     ]
    }
   ],
   "source": [
    "!pip install valladopy"
   ]
  },
  {
   "cell_type": "markdown",
   "id": "ef22535a-0211-4715-9328-d84c97653d9c",
   "metadata": {},
   "source": [
    "Import `numpy` and the relevant `valladopy` modules:"
   ]
  },
  {
   "cell_type": "code",
   "execution_count": 2,
   "id": "a44f6589-3997-4d1d-83c0-36d73656f2e0",
   "metadata": {},
   "outputs": [],
   "source": [
    "import numpy as np\n",
    "from valladopy.mathtime.utils import hms2rad, rad2hms"
   ]
  },
  {
   "cell_type": "markdown",
   "id": "f605c822-1f20-41a5-8577-3cec38c9c2c8",
   "metadata": {},
   "source": [
    "## Problem Definition\n",
    "---"
   ]
  },
  {
   "cell_type": "markdown",
   "id": "bf80091f-9542-46a3-80a0-ef9f185ee59b",
   "metadata": {},
   "source": [
    "GIVEN: &ensp;$15^{\\text{h}}$, $15^{\\text{m}}$, $53.63^{\\text{s}}$<br>\n",
    "FIND: &emsp;$\\tau$"
   ]
  },
  {
   "cell_type": "code",
   "execution_count": 3,
   "id": "34e51384-c20b-4ed9-b7dd-a37d5d20e243",
   "metadata": {},
   "outputs": [],
   "source": [
    "hour = 15\n",
    "minute = 15\n",
    "second = 53.63"
   ]
  },
  {
   "cell_type": "markdown",
   "id": "da367a8f-1327-42c4-9ad0-3ccdcaeff94e",
   "metadata": {},
   "source": [
    "## Solution\n",
    "---"
   ]
  },
  {
   "cell_type": "markdown",
   "id": "8aeba12f-6265-43df-be33-e373aa641a75",
   "metadata": {},
   "source": [
    "**Algorithm 19** shows how to convert the hour-minute-second (HMS) format to radians:\n",
    "\n",
    "$$\n",
    "\\alpha = 15 \\left( h + \\frac{min}{60} + \\frac{s}{3600} \\right) \\ \\frac{\\pi}{180^{\\circ}}\n",
    "$$\n",
    "\n",
    "Call the `hms2rad` routine for the conversion:"
   ]
  },
  {
   "cell_type": "code",
   "execution_count": 4,
   "id": "05f977c0-92f6-4499-8ec9-fb4cb21b4b76",
   "metadata": {},
   "outputs": [
    {
     "name": "stdout",
     "output_type": "stream",
     "text": [
      "radians: 3.99634 rad\n"
     ]
    }
   ],
   "source": [
    "rad = hms2rad(hour, minute, second)\n",
    "\n",
    "print(f'{\"radians:\":} {rad:.6} rad')"
   ]
  },
  {
   "cell_type": "markdown",
   "id": "b213dbf9-3993-4d6f-8518-cac63727585f",
   "metadata": {},
   "source": [
    "**Algorithm 20** shows how to convert radians to hour-minute-second (HMS) format:\n",
    "\n",
    "$$\n",
    "\\begin{aligned}\n",
    "Temp &= \\tau \\frac{180^\\circ}{15\\pi} = \\tau \\frac{24^\\text{h}}{2\\pi} \\\\\n",
    "h &= \\text{TRUNC}(Temp) \\\\\n",
    "min &= \\text{TRUNC} \\left[ (Temp - h)\\ 60 \\right] \\\\\n",
    "s &= \\left[Temp - h - \\frac{min}{60} \\right]\\ 3600\n",
    "\\end{aligned}\n",
    "$$\n",
    "\n",
    "Call the `rad2hms` routine for the conversion:"
   ]
  },
  {
   "cell_type": "code",
   "execution_count": 5,
   "id": "820ce9ef-c16e-40d1-80c6-b8c8b78193cc",
   "metadata": {},
   "outputs": [
    {
     "name": "stdout",
     "output_type": "stream",
     "text": [
      "hours:\t\t15\thr\n",
      "minutes:\t15\tmin\n",
      "seconds:\t53.63\tsec\n"
     ]
    }
   ],
   "source": [
    "hours, minutes, secs = rad2hms(rad)\n",
    "\n",
    "print(f'{\"hours:\":}\\t\\t{hours}\\thr')\n",
    "print(f'{\"minutes:\":}\\t{minutes}\\tmin')\n",
    "print(f'{\"seconds:\":}\\t{secs:.6}\\tsec')"
   ]
  }
 ],
 "metadata": {
  "kernelspec": {
   "display_name": "Python (Vallado Env)",
   "language": "python",
   "name": "vallado-env"
  },
  "language_info": {
   "codemirror_mode": {
    "name": "ipython",
    "version": 3
   },
   "file_extension": ".py",
   "mimetype": "text/x-python",
   "name": "python",
   "nbconvert_exporter": "python",
   "pygments_lexer": "ipython3",
   "version": "3.12.2"
  }
 },
 "nbformat": 4,
 "nbformat_minor": 5
}
